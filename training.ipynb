{
 "cells": [
  {
   "cell_type": "markdown",
   "id": "b5658a91-89ba-4951-b762-aa07f8c4631b",
   "metadata": {
    "tags": []
   },
   "source": [
    "<img src=\"Swisens_logo.png\" width=\"240\" height=\"240\" align=\"left\"/>\n",
    "<div style=\"text-align: right\">\n",
    "    SwisensDataAnalyzer Introduction\n",
    "    <br>Machine Learning Model Training\n",
    "    <br>Author: <a href=\"mailto:yanick.zeder@swisens.ch\">Yanick Zeder</a>\n",
    "    <br> Copyright 2021, Swisens AG\n",
    "    <br> <a href=\"mailto:yanick.zeder@swisens.ch\"> Support </a>\n",
    "</div>\n",
    "Adapted and modified by MeteoSwiss."
   ]
  },
  {
   "cell_type": "markdown",
   "id": "5e131a44-c57c-47d0-914c-fc5b84acaf65",
   "metadata": {
    "tags": []
   },
   "source": [
    "# SwisensDataAnalyzer introduction - train ml models\n",
    "This notebook is a short introduction on how to train a machine learning model on the data stored in a Swisens database.\n",
    "\n",
    "## Prerequisites\n",
    "The following modules must be installed in your python environment:\n",
    "- `poleno_db_interface`\n",
    "- `poleno_ml`\n",
    "\n",
    "## Required knowledge\n",
    "- How to use the SwisensDataExplorer (especially how to create and work with datasets)\n",
    "\n",
    "## Known bugs\n",
    "- Swisens' data loading code sometimes crashes with error \"np.stack ValueError: need at least one array to stack\". Seems to happen only when few datasets are loaded (e.g. when loading only the spores collection).\n",
    "- EfficientNet suffers from a bug which makes it unable to be saved in TF2.10 ([source](https://discuss.tensorflow.org/t/using-efficientnetb0-and-save-model-will-result-unable-to-serialize-2-0896919-2-1128857-2-1081853-to-json-unrecognized-type-class-tensorflow-python-framework-ops-eagertensor/12518https://discuss.tensorflow.org/t/using-efficientnetb0-and-save-model-will-result-unable-to-serialize-2-0896919-2-1128857-2-1081853-to-json-unrecognized-type-class-tensorflow-python-framework-ops-eagertensor/12518)).\n",
    "\n",
    "## Content\n",
    "\n",
    "### Topics\n",
    "This notebook takes you along the ride to train a ml model on datasets on the Swisens Database. First, we will see how we can set up a training pipeline. Afterwards, the pipeline is used to train a basic ML model. Then, we check the model on the test data and evaluate using a confusion matrix. Finally, we apply the model to a time series from a SwisensPoleno to evaluate the real-world performance of the model.\n",
    "\n",
    "### Table of contents\n",
    "1. [Add your DB credentials and connect](#query)\n",
    "2. [Defining the datasets to use](#datasets)\n",
    "3. [Setup the database connection and the dataset pipeline](#pipeline)\n",
    "4. [Build the model](#model)\n",
    "5. [Model evaluation](#evaluate)"
   ]
  },
  {
   "cell_type": "markdown",
   "id": "bf4f8217-c285-4703-98bb-1efacfc042c9",
   "metadata": {
    "jp-MarkdownHeadingCollapsed": true,
    "tags": []
   },
   "source": [
    "### Imports"
   ]
  },
  {
   "cell_type": "code",
   "execution_count": 1,
   "id": "93182008-bce1-4315-a513-4502d2cd59d0",
   "metadata": {
    "execution": {
     "iopub.execute_input": "2022-12-14T13:22:17.835421Z",
     "iopub.status.busy": "2022-12-14T13:22:17.835078Z",
     "iopub.status.idle": "2022-12-14T13:22:17.840992Z",
     "shell.execute_reply": "2022-12-14T13:22:17.839826Z",
     "shell.execute_reply.started": "2022-12-14T13:22:17.835334Z"
    },
    "tags": []
   },
   "outputs": [],
   "source": [
    "import os, sys\n",
    "sys.path.append(\n",
    "    \"/tf/tmp/poleno-ml\"\n",
    ")\n",
    "sys.path.append(\n",
    "    \"/tf/tmp/poleno-db-interface/\"\n",
    ")"
   ]
  },
  {
   "cell_type": "code",
   "execution_count": 2,
   "id": "95cc27d3-074f-429e-895b-74c2bdbadd08",
   "metadata": {
    "execution": {
     "iopub.execute_input": "2022-12-14T13:22:17.843489Z",
     "iopub.status.busy": "2022-12-14T13:22:17.843039Z",
     "iopub.status.idle": "2022-12-14T13:22:22.522079Z",
     "shell.execute_reply": "2022-12-14T13:22:22.520931Z",
     "shell.execute_reply.started": "2022-12-14T13:22:17.843445Z"
    }
   },
   "outputs": [
    {
     "name": "stdout",
     "output_type": "stream",
     "text": [
      "Processing /tf/tmp/poleno-ml\n",
      "  Preparing metadata (setup.py) ... \u001b[?25ldone\n",
      "\u001b[?25hBuilding wheels for collected packages: poleno-ml\n",
      "  Building wheel for poleno-ml (setup.py) ... \u001b[?25ldone\n",
      "\u001b[?25h  Created wheel for poleno-ml: filename=poleno_ml-0.1.0-py3-none-any.whl size=16422 sha256=37dc4c771123c5f8dadd8435b0d1bec3d4b53442896aeb0646d1bd4dee06b5c1\n",
      "  Stored in directory: /root/.cache/pip/wheels/36/27/94/c36c0ca182dfe6d14b2ad2190409db7ec462f251c1019d9266\n",
      "Successfully built poleno-ml\n",
      "Installing collected packages: poleno-ml\n",
      "  Attempting uninstall: poleno-ml\n",
      "    Found existing installation: poleno-ml 0.1.0\n",
      "    Uninstalling poleno-ml-0.1.0:\n",
      "      Successfully uninstalled poleno-ml-0.1.0\n",
      "Successfully installed poleno-ml-0.1.0\n",
      "\u001b[33mWARNING: Running pip as the 'root' user can result in broken permissions and conflicting behaviour with the system package manager. It is recommended to use a virtual environment instead: https://pip.pypa.io/warnings/venv\u001b[0m\u001b[33m\n",
      "\u001b[0m"
     ]
    }
   ],
   "source": [
    "# run this if you made changes to the poleno-ml code \n",
    "# NB: Those changes must have been made to the /tf/tmp/poleno-ml repository to have an effect on this notebook's code.\n",
    "# NB: However, changes made to the tmp repository are temporary and will be rolled back when Docker VM will be shutdown.\n",
    "#     If you want to make them permanent, dupplicate them to /tf/home/dependencies/poleno-ml.\n",
    "!pip install /tf/tmp/poleno-ml"
   ]
  },
  {
   "cell_type": "code",
   "execution_count": 3,
   "id": "99b176c0",
   "metadata": {
    "execution": {
     "iopub.execute_input": "2022-12-14T13:22:22.524511Z",
     "iopub.status.busy": "2022-12-14T13:22:22.523683Z",
     "iopub.status.idle": "2022-12-14T13:22:29.699645Z",
     "shell.execute_reply": "2022-12-14T13:22:29.696860Z",
     "shell.execute_reply.started": "2022-12-14T13:22:22.524465Z"
    },
    "tags": []
   },
   "outputs": [
    {
     "name": "stdout",
     "output_type": "stream",
     "text": [
      "Failed for PhysicalDevice(name='/physical_device:CPU:0', device_type='CPU')\n",
      "Success for PhysicalDevice(name='/physical_device:GPU:0', device_type='GPU')\n",
      "Success for PhysicalDevice(name='/physical_device:GPU:1', device_type='GPU')\n"
     ]
    }
   ],
   "source": [
    "# Import all other necessary modules\n",
    "%load_ext autoreload\n",
    "%autoreload 2\n",
    "import cv2\n",
    "import datetime\n",
    "import io\n",
    "import itertools\n",
    "import json\n",
    "import math\n",
    "import matplotlib.pyplot as plt\n",
    "import numpy as np\n",
    "import operator\n",
    "import os\n",
    "import poleno_db_interface.database.model.data_explorer_model as dem\n",
    "import poleno_db_interface.database.model.poleno_data_model as pdm\n",
    "from poleno_ml.database.query_interface_ml import QueryInterfaceML, DatasetPipeline\n",
    "import random\n",
    "import sklearn.metrics\n",
    "from sqlalchemy import func\n",
    "import tensorflow as tf\n",
    "import tensorflow_addons as tfa\n",
    "import tensorflow.keras as keras\n",
    "from tqdm.notebook import tqdm\n",
    "from typing import List\n",
    "from uuid import UUID\n",
    "import uuid\n",
    "\n",
    "# allow memory growth\n",
    "for dev in tf.config.list_physical_devices():\n",
    "    try:\n",
    "        tf.config.experimental.set_memory_growth(\n",
    "            dev, True\n",
    "        )\n",
    "        print(f\"Success for {dev}\")\n",
    "    except:\n",
    "        print(f\"Failed for {dev}\")\n",
    "\n",
    "# specifies which PhysicalDevice objects are visible to the runtime. TF will only allocate memory and place operations on visible physical devices\n",
    "gpu0 = tf.config.list_physical_devices('GPU')[0] # use GPU 0\n",
    "tf.config.set_visible_devices(gpu0, 'GPU')\n",
    "tf.config.experimental.set_virtual_device_configuration(\n",
    "    gpu0, \n",
    "    [tf.config.experimental.VirtualDeviceConfiguration(memory_limit=25_000)] # set max GPU memory usage\n",
    ")"
   ]
  },
  {
   "cell_type": "raw",
   "id": "6187ed8f-3a3d-40d2-81db-596724043f06",
   "metadata": {},
   "source": [
    "# Using this strategy will place any variables created in its scope on the specified device. \n",
    "# Input distributed through this strategy will be prefetched to the specified device. \n",
    "# Moreover, any functions called via strategy.run will also be placed on the specified device as well.\n",
    "\n",
    "strategy = tf.distribute.OneDeviceStrategy(device='/gpu:0')"
   ]
  },
  {
   "cell_type": "markdown",
   "id": "368125b3-7b29-4203-87e3-2790c3a44665",
   "metadata": {
    "jp-MarkdownHeadingCollapsed": true,
    "tags": []
   },
   "source": [
    "### Establishing a database connection <a class=\"anchor\" id=\"query\"></a>"
   ]
  },
  {
   "cell_type": "code",
   "execution_count": 4,
   "id": "3c2ff41d-1093-439c-897a-bd48a3d42399",
   "metadata": {
    "execution": {
     "iopub.execute_input": "2022-12-14T13:22:29.702193Z",
     "iopub.status.busy": "2022-12-14T13:22:29.701863Z",
     "iopub.status.idle": "2022-12-14T13:22:30.244715Z",
     "shell.execute_reply": "2022-12-14T13:22:30.243599Z",
     "shell.execute_reply.started": "2022-12-14T13:22:29.702159Z"
    },
    "tags": []
   },
   "outputs": [],
   "source": [
    "import myloginpath\n",
    "db_config = myloginpath.parse('client', path='/tf/.mylogin.cnf')\n",
    "\n",
    "# Conect to the database and create an interface instance\n",
    "query_interface_ml = QueryInterfaceML(**db_config)"
   ]
  },
  {
   "cell_type": "markdown",
   "id": "6558f7f7-6e73-4eba-bde1-eab47bf0022e",
   "metadata": {
    "jp-MarkdownHeadingCollapsed": true,
    "tags": []
   },
   "source": [
    "### Defining the datasets and parameters to use <a class=\"anchor\" id=\"datasets\"></a>\n",
    "    \n",
    "<b>ATTENTION: If you change the values in here, make sure you delete all dataset cache files. These are called 'train_cache*' or 'test_cache*' and are located at the same location as this notebook. If you do not delete these caches, the training will run on the old dataset definition!!</b>"
   ]
  },
  {
   "cell_type": "code",
   "execution_count": 5,
   "id": "74a808a8-8a88-4523-b88c-4abb9fcb86d1",
   "metadata": {
    "execution": {
     "iopub.execute_input": "2022-12-14T13:22:30.247108Z",
     "iopub.status.busy": "2022-12-14T13:22:30.246332Z",
     "iopub.status.idle": "2022-12-14T13:22:30.343848Z",
     "shell.execute_reply": "2022-12-14T13:22:30.342128Z",
     "shell.execute_reply.started": "2022-12-14T13:22:30.247067Z"
    },
    "tags": []
   },
   "outputs": [],
   "source": [
    "# A dictionary that has the form of { <collection>: { <dataset-id>: <class-label> } }\n",
    "# Collection name can be choosen freely and is intended to enable grouping of datasets into logical\n",
    "# units independnet on class. Typically, this can be used to seperate datasets form different systems\n",
    "# but can also be used to separate different years, sample source or any other propertie. Later in the\n",
    "# notebook, you will then be able to create test and validation sets with different collections as\n",
    "# source.\n",
    "DATASET_DEFINITIONS = {\n",
    "    \n",
    "    \"raw-pollens\": {\n",
    "        \"11ea8493-7107-8db4-9bf7-ae7b87f820b4\": \"Alnus\",\n",
    "        \"11ea847a-f995-790c-830f-ae7b87f820b4\": \"Alnus\",\n",
    "        \"11ea8475-957e-347c-985a-ae7b87f820b4\": \"Alnus\",\n",
    "        \"11ea8897-f50e-66a2-9876-ae7b87f820b4\": \"Betula\",\n",
    "        \"11ea8632-18ed-7210-985a-ae7b87f820b4\": \"Betula\",\n",
    "        \"11ea8632-1eb2-2452-bc84-ae7b87f820b4\": \"Betula\",\n",
    "        \"11ea8f77-4ee3-aef4-b330-ae7b87f820b4\": \"Carpinus\",\n",
    "        \"11ea8f6d-3e75-9fe6-b46e-ae7b87f820b4\": \"Carpinus\",\n",
    "        \"11ea8f6d-1562-211a-8192-ae7b87f820b4\": \"Carpinus\",\n",
    "        \"11ea8f6c-b78c-d076-a542-ae7b87f820b4\": \"Carpinus\",\n",
    "        \"11ea8498-b729-d4e6-bc84-ae7b87f820b4\": \"Corylus\",\n",
    "        \"11ea8498-b083-cb92-a1a5-ae7b87f820b4\": \"Corylus\",\n",
    "        \"11ea8498-afa9-cec4-a877-ae7b87f820b4\": \"Corylus\",\n",
    "        \"11ea8fa9-6c12-723a-b3dd-ae7b87f820b4\": \"Cupressus\",\n",
    "        \"11ea8fa8-fafa-aeb4-ac46-ae7b87f820b4\": \"Cupressus\",\n",
    "        \"11ea8fa8-d163-dce2-b1cb-ae7b87f820b4\": \"Cupressus\",\n",
    "        \"11ea8636-313b-a6e4-a69e-ae7b87f820b4\": \"Fagus\",\n",
    "        \"11ea8635-ef91-6ab2-a877-ae7b87f820b4\": \"Fagus\",\n",
    "        \"11ea8635-eb18-6ee0-9876-ae7b87f820b4\": \"Fagus\",\n",
    "        \"11ea857e-7bc5-60a0-842e-ae7b87f820b4\": \"Fraxinus\",\n",
    "        \"11ea857b-3d52-9034-830f-ae7b87f820b4\": \"Fraxinus\",\n",
    "        \"11ea857b-150e-c372-bc84-ae7b87f820b4\": \"Fraxinus\",\n",
    "        \"11ea8af3-c533-f39e-8b25-ae7b87f820b4\": \"Pinaceae\",\n",
    "        \"11ea8af1-91fc-9a46-8b25-ae7b87f820b4\": \"Pinaceae\",\n",
    "        \"11ea8af0-83dc-6d66-b06c-ae7b87f820b4\": \"Pinaceae\",\n",
    "        \"11ea863d-acf6-0ade-985a-ae7b87f820b4\": \"Pinaceae\",\n",
    "        \"11ea863c-2449-be52-8814-ae7b87f820b4\": \"Pinaceae\",\n",
    "        \"11ea8b83-25c9-8194-90d1-ae7b87f820b4\": \"Platanus\",\n",
    "        \"11ea8881-3721-9aa8-a907-ae7b87f820b4\": \"Platanus\",\n",
    "        \"11ea990f-ee01-8334-b3dd-ae7b87f820b4\": \"Poaceae\",\n",
    "        \"11ea990c-b2bc-fe96-b46e-ae7b87f820b4\": \"Poaceae\",\n",
    "        \"11eb5fd9-961a-313e-ac56-ae7b87f820b4\": \"Poaceae\",\n",
    "        \"11eb5fd9-dd36-0a20-88f3-ae7b87f820b4\": \"Poaceae\",\n",
    "        \"11ebe542-660e-0206-80be-ae7b87f820b4\": \"Poaceae\",\n",
    "        \"11eb5fc3-03fa-6da2-8b42-ae7b87f820b4\": \"Poaceae\",\n",
    "        \"11ebe540-187e-9a0c-b0e2-ae7b87f820b4\": \"Poaceae\",\n",
    "        \"11ea8893-edfb-ca84-a877-ae7b87f820b4\": \"Populus\",\n",
    "        \"11ea84a0-e89b-43b8-a69e-ae7b87f820b4\": \"Populus\",\n",
    "        \"11ea84a0-a2f0-ab8c-a877-ae7b87f820b4\": \"Populus\",\n",
    "        \"11ea863e-1fea-0f7c-a1a5-ae7b87f820b4\": \"Quercus\",\n",
    "        \"11ea863e-1b86-8226-a1a5-ae7b87f820b4\": \"Quercus\",\n",
    "        \"11ea863d-f388-a038-a1a5-ae7b87f820b4\": \"Quercus\",\n",
    "        \"11ea8477-cede-e7dc-897d-ae7b87f820b4\": \"Taxus\",\n",
    "        \"11ea8477-b584-b690-830f-ae7b87f820b4\": \"Taxus\",\n",
    "        \"11ea8494-33a5-2e4e-bc84-ae7b87f820b4\": \"Taxus\",\n",
    "        \"11ea849c-df8f-d95e-897d-ae7b87f820b4\": \"Ulmus\",\n",
    "        \"11ea849c-db7b-2170-8b0f-ae7b87f820b4\": \"Ulmus\",\n",
    "        \"11ea849a-0e25-4018-8814-ae7b87f820b4\": \"Ulmus\",\n",
    "    },\n",
    "    \n",
    "    \"old-pollens\": {\n",
    "        \"11ea5df1-de4e-68a2-bdea-ae7b87f820b4\": \"Alnus\",\n",
    "        \"11ea5dec-aad2-40f2-adc5-ae7b87f820b4\": \"Alnus\",\n",
    "        \"11ea5dea-76dd-45e6-9881-ae7b87f820b4\": \"Alnus\",\n",
    "        \"11ea8318-8f19-8414-8f2c-ae7b87f820b4\": \"Betula\",\n",
    "        \"11ea831d-c087-d5fa-8016-ae7b87f820b4\": \"Betula\",\n",
    "        \"11ea8319-0f9b-2f84-8f2c-ae7b87f820b4\": \"Betula\",\n",
    "        \"11ea74ee-1ae2-3f42-bdc8-ae7b87f820b4\": \"Carpinus\",\n",
    "        \"11ea74ef-1f33-22e0-b530-ae7b87f820b4\": \"Carpinus\",\n",
    "        \"11ea74ef-7256-f794-8624-ae7b87f820b4\": \"Carpinus\",\n",
    "        \"11ea74ef-cf63-afc2-bdc8-ae7b87f820b4\": \"Carpinus\",\n",
    "        \"11ea5e04-fc94-364e-81ab-ae7b87f820b4\": \"Corylus\",\n",
    "        \"11ea5e04-ae5b-1ace-9881-ae7b87f820b4\": \"Corylus\",\n",
    "        \"11ea5e00-93c5-6f88-81ab-ae7b87f820b4\": \"Corylus\",\n",
    "        \"11ea74e8-0f90-f08a-9ea9-ae7b87f820b4\": \"Cupressus\",\n",
    "        \"11ea74ea-1a2b-69ec-9846-ae7b87f820b4\": \"Cupressus\",\n",
    "        \"11ea74ea-93f3-4862-bc81-ae7b87f820b4\": \"Cupressus\",\n",
    "        \"11ea831e-9169-688c-9d84-ae7b87f820b4\": \"Fagus\",\n",
    "        \"11ea831e-5779-4480-a7e8-ae7b87f820b4\": \"Fagus\",\n",
    "        \"11ea831e-0698-1618-8016-ae7b87f820b4\": \"Fagus\",\n",
    "        \"11ea8314-3a9a-8644-8fc4-ae7b87f820b4\": \"Fraxinus\",\n",
    "        \"11ea8313-8fef-2358-8016-ae7b87f820b4\": \"Fraxinus\",\n",
    "        \"11ea8313-1742-26b2-9d84-ae7b87f820b4\": \"Fraxinus\",\n",
    "        \"11ea8af1-16b3-afbe-b419-ae7b87f820b4\": \"Pinaceae\", # Picea\n",
    "        \"11ea8af1-8668-a68e-b06c-ae7b87f820b4\": \"Pinaceae\", # Picea\n",
    "        \"11ea8af0-7bba-7a4c-9b82-ae7b87f820b4\": \"Pinaceae\", # Picea\n",
    "        \"11ea863b-0dbc-a204-8b0f-ae7b87f820b4\": \"Pinaceae\", # Pinus\n",
    "        \"11ea863c-0128-16ee-a69e-ae7b87f820b4\": \"Pinaceae\", # Pinus\n",
    "        \"11ea831f-8774-33e2-b44c-ae7b87f820b4\": \"Plantanus\",\n",
    "        \"11ea831f-3746-b084-a59a-ae7b87f820b4\": \"Plantanus\",\n",
    "        \"11ea990d-99b7-329e-b330-ae7b87f820b4\": \"Poaceae\",\n",
    "        \"11ea990c-a115-87c6-b46e-ae7b87f820b4\": \"Poaceae\",\n",
    "        \"11ea9a91-09a7-100e-86f2-ae7b87f820b4\": \"Poaceae\", # Cynosurus\n",
    "        \"11ea9a73-0d84-81ca-b3dd-ae7b87f820b4\": \"Poaceae\", # Cynosurus\n",
    "        \"11ebde5f-23d5-5e8c-8d93-ae7b87f820b4\": \"Poaceae\", # Dactylis\n",
    "        \"11ea9911-17a1-65b4-89a8-ae7b87f820b4\": \"Poaceae\", # Dactylis\n",
    "        \"11ebde60-40fb-4aa2-a536-ae7b87f820b4\": \"Poaceae\", # Trisetum\n",
    "        \"11ea830f-df57-8bdc-91a3-ae7b87f820b4\": \"Populus\",\n",
    "        \"11ea74e3-b2e6-df38-b530-ae7b87f820b4\": \"Populus\",\n",
    "        \"11ea74e4-5089-a266-8624-ae7b87f820b4\": \"Populus\",\n",
    "        \"11ea863a-bdae-8df4-a69e-ae7b87f820b4\": \"Quercus\",\n",
    "        \"11ea863a-2252-7b54-a1a5-ae7b87f820b4\": \"Quercus\",\n",
    "        \"11ea8639-acca-ee52-aa3e-ae7b87f820b4\": \"Quercus\",\n",
    "        \"11ea5deb-b5f0-b38e-9881-ae7b87f820b4\": \"Taxus\",\n",
    "        \"11ea5deb-6fa4-5f7a-bd51-ae7b87f820b4\": \"Taxus\",\n",
    "        \"11ea5df3-6b53-0252-adc5-ae7b87f820b4\": \"Taxus\",\n",
    "        \"11ea74d0-dd4c-4d34-9ea9-ae7b87f820b4\": \"Ulmus\",\n",
    "        \"11ea74cf-fc64-b108-8624-ae7b87f820b4\": \"Ulmus\",\n",
    "        \"11ea5ef1-f146-eabe-ab02-ae7b87f820b4\": \"Ulmus\",\n",
    "    },\n",
    "    \n",
    "    \"new-pollens\": { # same datasets as in \"old-pollens\" but cleaned using a different strategy\n",
    "        \"11ed3b18-1ba8-ee6a-a8d4-496190c661df\": \"Alnus\",\n",
    "        \"11ed3821-9ab6-8dba-a8d4-496190c661df\": \"Alnus\",\n",
    "        \"11ed382b-542a-0dea-a8d4-496190c661df\": \"Alnus\",\n",
    "        \"11ed3832-b506-668e-a8d4-496190c661df\": \"Betula\",\n",
    "        \"11ed3a58-07b4-deb6-a8d4-496190c661df\": \"Betula\",\n",
    "        \"11ed38e1-b2f4-f996-a8d4-496190c661df\": \"Betula\",\n",
    "        \"11ed5ea4-96ed-bdf8-acbd-a95f70cb44b0\": \"Carpinus\",\n",
    "        \"11ed5f80-5dcc-9c24-acbd-a95f70cb44b0\": \"Carpinus\",\n",
    "        \"11ed3a6b-5612-556c-a8d4-496190c661df\": \"Carpinus\",\n",
    "        \"11ed3982-4837-efd6-a8d4-496190c661df\": \"Carpinus\",\n",
    "        \"11ed38e0-6bee-47ec-a8d4-496190c661df\": \"Corylus\",\n",
    "        \"11ed3a6f-f2ce-f140-a8d4-496190c661df\": \"Corylus\",\n",
    "        \"11ed431c-682d-5986-a8d4-496190c661df\": \"Corylus\",\n",
    "        \"11ed38ea-0973-6246-a8d4-496190c661df\": \"Cupressus\",\n",
    "        \"11ed3a79-1b42-92c2-a8d4-496190c661df\": \"Cupressus\",\n",
    "        \"11ed431e-c1e0-39ce-a8d4-496190c661df\": \"Cupressus\",\n",
    "        \"11ed3a7c-3218-626c-a8d4-496190c661df\": \"Fagus\",\n",
    "        \"11ed5f45-7fe1-e688-acbd-a95f70cb44b0\": \"Fagus\",\n",
    "        \"11ed5f7b-c645-a4b2-acbd-a95f70cb44b0\": \"Fagus\",\n",
    "        \"11ed3b22-8577-b13c-a8d4-496190c661df\": \"Fraxinus\",\n",
    "        \"11ed5f4a-52c3-34a4-acbd-a95f70cb44b0\": \"Fraxinus\",\n",
    "        \"11ed5f7e-c6f1-7f46-acbd-a95f70cb44b0\": \"Fraxinus\",\n",
    "        \"11ed3d7f-b12e-ad76-a8d4-496190c661df\": \"Pinaceae\", # Picea\n",
    "        \"11ed5f4d-49d0-5748-acbd-a95f70cb44b0\": \"Pinaceae\", # Picea\n",
    "        \"11ed5f82-2199-44da-acbd-a95f70cb44b0\": \"Pinaceae\", # Picea\n",
    "        \"11ed3d9b-7037-b6fc-a8d4-496190c661df\": \"Pinaceae\", # Pinus\n",
    "        \"11ed5494-ad56-7e64-acbd-a95f70cb44b0\": \"Pinaceae\", # Pinus\n",
    "        \"11ed5535-c71d-065a-acbd-a95f70cb44b0\": \"Pinaceae\", # Pinus\n",
    "        \"11ed55ce-5aaf-a2ae-acbd-a95f70cb44b0\": \"Pinaceae\", # Pinus\n",
    "        \"11ed55d0-cec8-bdae-acbd-a95f70cb44b0\": \"Pinaceae\", # Pinus\n",
    "        \"11ed55d5-a393-64c2-acbd-a95f70cb44b0\": \"Pinaceae\", # Pinus\n",
    "        \"11ed5907-4d09-f0b4-acbd-a95f70cb44b0\": \"Plantanus\",\n",
    "        \"11ed6006-a52a-2448-acbd-a95f70cb44b0\": \"Plantanus\",\n",
    "        \"11ed43d2-4043-b620-a8d4-496190c661df\": \"Poaceae\",\n",
    "        \"11ed6009-3e1d-3184-acbd-a95f70cb44b0\": \"Poaceae\",\n",
    "        \"11ed6030-3f50-655e-acbd-a95f70cb44b0\": \"Poaceae\", # Cynosurus\n",
    "        \"11ed6035-488e-4564-acbd-a95f70cb44b0\": \"Poaceae\", # Cynosurus\n",
    "        \"11ed6037-d194-cad4-acbd-a95f70cb44b0\": \"Poaceae\", # Cynosurus\n",
    "        \"11ed6039-e772-8574-acbd-a95f70cb44b0\": \"Poaceae\", # Cynosurus\n",
    "        \"11ed591a-064b-e868-acbd-a95f70cb44b0\": \"Poaceae\", # Cynosurus\n",
    "        \"11ed591c-0732-bf5c-acbd-a95f70cb44b0\": \"Poaceae\", # Cynosurus\n",
    "        \"11ed5922-9f70-fc56-acbd-a95f70cb44b0\": \"Poaceae\", # Cynosurus\n",
    "        \"11ed5925-0949-93b6-acbd-a95f70cb44b0\": \"Poaceae\", # Cynosurus\n",
    "        \"11ed5926-9845-1346-acbd-a95f70cb44b0\": \"Poaceae\", # Cynosurus\n",
    "        \"11ed6032-1974-ee34-acbd-a95f70cb44b0\": \"Poaceae\", # Dactylis\n",
    "        \"11ed6036-c877-51c0-acbd-a95f70cb44b0\": \"Poaceae\", # Dactylis\n",
    "        \"11ed603b-8b16-bcf8-acbd-a95f70cb44b0\": \"Poaceae\", # Dactylis\n",
    "        \"11ed6038-9eb8-c42a-acbd-a95f70cb44b0\": \"Poaceae\", # Dactylis\n",
    "        \"11ed6010-ad76-a770-acbd-a95f70cb44b0\": \"Poaceae\", # Dactylis\n",
    "        \"11ed4487-97ec-87e8-a8d4-496190c661df\": \"Poaceae\", # Trisetum\n",
    "        \"11ed5928-4b40-315a-acbd-a95f70cb44b0\": \"Populus\",\n",
    "        \"11ed6012-cffe-1c4a-acbd-a95f70cb44b0\": \"Populus\",\n",
    "        \"11ed6041-5f45-1876-acbd-a95f70cb44b0\": \"Populus\",\n",
    "        \"11ed5930-a266-322e-acbd-a95f70cb44b0\": \"Quercus\",\n",
    "        \"11ed601d-4f24-ca46-acbd-a95f70cb44b0\": \"Quercus\",\n",
    "        \"11ed6045-38bd-92ec-acbd-a95f70cb44b0\": \"Quercus\",\n",
    "        \"11ed59c8-6d52-bbaa-acbd-a95f70cb44b0\": \"Taxus\",\n",
    "        \"11ed602a-3932-49e0-acbd-a95f70cb44b0\": \"Taxus\",\n",
    "        \"11ed604c-7275-f1b2-acbd-a95f70cb44b0\": \"Taxus\",\n",
    "        \"11ed59ca-df2c-2188-acbd-a95f70cb44b0\": \"Ulmus\",\n",
    "        \"11ed602d-6874-225c-acbd-a95f70cb44b0\": \"Ulmus\",\n",
    "        \"11ed6048-9fb9-4b28-acbd-a95f70cb44b0\": \"Ulmus\",\n",
    "    },\n",
    "    \n",
    "    \"other\": {\n",
    "        \"11ed65b6-6a22-1968-b56b-ae7b87f820b4\": \"Artemisia\",\n",
    "        \"11ed463e-f09f-6456-b550-ae7b87f820b4\": \"Cedrus\",\n",
    "        \"11ec6179-fde0-042c-adac-ae7b87f820b4\": \"Iberulites\",\n",
    "        \"11ec617a-fb8b-e3f2-80fb-ae7b87f820b4\": \"Iberulites\",\n",
    "        \"11ec5821-b371-c3dc-8359-ae7b87f820b4\": \"Iberulites\",\n",
    "        \"11ec5832-4fee-03b4-8561-ae7b87f820b4\": \"Iberulites\",\n",
    "        \"11ebe542-f782-c172-bf10-ae7b87f820b4\": \"Waterdroplets\",\n",
    "        \"11ebeabd-e224-d5c4-8b63-ae7b87f820b4\": \"Waterdroplets\",\n",
    "        \"11ebedec-0da5-47ac-8066-ae7b87f820b4\": \"Waterdroplets\",\n",
    "        \"11ebee15-1fea-4c68-9cd6-ae7b87f820b4\": \"Waterdroplets\",\n",
    "    },\n",
    "    \n",
    "    \"spores\": {\n",
    "        \"11ebf9db-f2e9-98cc-bc67-ae7b87f820b4\": \"Alternaria Solani\",\n",
    "        \"11ec01b9-d571-ea8e-b7e1-ae7b87f820b4\": \"Fusarium Graminearum\",\n",
    "    },\n",
    "}"
   ]
  },
  {
   "cell_type": "code",
   "execution_count": 6,
   "id": "94d844c1-6637-4471-a841-e44a04568a4d",
   "metadata": {
    "execution": {
     "iopub.execute_input": "2022-12-14T13:22:30.348240Z",
     "iopub.status.busy": "2022-12-14T13:22:30.347882Z",
     "iopub.status.idle": "2022-12-14T13:22:30.411241Z",
     "shell.execute_reply": "2022-12-14T13:22:30.409689Z",
     "shell.execute_reply.started": "2022-12-14T13:22:30.348202Z"
    },
    "tags": []
   },
   "outputs": [],
   "source": [
    "model_name = 'real1'\n",
    "model_path = 'models'"
   ]
  },
  {
   "cell_type": "code",
   "execution_count": 7,
   "id": "caa66bbb",
   "metadata": {
    "execution": {
     "iopub.execute_input": "2022-12-14T13:22:30.414926Z",
     "iopub.status.busy": "2022-12-14T13:22:30.414517Z",
     "iopub.status.idle": "2022-12-14T13:22:30.480258Z",
     "shell.execute_reply": "2022-12-14T13:22:30.478896Z",
     "shell.execute_reply.started": "2022-12-14T13:22:30.414887Z"
    },
    "tags": []
   },
   "outputs": [],
   "source": [
    "batch_size = 8 # Can typically be left as is. Depending on your hardware you can try to increase the value to get better performance.\n",
    "epochs = 256\n",
    "img_shape = (200,200,1)\n",
    "model_features = [\n",
    "     'rec0', 'rec1'  \n",
    "] #Can typically be left as is. This defines on what data we want to train. Usually, we train on the two images 'rec0' and 'rec1'\n",
    "data_filters = [\n",
    "    #'blur', # remove blurry events\n",
    "    #'crop', # remove cropped events\n",
    "]\n",
    "data_maps = [\n",
    "    #'process_waves', # remove \"waves\" from all events\n",
    "    'holo_aug', # image augmentation\n",
    "]\n",
    "caching = True\n",
    "\n",
    "collections_train = [\n",
    "    #\"raw-pollens\",\n",
    "    #\"old-pollens\",\n",
    "    \"new-pollens\",\n",
    "    \"other\",\n",
    "    \"spores\",\n",
    "]\n",
    "\n",
    "# These two values only apply when collections_val is empty\n",
    "train_part = 0.7\n",
    "test_part = 0.3\n",
    "\n",
    "# Leave empty if you'd like to train and eval on the same collections\n",
    "collections_val = []\n",
    "\n",
    "classes = set(cls \n",
    "              for collection in collections_train + collections_val \n",
    "              for cls in DATASET_DEFINITIONS[collection].values())"
   ]
  },
  {
   "cell_type": "code",
   "execution_count": 8,
   "id": "de1ee9b7-b414-4d0e-a210-60c876339357",
   "metadata": {
    "execution": {
     "iopub.execute_input": "2022-12-14T13:22:30.481883Z",
     "iopub.status.busy": "2022-12-14T13:22:30.481582Z",
     "iopub.status.idle": "2022-12-14T13:22:30.542467Z",
     "shell.execute_reply": "2022-12-14T13:22:30.541402Z",
     "shell.execute_reply.started": "2022-12-14T13:22:30.481853Z"
    },
    "tags": []
   },
   "outputs": [],
   "source": [
    "os.makedirs(os.path.join(model_path, model_name, \"training\"), exist_ok=True)\n",
    "os.makedirs(os.path.join(model_path, model_name, \"model\"), exist_ok=True)\n",
    "ds_train_cache_path = os.path.join(model_path, model_name, 'training', f'train_cache_{\"_\".join(collections_train)}{\"_\" + \"_\".join(data_filters + data_maps) if len(data_filters + data_maps) > 0 else \"\"}')\n",
    "if len(collections_val) == 0:\n",
    "    cache_name = f'test_cache_{\"_\".join(collections_train)}'\n",
    "else:\n",
    "    cache_name = f'test_cache_{\"_\".join(collections_val)}'\n",
    "ds_val_cache_path = os.path.join(model_path, model_name, 'training', f'{cache_name}{\"_\" + \"_\".join(data_filters + data_maps) if len(data_filters + data_maps) > 0 else \"\"}')\n",
    "model_timestamp = datetime.datetime.now().strftime(\"%Y%m%d-%H%M%S\")\n",
    "checkpoint_file_path = os.path.join(model_path, model_name, 'training', 'checkpoints', model_timestamp)\n",
    "model_file_path = os.path.join(model_path, model_name, 'model')\n",
    "model_info_file_path = os.path.join(model_path, model_name, 'model', 'model_info.json')\n",
    "logdir = os.path.join(model_path, model_name, 'training', 'logs', model_timestamp)\n",
    "os.makedirs(logdir, exist_ok=True)"
   ]
  },
  {
   "cell_type": "code",
   "execution_count": 9,
   "id": "b5958366-6d3f-42a5-b2db-4b7d8d6eb7af",
   "metadata": {
    "execution": {
     "iopub.execute_input": "2022-12-14T13:22:30.544535Z",
     "iopub.status.busy": "2022-12-14T13:22:30.544245Z",
     "iopub.status.idle": "2022-12-14T13:22:30.594001Z",
     "shell.execute_reply": "2022-12-14T13:22:30.592796Z",
     "shell.execute_reply.started": "2022-12-14T13:22:30.544505Z"
    },
    "tags": []
   },
   "outputs": [],
   "source": [
    "# model's info to save on disk\n",
    "model_info = {\n",
    "    'model_name': model_name,\n",
    "    'model_timestamp': model_timestamp,\n",
    "    'batch_size': batch_size,\n",
    "    'model_features': model_features,\n",
    "    'data_filters': data_filters,\n",
    "    'data_maps': data_maps,\n",
    "    'collections_train': collections_train,\n",
    "    'train_part': train_part,\n",
    "    'test_part': test_part,\n",
    "    'collections_val': collections_val,\n",
    "    'classes': list(classes),\n",
    "    'DATASET_DEFINITIONS': DATASET_DEFINITIONS,\n",
    "}"
   ]
  },
  {
   "cell_type": "markdown",
   "id": "7d074e54-8821-4cd9-99cc-32e73df216f4",
   "metadata": {
    "jp-MarkdownHeadingCollapsed": true,
    "tags": []
   },
   "source": [
    "### Computed Values\n",
    "Here we define the class weights for unbalanced datasets, the class counts, the class labels and we compute the model name."
   ]
  },
  {
   "cell_type": "markdown",
   "id": "d693dd81-ded3-469e-ac9f-245e5f8525b9",
   "metadata": {},
   "source": [
    "First, we define some helper functions:"
   ]
  },
  {
   "cell_type": "code",
   "execution_count": 10,
   "id": "e24e7b74-6ca9-437d-bbdb-8b26ca07d9a4",
   "metadata": {
    "execution": {
     "iopub.execute_input": "2022-12-14T13:22:30.595693Z",
     "iopub.status.busy": "2022-12-14T13:22:30.595305Z",
     "iopub.status.idle": "2022-12-14T13:22:30.674665Z",
     "shell.execute_reply": "2022-12-14T13:22:30.673313Z",
     "shell.execute_reply.started": "2022-12-14T13:22:30.595652Z"
    },
    "tags": []
   },
   "outputs": [],
   "source": [
    "def get_dataset_mapping(ds_map: dict, collections: List[str], classes: List[str]):\n",
    "    \"\"\"This method filters a dataset definition for specific systems and class labels\n",
    "    and returns a flat dictionary with { <dataset-id>: <class-label> } \"\"\"\n",
    "    \n",
    "    ret = {}\n",
    "    for c in collections:\n",
    "        ret.update(\n",
    "            { key: value for key, value in ds_map[c].items() if value in classes}\n",
    "        )\n",
    "    return ret\n",
    "\n",
    "def get_dataset_sizes(ds_map_flat: dict):\n",
    "    \"\"\"Return a dict with <dataset-id>: <class-size>\"\"\"\n",
    "    \n",
    "    dataset_sizes = {}\n",
    "    for k, v in dataset_map.items():\n",
    "        result = query_interface_ml.session.query(\n",
    "            func.count(dem.EventsInEventDataset.event_id)\n",
    "        ).filter(\n",
    "            dem.EventsInEventDataset.dataset_id==uuid.UUID(k).bytes\n",
    "        ).all()\n",
    "        dataset_sizes[k] = result[0][0]\n",
    "    return dataset_sizes\n",
    "    \n",
    "def get_class_sizes(ds_map_flat: dict, dataset_sizes: dict):\n",
    "    \"\"\"Return a dict with <class-name>: <class-size>\"\"\"\n",
    "    \n",
    "    class_sizes = {}\n",
    "    for k, v in dataset_map.items():\n",
    "        size = dataset_sizes[k]\n",
    "        if v not in class_sizes: class_sizes[v] = 0\n",
    "        class_sizes[v] += size\n",
    "    return class_sizes\n",
    "\n",
    "def get_sorted_class_list(ds_map_flat: dict):\n",
    "    return sorted(list(set(ds_map_flat.values())))"
   ]
  },
  {
   "cell_type": "markdown",
   "id": "8c86d5aa-7390-4f1e-9efc-0a215708a2b7",
   "metadata": {},
   "source": [
    "... and then we can compute the values"
   ]
  },
  {
   "cell_type": "code",
   "execution_count": 11,
   "id": "599bc8ca-b765-4cd7-a647-76fe212866ce",
   "metadata": {
    "execution": {
     "iopub.execute_input": "2022-12-14T13:22:30.676660Z",
     "iopub.status.busy": "2022-12-14T13:22:30.676290Z",
     "iopub.status.idle": "2022-12-14T13:22:33.942252Z",
     "shell.execute_reply": "2022-12-14T13:22:33.940739Z",
     "shell.execute_reply.started": "2022-12-14T13:22:30.676622Z"
    },
    "tags": []
   },
   "outputs": [],
   "source": [
    "# Get the dataset collection you need for the training\n",
    "dataset_map = get_dataset_mapping(\n",
    "    DATASET_DEFINITIONS,\n",
    "    collections=collections_train,\n",
    "    classes=classes\n",
    ")\n",
    "assert len(dataset_map) > 0\n",
    "\n",
    "dataset_sizes = get_dataset_sizes(dataset_map)\n",
    "class_sizes = get_class_sizes(dataset_map, dataset_sizes)\n",
    "classes = get_sorted_class_list(dataset_map)\n",
    "num_classes = len(classes)\n",
    "\n",
    "n_samples = sum(dataset_sizes.values())\n",
    "class_counts = [class_sizes[d] for d in classes]\n",
    "class_weights = n_samples / np.array(class_counts)\n",
    "model_info['class_weights'] = list(class_weights)"
   ]
  },
  {
   "cell_type": "markdown",
   "id": "7cd092e8-80f5-4e86-aef2-d62a8fb8dc89",
   "metadata": {
    "jp-MarkdownHeadingCollapsed": true,
    "tags": []
   },
   "source": [
    "### Setup the dataset pipeline <a class=\"anchor\" id=\"pipeline\"></a>\n",
    "This step builds the dataset pipeline used later to train the model. Here we have to make the decision if we would like to validate on a part of the training dataset, or if we would like to define a seperate set of datasets for validation.\n",
    "\n",
    "If we use the same datasets for training as for validation, we have to define in what portions we would like to split the data into. Typically, we use 80% to 20% split."
   ]
  },
  {
   "cell_type": "markdown",
   "id": "cd01de7a-758e-4c86-acc3-1ab74d3e4fbf",
   "metadata": {
    "jp-MarkdownHeadingCollapsed": true,
    "tags": []
   },
   "source": [
    "#### Load train and validation sets"
   ]
  },
  {
   "cell_type": "code",
   "execution_count": 12,
   "id": "17c78e34-d206-46fe-83d6-04e3443ed6a5",
   "metadata": {
    "execution": {
     "iopub.execute_input": "2022-12-14T13:22:33.944857Z",
     "iopub.status.busy": "2022-12-14T13:22:33.944466Z",
     "iopub.status.idle": "2022-12-14T13:24:52.442020Z",
     "shell.execute_reply": "2022-12-14T13:24:52.440587Z",
     "shell.execute_reply.started": "2022-12-14T13:22:33.944817Z"
    },
    "tags": []
   },
   "outputs": [],
   "source": [
    "if len(collections_val) == 0:\n",
    "\n",
    "    dataset_train, dataset_val = query_interface_ml.prepare_tf_dataset_from_poleno_datasets(\n",
    "        dataset_list=list(dataset_map.keys()),\n",
    "        batch_size=batch_size,\n",
    "        model_features=model_features,\n",
    "        labels=classes,\n",
    "        dataset_label_mapping=dataset_map,\n",
    "        split=(train_part, test_part)\n",
    "    )\n",
    "\n",
    "else:\n",
    "    \n",
    "    dataset_map_val = get_dataset_mapping(\n",
    "        DATASET_DEFINITIONS,\n",
    "        collections=collections_val,\n",
    "        classes=classes\n",
    "    )\n",
    "    \n",
    "    dataset_train = query_interface_ml.prepare_tf_dataset_from_poleno_datasets(\n",
    "        dataset_list=list(dataset_map.keys()),\n",
    "        batch_size=batch_size,\n",
    "        model_features=model_features,\n",
    "        labels=classes,\n",
    "        dataset_label_mapping=dataset_map,\n",
    "    )\n",
    "    \n",
    "    dataset_val = query_interface_ml.prepare_tf_dataset_from_poleno_datasets(\n",
    "        dataset_list=list(dataset_map_val.keys()),\n",
    "        batch_size=batch_size,\n",
    "        model_features=model_features,\n",
    "        labels=classes,\n",
    "        dataset_label_mapping=dataset_map_val,\n",
    "    )\n",
    "    "
   ]
  },
  {
   "cell_type": "markdown",
   "id": "0f649c94-4c3c-46bf-a48f-a3fe81fdb695",
   "metadata": {
    "jp-MarkdownHeadingCollapsed": true,
    "tags": []
   },
   "source": [
    "#### Define then apply filters and maps (e.g. data augmentation)"
   ]
  },
  {
   "cell_type": "code",
   "execution_count": 13,
   "id": "7f733876-810b-4c5d-a0e8-f1d750c5523c",
   "metadata": {
    "execution": {
     "iopub.execute_input": "2022-12-14T13:24:52.443468Z",
     "iopub.status.busy": "2022-12-14T13:24:52.443248Z",
     "iopub.status.idle": "2022-12-14T13:24:52.492697Z",
     "shell.execute_reply": "2022-12-14T13:24:52.491615Z",
     "shell.execute_reply.started": "2022-12-14T13:24:52.443446Z"
    },
    "tags": []
   },
   "outputs": [],
   "source": [
    "# define data filters\n",
    "# filters out images where particles are cropped\n",
    "def filter_crop(rec0: tf.Tensor, rec1: tf.Tensor, T: float = .0001, BT: float = .85):\n",
    "    border = [0,rec0.shape[0]-1]\n",
    "    mask = np.array([\n",
    "        [1. if i in border or j in border else 0. for j in range(rec0.shape[1])]\n",
    "        for i in range(rec0.shape[0])\n",
    "    ]).reshape(*rec0.shape)\n",
    "    apply_filter_crop_ = lambda x: ((x.numpy()<BT)*mask).sum() / mask.sum() > T # return True if particle is cropped\n",
    "    return not apply_filter_crop_(rec0) and not apply_filter_crop_(rec1)\n",
    "apply_filter_crop = lambda ids, features, targets: tf.py_function( #py_function to work in eager mode (dataset operations are in graph mode by default)\n",
    "    filter_crop, [features['rec0'], features['rec1']], Tout=tf.bool\n",
    ")\n",
    "\n",
    "# filters out images where particles are blurry\n",
    "def filter_blur(rec0: tf.Tensor, rec1: tf.Tensor, T: float = .0014):\n",
    "    apply_filter_blur_ = lambda x: cv2.Laplacian(x.numpy(), cv2.CV_32F).var() < T # return True if image is blurred\n",
    "    return not apply_filter_blur_(rec0) and not apply_filter_blur_(rec1)\n",
    "apply_filter_blur = lambda ids, features, targets: tf.py_function( #py_function to work in eager mode (dataset operations are in graph mode by default)\n",
    "    filter_blur, [features['rec0'], features['rec1']], Tout=tf.bool\n",
    ")\n",
    "\n",
    "def filter_test(rec0: tf.Tensor, rec1: tf.Tensor):\n",
    "    apply_filter_test_ = lambda x: True\n",
    "    return not apply_filter_test_(rec0) and not apply_filter_test_(rec1)\n",
    "apply_filter_test = lambda ids, features, targets: tf.py_function( #py_function to work in eager mode (dataset operations are in graph mode by default)\n",
    "    filter_test, [features['rec0'], features['rec1']], Tout=tf.bool\n",
    ")"
   ]
  },
  {
   "cell_type": "code",
   "execution_count": 14,
   "id": "435b97ab-6010-4b06-8cbe-a134436069bf",
   "metadata": {
    "execution": {
     "iopub.execute_input": "2022-12-14T13:24:52.495634Z",
     "iopub.status.busy": "2022-12-14T13:24:52.495030Z",
     "iopub.status.idle": "2022-12-14T13:24:52.568771Z",
     "shell.execute_reply": "2022-12-14T13:24:52.566155Z",
     "shell.execute_reply.started": "2022-12-14T13:24:52.495596Z"
    },
    "tags": []
   },
   "outputs": [],
   "source": [
    "# define data maps:\n",
    "# removes \"waves\" around the particles\n",
    "def rmv_waves(rec: tf.Tensor):\n",
    "    img = (rec.numpy()*255).astype(np.uint8)\n",
    "    img = img.reshape(*img.shape[:-1])\n",
    "    blurred = cv2.GaussianBlur(img, (5, 5), 0)\n",
    "    _, mask = cv2.threshold(blurred, 0, 1, cv2.THRESH_BINARY + cv2.THRESH_OTSU)\n",
    "    cleaned = img * ~(mask).astype(bool)\n",
    "    return cleaned\n",
    "\n",
    "# performs random image augmentation\n",
    "upper = 120 * (math.pi/180.0) # degrees -> radian\n",
    "lower = -120 * (math.pi/180.0)\n",
    "def rand_degree():\n",
    "    return random.uniform(lower, upper)\n",
    "def augment_using_ops(img: tf.Tensor):\n",
    "    try: img = tf.image.random_flip_left_right(img)\n",
    "    except: print(\"flip hori\")\n",
    "    try: img = tf.image.random_flip_up_down(img)\n",
    "    except: print(\"flip vert\")\n",
    "    try: img = tf.image.random_brightness(img, 0.1)\n",
    "    except: print(\"brightness\")\n",
    "    try: img = tf.image.random_contrast(img, 0.7, 1.3)\n",
    "    except: print(\"contrast\")\n",
    "    try: img = tfa.image.rotate(img, rand_degree(), fill_mode='nearest') # fill_mode='constant', fill_value=1.\n",
    "    except: print(\"rotate\")\n",
    "    return img"
   ]
  },
  {
   "cell_type": "raw",
   "id": "4c98fdcb-849e-4901-b7ad-27b8a27649f7",
   "metadata": {
    "tags": []
   },
   "source": [
    "from tensorflow.keras import Sequential\n",
    "from tensorflow.keras.layers.experimental import preprocessing\n",
    "holo_aug_ = Sequential([\n",
    "\tpreprocessing.RandomFlip(\"horizontal_and_vertical\"),\n",
    "\tpreprocessing.RandomZoom(-0.05),\n",
    "\tpreprocessing.RandomRotation(0.2)\n",
    "])\n",
    "def holo_aug(tensor):\n",
    "    img = tensor.numpy()\n",
    "    aug = holo_aug_(img)\n",
    "    return aug"
   ]
  },
  {
   "cell_type": "code",
   "execution_count": 15,
   "id": "841c3ed4-3568-40c7-bca6-f21277e319d6",
   "metadata": {
    "execution": {
     "iopub.execute_input": "2022-12-14T13:24:52.572116Z",
     "iopub.status.busy": "2022-12-14T13:24:52.571576Z",
     "iopub.status.idle": "2022-12-14T13:24:52.646929Z",
     "shell.execute_reply": "2022-12-14T13:24:52.645123Z",
     "shell.execute_reply.started": "2022-12-14T13:24:52.572073Z"
    },
    "scrolled": true,
    "tags": []
   },
   "outputs": [],
   "source": [
    "def apply_custom_holo_map(func, *args):\n",
    "    func_ = lambda x: tf.reshape(\n",
    "        tf.convert_to_tensor(\n",
    "            tf.py_function(func, [x], Tout=[tf.float32]), \n",
    "            dtype=tf.float32),\n",
    "        img_shape)\n",
    "    args[1]['rec0'] = func_(args[1]['rec0'])\n",
    "    args[1]['rec1'] = func_(args[1]['rec1'])\n",
    "    return args"
   ]
  },
  {
   "cell_type": "raw",
   "id": "e8011bf5-9c58-4e92-949d-18cb11a0548c",
   "metadata": {
    "execution": {
     "iopub.execute_input": "2022-12-05T18:01:26.584445Z",
     "iopub.status.busy": "2022-12-05T18:01:26.584021Z",
     "iopub.status.idle": "2022-12-05T18:01:30.128063Z",
     "shell.execute_reply": "2022-12-05T18:01:30.126870Z",
     "shell.execute_reply.started": "2022-12-05T18:01:26.584408Z"
    },
    "tags": []
   },
   "source": [
    "ds = dataset_train.tf_dataset.unbatch()\n",
    "ds2 = ds.map(lambda *args: apply_custom_holo_map(augment_using_ops, *args), num_parallel_calls=tf.data.AUTOTUNE, deterministic=True)\n",
    "for ((_,features1,target1),(_,features2,target2)) in zip(ds.take(3),ds2.take(3)):\n",
    "    print(target1['target'].numpy(), target2['target'].numpy(), target1['target'].numpy() == target2['target'].numpy())\n",
    "    fig, ((ax1,ax2),(ax3,ax4)) = plt.subplots(2,2)\n",
    "    fig.suptitle(target1['target'].numpy(), fontsize=12)\n",
    "    ax1.imshow(features1['rec0'].numpy().reshape(200,200,1), cmap='gray')\n",
    "    ax2.imshow(features2['rec0'].numpy().reshape(200,200,1), cmap='gray')\n",
    "    ax3.imshow(features1['rec1'].numpy().reshape(200,200,1), cmap='gray')\n",
    "    ax4.imshow(features2['rec1'].numpy().reshape(200,200,1), cmap='gray')\n",
    "    plt.show()"
   ]
  },
  {
   "cell_type": "code",
   "execution_count": 16,
   "id": "ef37950a-3d1a-45dd-9164-6b9c00c8fcbe",
   "metadata": {
    "execution": {
     "iopub.execute_input": "2022-12-14T13:24:52.649440Z",
     "iopub.status.busy": "2022-12-14T13:24:52.649045Z",
     "iopub.status.idle": "2022-12-14T13:24:52.922026Z",
     "shell.execute_reply": "2022-12-14T13:24:52.920662Z",
     "shell.execute_reply.started": "2022-12-14T13:24:52.649399Z"
    },
    "scrolled": true,
    "tags": []
   },
   "outputs": [],
   "source": [
    "# apply data filters and data maps\n",
    "dataset_train.tf_dataset = dataset_train.tf_dataset.unbatch()\n",
    "dataset_val.tf_dataset = dataset_val.tf_dataset.unbatch()\n",
    "\n",
    "if 'blur' in data_filters:\n",
    "    dataset_train.tf_dataset = dataset_train.tf_dataset.filter(apply_filter_blur)\n",
    "    dataset_val.tf_dataset = dataset_val.tf_dataset.filter(apply_filter_blur)\n",
    "if 'crop' in data_filters:\n",
    "    dataset_train.tf_dataset = dataset_train.tf_dataset.filter(apply_filter_crop)\n",
    "    dataset_val.tf_dataset = dataset_val.tf_dataset.filter(apply_filter_crop)\n",
    "if 'process_waves' in data_maps:\n",
    "    dataset_train.tf_dataset = dataset_train.tf_dataset.map(lambda *args: apply_custom_holo_map(rmv_waves, *args), num_parallel_calls=tf.data.AUTOTUNE, deterministic=False)\n",
    "    dataset_val.tf_dataset = dataset_val.tf_dataset.map(lambda *args: apply_custom_holo_map(rmv_waves, *args), num_parallel_calls=tf.data.AUTOTUNE, deterministic=False)\n",
    "if 'holo_aug' in data_maps:\n",
    "    augmented_train = dataset_train.tf_dataset.map(lambda *args: apply_custom_holo_map(augment_using_ops, *args), num_parallel_calls=tf.data.AUTOTUNE, deterministic=False)\n",
    "    dataset_train.tf_dataset = dataset_train.tf_dataset.concatenate(augmented_train)"
   ]
  },
  {
   "cell_type": "markdown",
   "id": "5c6babf2-bc38-4f81-aec7-ee91c98008e0",
   "metadata": {
    "tags": []
   },
   "source": [
    "#### Cache, shuffle, batch, and prefetch"
   ]
  },
  {
   "cell_type": "code",
   "execution_count": 17,
   "id": "17a53246-2f33-4e79-bcb5-50d4c394d73e",
   "metadata": {
    "execution": {
     "iopub.execute_input": "2022-12-14T13:24:52.924186Z",
     "iopub.status.busy": "2022-12-14T13:24:52.923798Z",
     "iopub.status.idle": "2022-12-14T15:03:10.915913Z",
     "shell.execute_reply": "2022-12-14T15:03:10.914563Z",
     "shell.execute_reply.started": "2022-12-14T13:24:52.924146Z"
    },
    "scrolled": true,
    "tags": []
   },
   "outputs": [
    {
     "name": "stdout",
     "output_type": "stream",
     "text": [
      "ATTENTION: Remember to remove the cache file if you make changes to the dataset! Otherwise, the changes will not be reflected into the dataset and the trainingwill run on the old data.\n"
     ]
    },
    {
     "data": {
      "application/vnd.jupyter.widget-view+json": {
       "model_id": "",
       "version_major": 2,
       "version_minor": 0
      },
      "text/plain": [
       "Preparing cache:   0%|          | 0/146672 [00:00<?, ?it/s]"
      ]
     },
     "metadata": {},
     "output_type": "display_data"
    },
    {
     "name": "stdout",
     "output_type": "stream",
     "text": [
      "Caching is done.\n"
     ]
    }
   ],
   "source": [
    "# Cache the pipeline to a file in order to make subsequent training passes much faster\n",
    "if caching:\n",
    "    # Cache the pipeline to a file in order to make subsequent training passes much faster\n",
    "    dataset_train.enable_cache(ds_train_cache_path, prepare=True)"
   ]
  },
  {
   "cell_type": "code",
   "execution_count": 18,
   "id": "a1287110-dcec-4fec-9b19-a656338f472e",
   "metadata": {
    "execution": {
     "iopub.execute_input": "2022-12-14T15:03:10.918160Z",
     "iopub.status.busy": "2022-12-14T15:03:10.917731Z",
     "iopub.status.idle": "2022-12-14T15:16:54.962985Z",
     "shell.execute_reply": "2022-12-14T15:16:54.961517Z",
     "shell.execute_reply.started": "2022-12-14T15:03:10.918123Z"
    },
    "tags": []
   },
   "outputs": [
    {
     "name": "stdout",
     "output_type": "stream",
     "text": [
      "ATTENTION: Remember to remove the cache file if you make changes to the dataset! Otherwise, the changes will not be reflected into the dataset and the trainingwill run on the old data.\n"
     ]
    },
    {
     "data": {
      "application/vnd.jupyter.widget-view+json": {
       "model_id": "954a076785c24c2190dc27e1a92f4ed0",
       "version_major": 2,
       "version_minor": 0
      },
      "text/plain": [
       "Preparing cache:   0%|          | 0/62864 [00:00<?, ?it/s]"
      ]
     },
     "metadata": {},
     "output_type": "display_data"
    },
    {
     "name": "stdout",
     "output_type": "stream",
     "text": [
      "Caching is done.\n"
     ]
    }
   ],
   "source": [
    "if caching:\n",
    "    dataset_val.enable_cache(ds_val_cache_path, prepare=True)"
   ]
  },
  {
   "cell_type": "code",
   "execution_count": 19,
   "id": "41bd43a7-b369-4466-9660-94a082c03a92",
   "metadata": {
    "execution": {
     "iopub.execute_input": "2022-12-14T15:16:54.965637Z",
     "iopub.status.busy": "2022-12-14T15:16:54.964978Z",
     "iopub.status.idle": "2022-12-14T15:16:55.059433Z",
     "shell.execute_reply": "2022-12-14T15:16:55.058322Z",
     "shell.execute_reply.started": "2022-12-14T15:16:54.965595Z"
    },
    "tags": []
   },
   "outputs": [],
   "source": [
    "dataset_train.tf_dataset = dataset_train.tf_dataset.shuffle(batch_size*100).batch(batch_size).prefetch(tf.data.AUTOTUNE)\n",
    "dataset_val.tf_dataset = dataset_val.tf_dataset.shuffle(batch_size*100, reshuffle_each_iteration=False).batch(batch_size).prefetch(tf.data.AUTOTUNE)"
   ]
  },
  {
   "cell_type": "raw",
   "id": "9067a508-85a4-46c8-939e-b8349e3340bb",
   "metadata": {
    "execution": {
     "iopub.execute_input": "2022-12-05T17:22:39.621895Z",
     "iopub.status.busy": "2022-12-05T17:22:39.621481Z",
     "iopub.status.idle": "2022-12-05T17:23:39.165824Z",
     "shell.execute_reply": "2022-12-05T17:23:39.164012Z",
     "shell.execute_reply.started": "2022-12-05T17:22:39.621855Z"
    },
    "tags": []
   },
   "source": [
    "# run this to get the real number of events in the datasets\n",
    "# note: this can take a long time and fill your ram if the dataset's too large\n",
    "'%i train, %i validation' % (len(list(dataset_train.tf_dataset.as_numpy_iterator())), len(list(dataset_val.tf_dataset.as_numpy_iterator())))"
   ]
  },
  {
   "cell_type": "code",
   "execution_count": 20,
   "id": "84f9c892-3a63-4c8a-aa67-156c997fb9ee",
   "metadata": {
    "execution": {
     "iopub.execute_input": "2022-12-14T15:16:55.061334Z",
     "iopub.status.busy": "2022-12-14T15:16:55.060941Z",
     "iopub.status.idle": "2022-12-14T15:16:55.120439Z",
     "shell.execute_reply": "2022-12-14T15:16:55.119226Z",
     "shell.execute_reply.started": "2022-12-14T15:16:55.061291Z"
    },
    "tags": []
   },
   "outputs": [
    {
     "name": "stdout",
     "output_type": "stream",
     "text": [
      "dataset lengths: (train: 146672, val: 62864)\n",
      "number of classes: (train: 20, val: 20)\n"
     ]
    }
   ],
   "source": [
    "print(f\"dataset lengths: (train: {dataset_train.dataset_length}, val: {dataset_val.dataset_length})\")\n",
    "print(f\"number of classes: (train: {dataset_train.num_classes}, val: {dataset_val.num_classes})\")"
   ]
  },
  {
   "cell_type": "markdown",
   "id": "373f7a1d-3969-4a0b-b1a1-0138599b9fb3",
   "metadata": {
    "tags": []
   },
   "source": [
    "### Build the model <a class=\"anchor\" id=\"model\"></a>\n",
    "Now we can build the model we want to train. You can use any model you can imagine as long as the model has:\n",
    "- two inputs with the shape 200x200x1 with the names 'rec0' and 'rec1'\n",
    "- an output layer with the name 'target' and a dimension of #classes"
   ]
  },
  {
   "cell_type": "markdown",
   "id": "651abab8-ad5c-4f5a-bc37-25820cc06450",
   "metadata": {
    "jp-MarkdownHeadingCollapsed": true,
    "tags": []
   },
   "source": [
    "#### Pre-trained EffNet\n",
    "This uses transferlearning in order to get fast results. You can choose between 8 models B0 - B7, each a little larger than the previous. The way this is set up is that we remove the final layer of the pretrained network and add our own output layer corresponding to our classes.\n",
    "\n",
    "Note that in our testing, B0 is sufficient for most applications. With larger models you increase the tendency to overfit the data. If you have many classes and large datasets, you can consider increasing the model size."
   ]
  },
  {
   "cell_type": "code",
   "execution_count": 21,
   "id": "d6a702e9-a3e7-41d0-a15a-61918bd21c3f",
   "metadata": {
    "execution": {
     "iopub.execute_input": "2022-12-14T15:16:55.126657Z",
     "iopub.status.busy": "2022-12-14T15:16:55.126359Z",
     "iopub.status.idle": "2022-12-14T15:16:55.181126Z",
     "shell.execute_reply": "2022-12-14T15:16:55.179709Z",
     "shell.execute_reply.started": "2022-12-14T15:16:55.126627Z"
    },
    "tags": []
   },
   "outputs": [],
   "source": [
    "# WARNING: THIS IS NOT A GOOD IDEA TO DO IF YOU DOWNLOAD DATA FROM UNKNOW OR UNVERIFIED SOURCES !!!\n",
    "# THIS COULD INDUCE HUGE SECURITY RISKS.\n",
    "import ssl\n",
    "ssl._create_default_https_context = ssl._create_unverified_context"
   ]
  },
  {
   "cell_type": "code",
   "execution_count": 22,
   "id": "049435ae-c720-4cc8-b642-e4db32df4f45",
   "metadata": {
    "execution": {
     "iopub.execute_input": "2022-12-14T15:16:55.186290Z",
     "iopub.status.busy": "2022-12-14T15:16:55.185979Z",
     "iopub.status.idle": "2022-12-14T15:16:59.610449Z",
     "shell.execute_reply": "2022-12-14T15:16:59.609042Z",
     "shell.execute_reply.started": "2022-12-14T15:16:55.186258Z"
    },
    "tags": []
   },
   "outputs": [
    {
     "data": {
      "text/plain": [
       "'done'"
      ]
     },
     "execution_count": 22,
     "metadata": {},
     "output_type": "execute_result"
    }
   ],
   "source": [
    "inputs = []\n",
    "paths = []\n",
    "\n",
    "if \"rec0\" in model_features and \"rec1\" in model_features:\n",
    "    input0 = keras.layers.Input(shape=[200,200,1], name=\"rec0\")\n",
    "    inputs.append(input0)\n",
    "    input1 = keras.layers.Input(shape=[200,200,1], name=\"rec1\")\n",
    "    inputs.append(input1)\n",
    "\n",
    "    input0_reshape = keras.layers.Concatenate()([input0,input0,input0])\n",
    "    input1_reshape = keras.layers.Concatenate()([input1,input1,input1])\n",
    "    input0_reshape = input0_reshape * 255 # effnet expects [0, 255] data range\n",
    "    input1_reshape = input1_reshape * 255 # effnet expects [0, 255] data range\n",
    "\n",
    "    ###                                   -> VVVV <- Change here to B0 - B7 if needed.\n",
    "    effnetB0 = keras.applications.EfficientNetB0(input_shape=(200,200,3), \n",
    "                                                 drop_connect_rate=0.4, # extra regularization in finetuning, but does not affect loaded weights\n",
    "                                                 include_top=False, weights='imagenet')\n",
    "    effnetB0.trainable = False\n",
    "\n",
    "    path0 = effnetB0(input0_reshape)\n",
    "    path1 = effnetB0(input1_reshape)\n",
    "\n",
    "    holo_path_ = keras.layers.Concatenate()([path0, path1])\n",
    "    holo_path_ = keras.layers.Flatten()(holo_path_)\n",
    "    \n",
    "    paths.append(holo_path_)\n",
    "\n",
    "if \"fl_spectra\" in model_features:\n",
    "    input_fl = keras.layers.Input(shape=[13], name=\"fl_spectra\")\n",
    "    fl_path = input_fl * 255\n",
    "    fl_path = keras.layers.Dense(255)(fl_path)\n",
    "    inputs.append(input_fl)\n",
    "    paths.append(fl_path)\n",
    "\n",
    "if len(paths) > 1:\n",
    "    path_ = keras.layers.Concatenate()(paths)\n",
    "else:\n",
    "    path_ = paths[0]\n",
    "\n",
    "path_ = keras.layers.Dropout(.4)(path_)\n",
    "outputs = keras.layers.Dense(\n",
    "    num_classes,\n",
    "    activation=\"sigmoid\",\n",
    "    name=\"target\"\n",
    ")(path_)\n",
    "#outputs = keras.layers.Softmax(name=\"target\")(outputs)\n",
    "\n",
    "\n",
    "model = keras.Model(inputs=inputs, outputs=[outputs])\n",
    "\n",
    "\"done\""
   ]
  },
  {
   "cell_type": "code",
   "execution_count": 23,
   "id": "dfe34ce8-136a-4cb7-95c9-99252c6eeddd",
   "metadata": {
    "execution": {
     "iopub.execute_input": "2022-12-14T15:16:59.611915Z",
     "iopub.status.busy": "2022-12-14T15:16:59.611642Z",
     "iopub.status.idle": "2022-12-14T15:16:59.702940Z",
     "shell.execute_reply": "2022-12-14T15:16:59.701958Z",
     "shell.execute_reply.started": "2022-12-14T15:16:59.611887Z"
    },
    "tags": []
   },
   "outputs": [
    {
     "name": "stdout",
     "output_type": "stream",
     "text": [
      "Model: \"model\"\n",
      "__________________________________________________________________________________________________\n",
      " Layer (type)                   Output Shape         Param #     Connected to                     \n",
      "==================================================================================================\n",
      " rec0 (InputLayer)              [(None, 200, 200, 1  0           []                               \n",
      "                                )]                                                                \n",
      "                                                                                                  \n",
      " rec1 (InputLayer)              [(None, 200, 200, 1  0           []                               \n",
      "                                )]                                                                \n",
      "                                                                                                  \n",
      " concatenate (Concatenate)      (None, 200, 200, 3)  0           ['rec0[0][0]',                   \n",
      "                                                                  'rec0[0][0]',                   \n",
      "                                                                  'rec0[0][0]']                   \n",
      "                                                                                                  \n",
      " concatenate_1 (Concatenate)    (None, 200, 200, 3)  0           ['rec1[0][0]',                   \n",
      "                                                                  'rec1[0][0]',                   \n",
      "                                                                  'rec1[0][0]']                   \n",
      "                                                                                                  \n",
      " tf.math.multiply (TFOpLambda)  (None, 200, 200, 3)  0           ['concatenate[0][0]']            \n",
      "                                                                                                  \n",
      " tf.math.multiply_1 (TFOpLambda  (None, 200, 200, 3)  0          ['concatenate_1[0][0]']          \n",
      " )                                                                                                \n",
      "                                                                                                  \n",
      " efficientnetb0 (Functional)    (None, 7, 7, 1280)   4049571     ['tf.math.multiply[0][0]',       \n",
      "                                                                  'tf.math.multiply_1[0][0]']     \n",
      "                                                                                                  \n",
      " concatenate_2 (Concatenate)    (None, 7, 7, 2560)   0           ['efficientnetb0[0][0]',         \n",
      "                                                                  'efficientnetb0[1][0]']         \n",
      "                                                                                                  \n",
      " flatten (Flatten)              (None, 125440)       0           ['concatenate_2[0][0]']          \n",
      "                                                                                                  \n",
      " dropout (Dropout)              (None, 125440)       0           ['flatten[0][0]']                \n",
      "                                                                                                  \n",
      " target (Dense)                 (None, 20)           2508820     ['dropout[0][0]']                \n",
      "                                                                                                  \n",
      "==================================================================================================\n",
      "Total params: 6,558,391\n",
      "Trainable params: 2,508,820\n",
      "Non-trainable params: 4,049,571\n",
      "__________________________________________________________________________________________________\n"
     ]
    }
   ],
   "source": [
    "model.summary()"
   ]
  },
  {
   "cell_type": "markdown",
   "id": "f0409e34-5c77-44a4-b899-c9f696aa197e",
   "metadata": {
    "jp-MarkdownHeadingCollapsed": true,
    "tags": []
   },
   "source": [
    "### Compile the model\n",
    "By compiling we are adding the optimizer function and the loss function which drive the actual training. Usually, this can be left as is.\n",
    "\n",
    "If you notice that the model trains very slowly -> increase learning_rate <br>\n",
    "If the loss is fluctuating or rising -> decrease learning_rate"
   ]
  },
  {
   "cell_type": "code",
   "execution_count": 42,
   "id": "bd3269b7-ffba-40d5-8201-176537e10f02",
   "metadata": {
    "execution": {
     "iopub.execute_input": "2022-12-15T08:16:16.810609Z",
     "iopub.status.busy": "2022-12-15T08:16:16.809745Z",
     "iopub.status.idle": "2022-12-15T08:16:16.882082Z",
     "shell.execute_reply": "2022-12-15T08:16:16.880733Z",
     "shell.execute_reply.started": "2022-12-15T08:16:16.810564Z"
    },
    "tags": []
   },
   "outputs": [],
   "source": [
    "# To compile the model, we need a special loss funtion that allows for class weights. The details are not that important. Relavent to know\n",
    "# is that this allows for inbalanced data to be trained correctly. For example, if you have two times more of class 1 than in class 2, then\n",
    "# you would like the model to ignore this difference and act as if the two sets are identical in size.\n",
    "\n",
    "class WeightedSCCE(tf.keras.losses.Loss):\n",
    "    \"\"\"Custom SparseCategoricalCrossentropy loss class that supports class weights.\"\"\"\n",
    "    def __init__(self, class_weight, from_logits=False, name='weighted_scce'):\n",
    "        if class_weight is None or all(v == 1. for v in class_weight):\n",
    "            self.class_weight = None\n",
    "        else:\n",
    "            self.class_weight = tf.convert_to_tensor(class_weight,\n",
    "                dtype=tf.float32)\n",
    "        self.reduction = keras.losses.Reduction.NONE\n",
    "        self.unreduced_scce = keras.losses.SparseCategoricalCrossentropy(\n",
    "            from_logits=from_logits, name=name,\n",
    "            reduction=self.reduction)\n",
    "        self.name = name\n",
    "\n",
    "    def __call__(self, y_true, y_pred, sample_weight=None):\n",
    "        loss = self.unreduced_scce(y_true, y_pred, sample_weight)\n",
    "        if self.class_weight is not None:\n",
    "            weight_mask = tf.gather(self.class_weight, y_true)\n",
    "            loss = tf.math.multiply(loss, weight_mask)\n",
    "        return loss"
   ]
  },
  {
   "cell_type": "code",
   "execution_count": 43,
   "id": "0cf0661e-3240-4e4f-8e24-aeac32f9caef",
   "metadata": {
    "execution": {
     "iopub.execute_input": "2022-12-15T08:16:18.057453Z",
     "iopub.status.busy": "2022-12-15T08:16:18.056690Z",
     "iopub.status.idle": "2022-12-15T08:16:18.168388Z",
     "shell.execute_reply": "2022-12-15T08:16:18.166974Z",
     "shell.execute_reply.started": "2022-12-15T08:16:18.057408Z"
    },
    "tags": []
   },
   "outputs": [],
   "source": [
    "# Finally we compile the ml model\n",
    "learning_rate = 0.000_005\n",
    "model.compile(\n",
    "    # Optimizer, that handles the weight adjustment while training\n",
    "    optimizer=keras.optimizers.Adam(learning_rate),  \n",
    "    # Loss function to minimize\n",
    "    loss=WeightedSCCE(class_weights),\n",
    "    # List of metrics to monitor\n",
    "    metrics=[keras.metrics.SparseCategoricalAccuracy()],\n",
    ")"
   ]
  },
  {
   "cell_type": "markdown",
   "id": "12fa6896-5250-443c-8897-d31bd389484e",
   "metadata": {
    "jp-MarkdownHeadingCollapsed": true,
    "tags": []
   },
   "source": [
    "### Setting up TensorBoard"
   ]
  },
  {
   "cell_type": "code",
   "execution_count": 26,
   "id": "af32a826-c31a-410b-aa73-64a058ed6172",
   "metadata": {
    "execution": {
     "iopub.execute_input": "2022-12-14T15:16:59.854901Z",
     "iopub.status.busy": "2022-12-14T15:16:59.854606Z",
     "iopub.status.idle": "2022-12-14T15:16:59.937005Z",
     "shell.execute_reply": "2022-12-14T15:16:59.935925Z",
     "shell.execute_reply.started": "2022-12-14T15:16:59.854871Z"
    },
    "tags": []
   },
   "outputs": [],
   "source": [
    "# Load the TensorBoard notebook extension\n",
    "%load_ext tensorboard\n",
    "#%reload_ext tensorboard\n",
    "# https://stackoverflow.com/questions/40106949/unable-to-open-tensorboard-in-browser"
   ]
  },
  {
   "cell_type": "code",
   "execution_count": 27,
   "id": "b7477158-7931-474d-b817-a232409f17de",
   "metadata": {
    "execution": {
     "iopub.execute_input": "2022-12-14T15:16:59.938758Z",
     "iopub.status.busy": "2022-12-14T15:16:59.938402Z",
     "iopub.status.idle": "2022-12-14T15:17:09.391487Z",
     "shell.execute_reply": "2022-12-14T15:17:09.390369Z",
     "shell.execute_reply.started": "2022-12-14T15:16:59.938720Z"
    },
    "tags": []
   },
   "outputs": [
    {
     "data": {
      "text/html": [
       "\n",
       "      <iframe id=\"tensorboard-frame-2f6cbccede6b25d9\" width=\"100%\" height=\"800\" frameborder=\"0\">\n",
       "      </iframe>\n",
       "      <script>\n",
       "        (function() {\n",
       "          const frame = document.getElementById(\"tensorboard-frame-2f6cbccede6b25d9\");\n",
       "          const url = new URL(\"/\", window.location);\n",
       "          const port = 6006;\n",
       "          if (port) {\n",
       "            url.port = port;\n",
       "          }\n",
       "          frame.src = url;\n",
       "        })();\n",
       "      </script>\n",
       "    "
      ],
      "text/plain": [
       "<IPython.core.display.HTML object>"
      ]
     },
     "metadata": {},
     "output_type": "display_data"
    }
   ],
   "source": [
    "%tensorboard --logdir={logdir} --bind_all --port 6006"
   ]
  },
  {
   "cell_type": "markdown",
   "id": "fde4d0bd-3d54-4cc7-93e4-f18281ccfe35",
   "metadata": {
    "jp-MarkdownHeadingCollapsed": true,
    "tags": []
   },
   "source": [
    "### Train and export the model\n",
    "Here the actual training starts. The only thing to set here is the number of epochs the model should be trained.\n",
    "\n",
    "Note, that the first epoch will take some time, as the dataset cache is built. Afterwards, the training will be only limited by your CPU/GPU performance."
   ]
  },
  {
   "cell_type": "code",
   "execution_count": 28,
   "id": "81f2b7f7-0aa6-477f-8ad0-cfc20410f712",
   "metadata": {
    "execution": {
     "iopub.execute_input": "2022-12-14T15:17:09.393791Z",
     "iopub.status.busy": "2022-12-14T15:17:09.393451Z",
     "iopub.status.idle": "2022-12-14T15:17:09.465988Z",
     "shell.execute_reply": "2022-12-14T15:17:09.464749Z",
     "shell.execute_reply.started": "2022-12-14T15:17:09.393758Z"
    },
    "tags": []
   },
   "outputs": [],
   "source": [
    "# confusion matrix plotting at each epoch in TensorBoard\n",
    "# source: https://towardsdatascience.com/exploring-confusion-matrix-evolution-on-tensorboard-e66b39f4ac12 by Surhrut Ashtikar, last visited on 28.11.2022\n",
    "def plot_confusion_matrix(cm, class_names):\n",
    "    \"\"\"\n",
    "    Returns a matplotlib figure containing the plotted confusion matrix.\n",
    "    \n",
    "    Args:\n",
    "       cm (array, shape = [n, n]): a confusion matrix of integer classes\n",
    "       class_names (array, shape = [n]): String names of the integer classes\n",
    "    \"\"\"\n",
    "    # Normalize the confusion matrix.\n",
    "    cm = np.around(cm.astype('float') / cm.sum(axis=1)[:, np.newaxis], decimals=2)\n",
    "    \n",
    "    fig, ax = plt.subplots(figsize=(12, 12))\n",
    "    im = ax.imshow(cm, interpolation='nearest', cmap=plt.cm.Blues)\n",
    "    ax.figure.colorbar(im, ax=ax)\n",
    "    # We want to show all ticks...\n",
    "    tick_marks = np.arange(len(class_names))\n",
    "    ax.set(xticks=tick_marks,\n",
    "           yticks=tick_marks,\n",
    "           xticklabels=class_names, \n",
    "           yticklabels=class_names,\n",
    "           title='Confusion matrix',\n",
    "           ylabel='True label',\n",
    "           xlabel='Predicted label')\n",
    "    # Rotate the tick labels and set their alignment.\n",
    "    plt.setp(ax.get_xticklabels(), rotation=45, ha=\"right\", rotation_mode=\"anchor\")\n",
    "    \n",
    "    # Loop over data dimensions and create text annotations.\n",
    "    fmt = '.2f'\n",
    "    thresh = cm.max() / 2.\n",
    "    for i in range(cm.shape[0]):\n",
    "        for j in range(cm.shape[1]):\n",
    "            ax.text(j, i, format(cm[i, j], fmt),\n",
    "                    ha=\"center\", va=\"center\",\n",
    "                    color=\"white\" if cm[i, j] > thresh else \"black\")\n",
    "    #fig.tight_layout()\n",
    "    return fig\n",
    "    \n",
    "def plot_to_image(figure):\n",
    "    \"\"\"\n",
    "    Converts the matplotlib plot specified by 'figure' to a PNG image and\n",
    "    returns it. The supplied figure is closed and inaccessible after this call.\n",
    "    \"\"\"\n",
    "    \n",
    "    buf = io.BytesIO()\n",
    "    \n",
    "    # Use plt.savefig to save the plot to a PNG in memory.\n",
    "    plt.savefig(buf, format='png')\n",
    "    \n",
    "    # Closing the figure prevents it from being displayed directly inside\n",
    "    # the notebook.\n",
    "    plt.close(figure)\n",
    "    buf.seek(0)\n",
    "    \n",
    "    # Use tf.image.decode_png to convert the PNG buffer\n",
    "    # to a TF image. Make sure you use 4 channels.\n",
    "    image = tf.image.decode_png(buf.getvalue(), channels=4)\n",
    "    \n",
    "    # Use tf.expand_dims to add the batch dimension\n",
    "    image = tf.expand_dims(image, 0)\n",
    "    \n",
    "    return image\n",
    "\n",
    "def log_confusion_matrix(epoch, logs):\n",
    "    \n",
    "    # Use the model to predict the values from the test_images.\n",
    "    val_pred_raw = model.predict(dataset_val.get_data_pipeline().prefetch(tf.data.AUTOTUNE))\n",
    "    \n",
    "    val_pred = np.argmax(val_pred_raw, axis=1)\n",
    "    \n",
    "    # Calculate the confusion matrix using sklearn.metrics\n",
    "    cm = sklearn.metrics.confusion_matrix(val_labels, val_pred)\n",
    "    \n",
    "    figure = plot_confusion_matrix(cm, class_names=classes)\n",
    "    cm_image = plot_to_image(figure)\n",
    "    \n",
    "    # Log the confusion matrix as an image summary.\n",
    "    with file_writer_cm.as_default():\n",
    "        tf.summary.image(\"Confusion Matrix\", cm_image, step=epoch)"
   ]
  },
  {
   "cell_type": "code",
   "execution_count": 29,
   "id": "cff1eeec-0a4d-4787-a5e3-1e235f529e86",
   "metadata": {
    "execution": {
     "iopub.execute_input": "2022-12-14T15:17:09.468189Z",
     "iopub.status.busy": "2022-12-14T15:17:09.467533Z",
     "iopub.status.idle": "2022-12-14T15:17:23.734545Z",
     "shell.execute_reply": "2022-12-14T15:17:23.733322Z",
     "shell.execute_reply.started": "2022-12-14T15:17:09.468147Z"
    },
    "scrolled": true,
    "tags": []
   },
   "outputs": [
    {
     "data": {
      "application/vnd.jupyter.widget-view+json": {
       "model_id": "fcb48d5a35f8411cbc5a24ffc30c52eb",
       "version_major": 2,
       "version_minor": 0
      },
      "text/plain": [
       "0it [00:00, ?it/s]"
      ]
     },
     "metadata": {},
     "output_type": "display_data"
    }
   ],
   "source": [
    "val_labels = []  # store true labels\n",
    "for _, label_batch in tqdm(dataset_val.get_data_pipeline()): # iterate over the validation dataset\n",
    "    val_labels.extend(label_batch[\"target\"].numpy()) # append true labels\n",
    "#val_labels = np.concatenate([y for _, y in dataset_val.get_data_pipeline()], axis=0)"
   ]
  },
  {
   "cell_type": "code",
   "execution_count": 30,
   "id": "213cae0f-976a-449c-a5e8-098d4490a618",
   "metadata": {
    "execution": {
     "iopub.execute_input": "2022-12-14T15:17:23.741639Z",
     "iopub.status.busy": "2022-12-14T15:17:23.739210Z",
     "iopub.status.idle": "2022-12-14T15:17:23.819550Z",
     "shell.execute_reply": "2022-12-14T15:17:23.818755Z",
     "shell.execute_reply.started": "2022-12-14T15:17:23.741599Z"
    },
    "tags": []
   },
   "outputs": [],
   "source": [
    "# init tensorflow callbacks\n",
    "file_writer_cm = tf.summary.create_file_writer(logdir + '/cm')\n",
    "cm_callback = keras.callbacks.LambdaCallback(on_epoch_end=log_confusion_matrix)\n",
    "early_stopping = tf.keras.callbacks.EarlyStopping(monitor='val_loss', patience=5)\n",
    "checkpoint_callback = tf.keras.callbacks.ModelCheckpoint(filepath=checkpoint_file_path, save_weights_only=True, save_best_only=True, monitor='val_loss', mode='min')\n",
    "tensorboard_callback = tf.keras.callbacks.TensorBoard(logdir, histogram_freq=1)"
   ]
  },
  {
   "cell_type": "code",
   "execution_count": 44,
   "id": "78d7cbeb-d5a5-4c83-8b01-754d6c3f0da9",
   "metadata": {
    "execution": {
     "iopub.execute_input": "2022-12-15T08:16:23.211210Z",
     "iopub.status.busy": "2022-12-15T08:16:23.210742Z",
     "iopub.status.idle": "2022-12-15T10:39:57.255330Z",
     "shell.execute_reply": "2022-12-15T10:39:57.252394Z",
     "shell.execute_reply.started": "2022-12-15T08:16:23.211169Z"
    },
    "scrolled": true,
    "tags": []
   },
   "outputs": [
    {
     "name": "stdout",
     "output_type": "stream",
     "text": [
      "Epoch 16/256\n",
      "7341/7341 [==============================] - 208s 28ms/step\n",
      "34311/34311 [==============================] - 1450s 42ms/step - loss: 14.4664 - sparse_categorical_accuracy: 0.7838 - val_loss: 9.2170 - val_sparse_categorical_accuracy: 0.8795\n",
      "Epoch 17/256\n",
      "7341/7341 [==============================] - 203s 28ms/step\n",
      "34311/34311 [==============================] - 1422s 41ms/step - loss: 13.8554 - sparse_categorical_accuracy: 0.7915 - val_loss: 9.2212 - val_sparse_categorical_accuracy: 0.8749\n",
      "Epoch 18/256\n",
      "7341/7341 [==============================] - 209s 29ms/step\n",
      "34311/34311 [==============================] - 1426s 42ms/step - loss: 13.5455 - sparse_categorical_accuracy: 0.7967 - val_loss: 9.7205 - val_sparse_categorical_accuracy: 0.8725\n",
      "Epoch 19/256\n",
      "7341/7341 [==============================] - 209s 28ms/step\n",
      "34311/34311 [==============================] - 1445s 42ms/step - loss: 13.5199 - sparse_categorical_accuracy: 0.7998 - val_loss: 9.5880 - val_sparse_categorical_accuracy: 0.8826\n",
      "Epoch 20/256\n",
      "7341/7341 [==============================] - 210s 29ms/step\n",
      "34311/34311 [==============================] - 1435s 42ms/step - loss: 13.3157 - sparse_categorical_accuracy: 0.8021 - val_loss: 9.9732 - val_sparse_categorical_accuracy: 0.8745\n",
      "Epoch 21/256\n",
      "7341/7341 [==============================] - 209s 28ms/step\n",
      "34311/34311 [==============================] - 1435s 42ms/step - loss: 13.2438 - sparse_categorical_accuracy: 0.8062 - val_loss: 9.4356 - val_sparse_categorical_accuracy: 0.8847\n"
     ]
    },
    {
     "data": {
      "text/plain": [
       "<keras.callbacks.History at 0x7fd35467eaf0>"
      ]
     },
     "execution_count": 44,
     "metadata": {},
     "output_type": "execute_result"
    }
   ],
   "source": [
    "model.fit(\n",
    "    dataset_train.get_data_pipeline().prefetch(tf.data.AUTOTUNE),\n",
    "    epochs=epochs, \n",
    "    validation_data=dataset_val.get_data_pipeline().prefetch(tf.data.AUTOTUNE),\n",
    "    callbacks=[\n",
    "        early_stopping, \n",
    "        checkpoint_callback,\n",
    "        tensorboard_callback,\n",
    "        cm_callback\n",
    "    ],\n",
    "    initial_epoch=15,\n",
    "    verbose=True\n",
    ")"
   ]
  },
  {
   "cell_type": "code",
   "execution_count": 45,
   "id": "958cd4c5-37b3-4ed7-b07a-670d495c32a2",
   "metadata": {
    "execution": {
     "iopub.execute_input": "2022-12-15T10:39:57.259442Z",
     "iopub.status.busy": "2022-12-15T10:39:57.258935Z",
     "iopub.status.idle": "2022-12-15T10:40:46.015219Z",
     "shell.execute_reply": "2022-12-15T10:40:46.013590Z",
     "shell.execute_reply.started": "2022-12-15T10:39:57.259407Z"
    },
    "tags": []
   },
   "outputs": [
    {
     "name": "stderr",
     "output_type": "stream",
     "text": [
      "WARNING:absl:Found untraced functions such as _jit_compiled_convolution_op, _jit_compiled_convolution_op, _jit_compiled_convolution_op, _jit_compiled_convolution_op, _jit_compiled_convolution_op while saving (showing 5 of 81). These functions will not be directly callable after loading.\n"
     ]
    },
    {
     "name": "stdout",
     "output_type": "stream",
     "text": [
      "INFO:tensorflow:Assets written to: models/real1/model/assets\n"
     ]
    },
    {
     "name": "stderr",
     "output_type": "stream",
     "text": [
      "INFO:tensorflow:Assets written to: models/real1/model/assets\n"
     ]
    }
   ],
   "source": [
    "# reload last checkpoint's weights those are the ones to export\n",
    "model.load_weights(checkpoint_file_path)\n",
    "# save the best model\n",
    "model.save(model_file_path)\n",
    "# save the model's essential info\n",
    "with open(model_info_file_path, 'w') as f:\n",
    "    f.write(json.dumps(model_info))"
   ]
  },
  {
   "cell_type": "markdown",
   "id": "9214eb6e-17f1-43a3-8042-f526d5782056",
   "metadata": {
    "tags": []
   },
   "source": [
    "## Time Series Comparison"
   ]
  },
  {
   "cell_type": "code",
   "execution_count": 1,
   "id": "6e421488-8251-4ec0-8caf-80ea0a77a86e",
   "metadata": {
    "execution": {
     "iopub.execute_input": "2022-12-15T15:11:04.498752Z",
     "iopub.status.busy": "2022-12-15T15:11:04.497975Z",
     "iopub.status.idle": "2022-12-15T15:11:09.308479Z",
     "shell.execute_reply": "2022-12-15T15:11:09.307430Z",
     "shell.execute_reply.started": "2022-12-15T15:11:04.498596Z"
    },
    "tags": []
   },
   "outputs": [
    {
     "name": "stdout",
     "output_type": "stream",
     "text": [
      "Processing /tf/tmp/poleno-ml\n",
      "  Preparing metadata (setup.py) ... \u001b[?25ldone\n",
      "\u001b[?25hBuilding wheels for collected packages: poleno-ml\n",
      "  Building wheel for poleno-ml (setup.py) ... \u001b[?25ldone\n",
      "\u001b[?25h  Created wheel for poleno-ml: filename=poleno_ml-0.1.0-py3-none-any.whl size=16650 sha256=dced13f1615c601f4072cbc6b5385739d6b8ceaf53e7ebb72bee6d331504183e\n",
      "  Stored in directory: /root/.cache/pip/wheels/36/27/94/c36c0ca182dfe6d14b2ad2190409db7ec462f251c1019d9266\n",
      "Successfully built poleno-ml\n",
      "Installing collected packages: poleno-ml\n",
      "  Attempting uninstall: poleno-ml\n",
      "    Found existing installation: poleno-ml 0.1.0\n",
      "    Uninstalling poleno-ml-0.1.0:\n",
      "      Successfully uninstalled poleno-ml-0.1.0\n",
      "Successfully installed poleno-ml-0.1.0\n",
      "\u001b[33mWARNING: Running pip as the 'root' user can result in broken permissions and conflicting behaviour with the system package manager. It is recommended to use a virtual environment instead: https://pip.pypa.io/warnings/venv\u001b[0m\u001b[33m\n",
      "\u001b[0m"
     ]
    }
   ],
   "source": [
    "# run this if you made changes to the poleno-ml code \n",
    "# NB: Those changes must have been made to the /tf/tmp/poleno-ml repository to have an effect on this notebook's code.\n",
    "# NB: However, changes made to the tmp repository are temporary and will be rolled back when Docker VM will be shutdown.\n",
    "#     If you want to make them permanent, dupplicate them to /tf/home/dependencies/poleno-ml.\n",
    "!pip install /tf/tmp/poleno-ml"
   ]
  },
  {
   "cell_type": "code",
   "execution_count": 2,
   "id": "a94fb494-4ac2-4b76-b33a-43517a159689",
   "metadata": {
    "execution": {
     "iopub.execute_input": "2022-12-15T15:11:09.311044Z",
     "iopub.status.busy": "2022-12-15T15:11:09.310674Z",
     "iopub.status.idle": "2022-12-15T15:11:13.946533Z",
     "shell.execute_reply": "2022-12-15T15:11:13.944709Z",
     "shell.execute_reply.started": "2022-12-15T15:11:09.311007Z"
    },
    "tags": []
   },
   "outputs": [],
   "source": [
    "%load_ext autoreload\n",
    "%autoreload 2\n",
    "import copy\n",
    "import datetime\n",
    "import json\n",
    "import matplotlib.pyplot as plt\n",
    "from multiprocessing import Pool\n",
    "import numpy as np\n",
    "import operator as op\n",
    "import os\n",
    "import pandas as pd\n",
    "from poleno_db_interface.database.filter import AndClause, OrClause, ConditionClause, DataColumn\n",
    "from poleno_db_interface.database.query_utils import DataColumn, finalize_query\n",
    "from poleno_ml.database.query_interface_ml import QueryInterfaceML, DatasetPipeline\n",
    "import poleno_db_interface.database.model.poleno_data_model as pdm\n",
    "import tensorflow as tf\n",
    "import tensorflow.keras as keras\n",
    "import time\n",
    "from tqdm.notebook import tqdm\n",
    "from uuid import UUID\n",
    "import uuid"
   ]
  },
  {
   "cell_type": "code",
   "execution_count": 3,
   "id": "09389605-8c6e-4e94-bf04-6ca62b726c62",
   "metadata": {
    "execution": {
     "iopub.execute_input": "2022-12-15T15:11:13.950138Z",
     "iopub.status.busy": "2022-12-15T15:11:13.949722Z",
     "iopub.status.idle": "2022-12-15T15:11:14.014001Z",
     "shell.execute_reply": "2022-12-15T15:11:14.012493Z",
     "shell.execute_reply.started": "2022-12-15T15:11:13.950097Z"
    },
    "tags": []
   },
   "outputs": [],
   "source": [
    "model_path = 'models/real1/model'\n",
    "model_info_file_path = os.path.join(model_path, 'model_info.json')"
   ]
  },
  {
   "cell_type": "code",
   "execution_count": 4,
   "id": "7e068fe5-6f91-4b7a-9fc3-ff142b7e89bb",
   "metadata": {
    "execution": {
     "iopub.execute_input": "2022-12-15T15:11:14.017168Z",
     "iopub.status.busy": "2022-12-15T15:11:14.016568Z",
     "iopub.status.idle": "2022-12-15T15:11:14.070529Z",
     "shell.execute_reply": "2022-12-15T15:11:14.068912Z",
     "shell.execute_reply.started": "2022-12-15T15:11:14.017127Z"
    },
    "tags": []
   },
   "outputs": [],
   "source": [
    "start_date  = datetime.date(2020,2,19) # March 1st 2020\n",
    "end_date    = datetime.date(2021,11,1) # November 1st 2021\n",
    "hirst_file_path = os.path.join('validation_input', 'hirst_pay_19022020-01112021.csv')\n",
    "agg_freq = '1H'\n",
    "#poleno 2020 à Payerne : 2 4 5\n",
    "# en 2021: 4 5\n",
    "device_name = \"poleno-5\""
   ]
  },
  {
   "cell_type": "markdown",
   "id": "5109ebc1-0d0c-43e4-8e5b-bf8755bd94fb",
   "metadata": {
    "jp-MarkdownHeadingCollapsed": true,
    "tags": []
   },
   "source": [
    "#### Prepare the tf pipeline\n",
    "Similar to the training and testing, we set up a tf dataset pipeline. Here we use the more flexible function `query_interface_ml.prepare_tf_dataset_from_event_filter` which allows us to define any filter. Here, we use this to get all the event from one SwisensPoleno in a defined time range.\n",
    "\n",
    "Additionally, we filter out all events that do not comply with the minimal size and solidity conditions."
   ]
  },
  {
   "cell_type": "code",
   "execution_count": 5,
   "id": "bd3a202d-c39b-43a2-b5bb-10703321e83a",
   "metadata": {
    "execution": {
     "iopub.execute_input": "2022-12-15T15:11:14.072488Z",
     "iopub.status.busy": "2022-12-15T15:11:14.072097Z",
     "iopub.status.idle": "2022-12-15T15:11:29.822531Z",
     "shell.execute_reply": "2022-12-15T15:11:29.821122Z",
     "shell.execute_reply.started": "2022-12-15T15:11:14.072451Z"
    },
    "tags": []
   },
   "outputs": [],
   "source": [
    "# load trained model's info\n",
    "with open(model_info_file_path, 'r') as f:\n",
    "    model_info = json.loads(f.read())\n",
    "# load trained model\n",
    "model = keras.models.load_model(model_path, compile=False)"
   ]
  },
  {
   "cell_type": "code",
   "execution_count": 6,
   "id": "3f72671d-5ad8-4f21-9119-a1509404e0a7",
   "metadata": {
    "execution": {
     "iopub.execute_input": "2022-12-15T15:11:29.823921Z",
     "iopub.status.busy": "2022-12-15T15:11:29.823718Z",
     "iopub.status.idle": "2022-12-15T15:11:29.883083Z",
     "shell.execute_reply": "2022-12-15T15:11:29.881382Z",
     "shell.execute_reply.started": "2022-12-15T15:11:29.823901Z"
    },
    "tags": []
   },
   "outputs": [],
   "source": [
    "eval_dir = os.path.join('models', model_info['model_name'], 'eval')\n",
    "os.makedirs(eval_dir, exist_ok=True)\n",
    "poleno_file_path = os.path.join(eval_dir, f'{device_name}_{start_date.strftime(\"%d%m%Y\")}-{end_date.strftime(\"%d%m%Y\")}.csv')"
   ]
  },
  {
   "cell_type": "markdown",
   "id": "d3f6ffbe-4543-4455-bac0-6434e17294cf",
   "metadata": {
    "tags": []
   },
   "source": [
    "### Get polleno predictions"
   ]
  },
  {
   "cell_type": "markdown",
   "id": "333598f2-e7c0-43b4-a619-b85141409aa6",
   "metadata": {
    "tags": []
   },
   "source": [
    "#### Pull raw data and get predictions"
   ]
  },
  {
   "cell_type": "code",
   "execution_count": 7,
   "id": "e436ef06-8905-4139-aec7-87c6ecaac475",
   "metadata": {
    "execution": {
     "iopub.execute_input": "2022-12-15T15:11:29.885041Z",
     "iopub.status.busy": "2022-12-15T15:11:29.884643Z",
     "iopub.status.idle": "2022-12-15T15:11:30.066290Z",
     "shell.execute_reply": "2022-12-15T15:11:30.064810Z",
     "shell.execute_reply.started": "2022-12-15T15:11:29.884990Z"
    },
    "tags": []
   },
   "outputs": [],
   "source": [
    "import myloginpath\n",
    "db_config = myloginpath.parse('client', path='/tf/.mylogin.cnf')\n",
    "\n",
    "# Conect to the database and create an interface instance\n",
    "query_interface_ml = QueryInterfaceML(**db_config)"
   ]
  },
  {
   "cell_type": "code",
   "execution_count": 8,
   "id": "13a44827-c8ab-49fb-b98d-141591de8c5a",
   "metadata": {
    "execution": {
     "iopub.execute_input": "2022-12-15T15:11:30.070870Z",
     "iopub.status.busy": "2022-12-15T15:11:30.069411Z",
     "iopub.status.idle": "2022-12-15T15:11:30.765063Z",
     "shell.execute_reply": "2022-12-15T15:11:30.763299Z",
     "shell.execute_reply.started": "2022-12-15T15:11:30.070822Z"
    },
    "scrolled": true,
    "tags": []
   },
   "outputs": [
    {
     "name": "stdout",
     "output_type": "stream",
     "text": [
      " received 0unique evet list finished. Calling prepare_tf_dataset function 1.624826590635096\n"
     ]
    },
    {
     "data": {
      "text/plain": [
       "720"
      ]
     },
     "execution_count": 8,
     "metadata": {},
     "output_type": "execute_result"
    }
   ],
   "source": [
    "# load poleno's raw data measured during timerange\n",
    "filter_ = AndClause(\n",
    "    ConditionClause(pdm.Event.timestamp, op.gt, time.mktime(start_date.timetuple())),\n",
    "    ConditionClause(pdm.Event.timestamp, op.lt, time.mktime(end_date.timetuple())),\n",
    "    ConditionClause(pdm.Event.device_id_str, op.eq, device_name),\n",
    "    ConditionClause(pdm.ImageAnalysis.particleArea, op.ge, 625, \"img0\"),\n",
    "    ConditionClause(pdm.ImageAnalysis.particleArea, op.ge, 625, \"img1\"),\n",
    "    ConditionClause(pdm.ImageAnalysis.particleSolidity, op.ge, 0.9, \"img0\"),\n",
    "    ConditionClause(pdm.ImageAnalysis.particleSolidity, op.ge, 0.9, \"img1\"),\n",
    "    ConditionClause(pdm.ImageAnalysis.ImageData_id, op.eq, 0, \"img0\"),\n",
    "    ConditionClause(pdm.ImageAnalysis.ImageData_id, op.eq, 1, \"img1\"),\n",
    ")\n",
    "\n",
    "timeseries_dataset = query_interface_ml.prepare_tf_dataset_from_event_filter(\n",
    "    filter_=filter_,\n",
    "    batch_size=model_info['batch_size'],\n",
    "    model_features=copy.deepcopy(model_info['model_features']),\n",
    "    include_timestamps=True\n",
    ")\n",
    "timeseries_dataset.dataset_length"
   ]
  },
  {
   "cell_type": "code",
   "execution_count": 9,
   "id": "32b1f287-9164-4750-a11b-6983710e1043",
   "metadata": {
    "execution": {
     "iopub.execute_input": "2022-12-15T15:11:30.767584Z",
     "iopub.status.busy": "2022-12-15T15:11:30.767171Z",
     "iopub.status.idle": "2022-12-15T15:11:59.359506Z",
     "shell.execute_reply": "2022-12-15T15:11:59.357489Z",
     "shell.execute_reply.started": "2022-12-15T15:11:30.767542Z"
    },
    "scrolled": true,
    "tags": []
   },
   "outputs": [
    {
     "data": {
      "application/vnd.jupyter.widget-view+json": {
       "model_id": "",
       "version_major": 2,
       "version_minor": 0
      },
      "text/plain": [
       "  0%|          | 0/90.0 [00:00<?, ?it/s]"
      ]
     },
     "metadata": {},
     "output_type": "display_data"
    }
   ],
   "source": [
    "# get the model's predictions for each event\n",
    "labels = np.array(model_info['classes'])\n",
    "global list_batch_preds\n",
    "list_batch_preds = []\n",
    "\n",
    "for id_batch, feature_batch in tqdm(timeseries_dataset.get_data_pipeline(with_id=True, with_timestamp=True), \n",
    "                                    total=timeseries_dataset.dataset_length/model_info['batch_size'], leave=False):\n",
    "    # compute predictions\n",
    "    preds = model.predict(feature_batch, verbose=False)\n",
    "    # append predicted labels and certainty\n",
    "    y_pred = np.argmax(preds, axis=-1)\n",
    "    ind = (np.array(range(min(len(labels), len(y_pred)))), y_pred)\n",
    "    certainties = preds[ind]\n",
    "    pred_classes = labels[y_pred]\n",
    "    list_batch_preds.append({\n",
    "        'event_id': [id_.decode() for id_ in id_batch[\"id\"].numpy()],\n",
    "        'pred_class': pred_classes,\n",
    "        'pred_certainty': certainties,\n",
    "        'event_timestamp': [ts_ for ts_ in id_batch[\"timestamp\"].numpy()]\n",
    "    })\n",
    "def to_df_(i):\n",
    "    return pd.DataFrame(list_batch_preds[i])\n",
    "with Pool() as P:\n",
    "    list_batch_preds = P.map(to_df_, range(len(list_batch_preds))) # convert list of dicts to list of pd.DataFrame\n",
    "df_poleno = pd.concat(list_batch_preds).reset_index(drop=True) # convert list of pd.DataFrame to one pd.DataFrame\n",
    "del list_batch_preds\n",
    "# convert timestamp from double to datetime\n",
    "df_poleno['event_timestamp'] = df_poleno['event_timestamp'].apply(float)\n",
    "df_poleno['event_timestamp'] = pd.to_datetime(df_poleno['event_timestamp'], unit=\"s\")\n",
    "df_poleno.index = df_poleno.event_timestamp\n",
    "df_poleno = df_poleno.drop(['event_timestamp'], axis=1)\n",
    "df_poleno.to_csv(poleno_file_path) # save to csv"
   ]
  },
  {
   "cell_type": "code",
   "execution_count": 10,
   "id": "cecb4e0b-1b4f-4089-aff7-317052ae25b8",
   "metadata": {
    "execution": {
     "iopub.execute_input": "2022-12-15T15:11:59.362586Z",
     "iopub.status.busy": "2022-12-15T15:11:59.362265Z",
     "iopub.status.idle": "2022-12-15T15:11:59.459296Z",
     "shell.execute_reply": "2022-12-15T15:11:59.457754Z",
     "shell.execute_reply.started": "2022-12-15T15:11:59.362555Z"
    },
    "tags": []
   },
   "outputs": [],
   "source": [
    "query_interface_ml.session.rollback()"
   ]
  },
  {
   "cell_type": "markdown",
   "id": "9e66ddd5-f246-47b6-97b3-65a74984ec3b",
   "metadata": {
    "tags": []
   },
   "source": [
    "### Get Hirst data"
   ]
  },
  {
   "cell_type": "code",
   "execution_count": 11,
   "id": "c3df5481-5bee-4a10-8074-b49256f2cb60",
   "metadata": {
    "execution": {
     "iopub.execute_input": "2022-12-15T15:13:30.926676Z",
     "iopub.status.busy": "2022-12-15T15:13:30.925229Z",
     "iopub.status.idle": "2022-12-15T15:13:31.075873Z",
     "shell.execute_reply": "2022-12-15T15:13:31.074154Z",
     "shell.execute_reply.started": "2022-12-15T15:13:30.926626Z"
    },
    "tags": []
   },
   "outputs": [
    {
     "data": {
      "text/html": [
       "<div>\n",
       "<style scoped>\n",
       "    .dataframe tbody tr th:only-of-type {\n",
       "        vertical-align: middle;\n",
       "    }\n",
       "\n",
       "    .dataframe tbody tr th {\n",
       "        vertical-align: top;\n",
       "    }\n",
       "\n",
       "    .dataframe thead th {\n",
       "        text-align: right;\n",
       "    }\n",
       "</style>\n",
       "<table border=\"1\" class=\"dataframe\">\n",
       "  <thead>\n",
       "    <tr style=\"text-align: right;\">\n",
       "      <th></th>\n",
       "      <th>Station</th>\n",
       "      <th>4819</th>\n",
       "      <th>4820</th>\n",
       "      <th>4821</th>\n",
       "      <th>4822</th>\n",
       "      <th>4823</th>\n",
       "      <th>4824</th>\n",
       "      <th>4825</th>\n",
       "      <th>4826</th>\n",
       "      <th>4827</th>\n",
       "      <th>...</th>\n",
       "      <th>4867</th>\n",
       "      <th>4868</th>\n",
       "      <th>4869</th>\n",
       "      <th>4870</th>\n",
       "      <th>4871</th>\n",
       "      <th>4872</th>\n",
       "      <th>4873</th>\n",
       "      <th>4874</th>\n",
       "      <th>4875</th>\n",
       "      <th>event_timestamp</th>\n",
       "    </tr>\n",
       "    <tr>\n",
       "      <th>event_timestamp</th>\n",
       "      <th></th>\n",
       "      <th></th>\n",
       "      <th></th>\n",
       "      <th></th>\n",
       "      <th></th>\n",
       "      <th></th>\n",
       "      <th></th>\n",
       "      <th></th>\n",
       "      <th></th>\n",
       "      <th></th>\n",
       "      <th></th>\n",
       "      <th></th>\n",
       "      <th></th>\n",
       "      <th></th>\n",
       "      <th></th>\n",
       "      <th></th>\n",
       "      <th></th>\n",
       "      <th></th>\n",
       "      <th></th>\n",
       "      <th></th>\n",
       "      <th></th>\n",
       "    </tr>\n",
       "  </thead>\n",
       "  <tbody>\n",
       "    <tr>\n",
       "      <th>2020-02-01</th>\n",
       "      <td>5151</td>\n",
       "      <td>NaN</td>\n",
       "      <td>NaN</td>\n",
       "      <td>NaN</td>\n",
       "      <td>NaN</td>\n",
       "      <td>NaN</td>\n",
       "      <td>NaN</td>\n",
       "      <td>NaN</td>\n",
       "      <td>NaN</td>\n",
       "      <td>NaN</td>\n",
       "      <td>...</td>\n",
       "      <td>NaN</td>\n",
       "      <td>NaN</td>\n",
       "      <td>NaN</td>\n",
       "      <td>NaN</td>\n",
       "      <td>NaN</td>\n",
       "      <td>NaN</td>\n",
       "      <td>NaN</td>\n",
       "      <td>NaN</td>\n",
       "      <td>NaN</td>\n",
       "      <td>2020-02-01</td>\n",
       "    </tr>\n",
       "    <tr>\n",
       "      <th>2020-02-02</th>\n",
       "      <td>5151</td>\n",
       "      <td>NaN</td>\n",
       "      <td>NaN</td>\n",
       "      <td>NaN</td>\n",
       "      <td>NaN</td>\n",
       "      <td>NaN</td>\n",
       "      <td>NaN</td>\n",
       "      <td>NaN</td>\n",
       "      <td>NaN</td>\n",
       "      <td>NaN</td>\n",
       "      <td>...</td>\n",
       "      <td>NaN</td>\n",
       "      <td>NaN</td>\n",
       "      <td>NaN</td>\n",
       "      <td>NaN</td>\n",
       "      <td>NaN</td>\n",
       "      <td>NaN</td>\n",
       "      <td>NaN</td>\n",
       "      <td>NaN</td>\n",
       "      <td>NaN</td>\n",
       "      <td>2020-02-02</td>\n",
       "    </tr>\n",
       "    <tr>\n",
       "      <th>2020-02-03</th>\n",
       "      <td>5151</td>\n",
       "      <td>NaN</td>\n",
       "      <td>NaN</td>\n",
       "      <td>NaN</td>\n",
       "      <td>NaN</td>\n",
       "      <td>NaN</td>\n",
       "      <td>NaN</td>\n",
       "      <td>NaN</td>\n",
       "      <td>NaN</td>\n",
       "      <td>NaN</td>\n",
       "      <td>...</td>\n",
       "      <td>NaN</td>\n",
       "      <td>NaN</td>\n",
       "      <td>NaN</td>\n",
       "      <td>NaN</td>\n",
       "      <td>NaN</td>\n",
       "      <td>NaN</td>\n",
       "      <td>NaN</td>\n",
       "      <td>NaN</td>\n",
       "      <td>NaN</td>\n",
       "      <td>2020-02-03</td>\n",
       "    </tr>\n",
       "  </tbody>\n",
       "</table>\n",
       "<p>3 rows × 59 columns</p>\n",
       "</div>"
      ],
      "text/plain": [
       "                 Station  4819  4820  4821  4822  4823  4824  4825  4826  \\\n",
       "event_timestamp                                                            \n",
       "2020-02-01          5151   NaN   NaN   NaN   NaN   NaN   NaN   NaN   NaN   \n",
       "2020-02-02          5151   NaN   NaN   NaN   NaN   NaN   NaN   NaN   NaN   \n",
       "2020-02-03          5151   NaN   NaN   NaN   NaN   NaN   NaN   NaN   NaN   \n",
       "\n",
       "                 4827  ...  4867  4868  4869  4870  4871  4872  4873  4874  \\\n",
       "event_timestamp        ...                                                   \n",
       "2020-02-01        NaN  ...   NaN   NaN   NaN   NaN   NaN   NaN   NaN   NaN   \n",
       "2020-02-02        NaN  ...   NaN   NaN   NaN   NaN   NaN   NaN   NaN   NaN   \n",
       "2020-02-03        NaN  ...   NaN   NaN   NaN   NaN   NaN   NaN   NaN   NaN   \n",
       "\n",
       "                 4875  event_timestamp  \n",
       "event_timestamp                         \n",
       "2020-02-01        NaN       2020-02-01  \n",
       "2020-02-02        NaN       2020-02-02  \n",
       "2020-02-03        NaN       2020-02-03  \n",
       "\n",
       "[3 rows x 59 columns]"
      ]
     },
     "execution_count": 11,
     "metadata": {},
     "output_type": "execute_result"
    }
   ],
   "source": [
    "df_hirst = pd.read_csv(hirst_file_path)\n",
    "timestamp_cols = ['Year', 'Month', 'Day', 'Hour', 'Minute']\n",
    "df_hirst['event_timestamp'] = pd.to_datetime(df_hirst[timestamp_cols])\n",
    "df_hirst = df_hirst.drop(timestamp_cols, axis=1)\n",
    "df_hirst = df_hirst.replace(32767, np.nan)\n",
    "df_hirst.index = df_hirst.event_timestamp\n",
    "df_hirst = df_hirst[[c for c in df_hirst.columns if c in list(model_info['classes'])]]\n",
    "df_hirst.head(3)"
   ]
  },
  {
   "cell_type": "markdown",
   "id": "8045942c-fe00-4bbd-8011-db79d91c9b94",
   "metadata": {},
   "source": [
    "### Plots"
   ]
  },
  {
   "cell_type": "code",
   "execution_count": 12,
   "id": "412253bb-0844-4ede-ae18-4d8a0aca9f18",
   "metadata": {
    "execution": {
     "iopub.execute_input": "2022-12-15T15:13:32.716752Z",
     "iopub.status.busy": "2022-12-15T15:13:32.716263Z",
     "iopub.status.idle": "2022-12-15T15:13:32.767771Z",
     "shell.execute_reply": "2022-12-15T15:13:32.766530Z",
     "shell.execute_reply.started": "2022-12-15T15:13:32.716709Z"
    },
    "tags": []
   },
   "outputs": [],
   "source": [
    "label_to_plot = 'Quercus'\n",
    "threshold = .0"
   ]
  },
  {
   "cell_type": "code",
   "execution_count": 14,
   "id": "dc2c61f9-e850-45ac-8335-6a1f9f473a43",
   "metadata": {
    "execution": {
     "iopub.execute_input": "2022-12-15T15:13:59.592161Z",
     "iopub.status.busy": "2022-12-15T15:13:59.591669Z",
     "iopub.status.idle": "2022-12-15T15:13:59.670974Z",
     "shell.execute_reply": "2022-12-15T15:13:59.668841Z",
     "shell.execute_reply.started": "2022-12-15T15:13:59.592119Z"
    }
   },
   "outputs": [
    {
     "data": {
      "text/html": [
       "<div>\n",
       "<style scoped>\n",
       "    .dataframe tbody tr th:only-of-type {\n",
       "        vertical-align: middle;\n",
       "    }\n",
       "\n",
       "    .dataframe tbody tr th {\n",
       "        vertical-align: top;\n",
       "    }\n",
       "\n",
       "    .dataframe thead th {\n",
       "        text-align: right;\n",
       "    }\n",
       "</style>\n",
       "<table border=\"1\" class=\"dataframe\">\n",
       "  <thead>\n",
       "    <tr style=\"text-align: right;\">\n",
       "      <th></th>\n",
       "      <th>poleno</th>\n",
       "      <th>pred_class</th>\n",
       "      <th>pred_certainty</th>\n",
       "      <th>event_timestamp</th>\n",
       "    </tr>\n",
       "  </thead>\n",
       "  <tbody>\n",
       "    <tr>\n",
       "      <th>118</th>\n",
       "      <td>11ea52ed-6bbd-6c70-af8c-0242ac130004</td>\n",
       "      <td>Quercus</td>\n",
       "      <td>0.293733</td>\n",
       "      <td>2020-02-19 07:57:05.170798080</td>\n",
       "    </tr>\n",
       "    <tr>\n",
       "      <th>292</th>\n",
       "      <td>11ea52d8-6975-d598-af8c-0242ac130004</td>\n",
       "      <td>Quercus</td>\n",
       "      <td>0.026985</td>\n",
       "      <td>2020-02-19 05:26:41.946687488</td>\n",
       "    </tr>\n",
       "    <tr>\n",
       "      <th>414</th>\n",
       "      <td>11ea5358-b88b-a02e-af8c-0242ac130004</td>\n",
       "      <td>Quercus</td>\n",
       "      <td>1.000000</td>\n",
       "      <td>2020-02-19 20:45:10.076313856</td>\n",
       "    </tr>\n",
       "  </tbody>\n",
       "</table>\n",
       "</div>"
      ],
      "text/plain": [
       "                                   poleno pred_class  pred_certainty  \\\n",
       "118  11ea52ed-6bbd-6c70-af8c-0242ac130004    Quercus        0.293733   \n",
       "292  11ea52d8-6975-d598-af8c-0242ac130004    Quercus        0.026985   \n",
       "414  11ea5358-b88b-a02e-af8c-0242ac130004    Quercus        1.000000   \n",
       "\n",
       "                  event_timestamp  \n",
       "118 2020-02-19 07:57:05.170798080  \n",
       "292 2020-02-19 05:26:41.946687488  \n",
       "414 2020-02-19 20:45:10.076313856  "
      ]
     },
     "execution_count": 14,
     "metadata": {},
     "output_type": "execute_result"
    }
   ],
   "source": [
    "df_poleno_to_plot.head(3)"
   ]
  },
  {
   "cell_type": "code",
   "execution_count": 17,
   "id": "8763d2bb-6faa-422c-a45d-5818c57e4687",
   "metadata": {
    "execution": {
     "iopub.execute_input": "2022-12-15T15:17:51.679727Z",
     "iopub.status.busy": "2022-12-15T15:17:51.679213Z",
     "iopub.status.idle": "2022-12-15T15:17:51.761564Z",
     "shell.execute_reply": "2022-12-15T15:17:51.760140Z",
     "shell.execute_reply.started": "2022-12-15T15:17:51.679684Z"
    },
    "tags": []
   },
   "outputs": [
    {
     "data": {
      "text/html": [
       "<div>\n",
       "<style scoped>\n",
       "    .dataframe tbody tr th:only-of-type {\n",
       "        vertical-align: middle;\n",
       "    }\n",
       "\n",
       "    .dataframe tbody tr th {\n",
       "        vertical-align: top;\n",
       "    }\n",
       "\n",
       "    .dataframe thead th {\n",
       "        text-align: right;\n",
       "    }\n",
       "</style>\n",
       "<table border=\"1\" class=\"dataframe\">\n",
       "  <thead>\n",
       "    <tr style=\"text-align: right;\">\n",
       "      <th></th>\n",
       "      <th>poleno</th>\n",
       "      <th>pred_class</th>\n",
       "      <th>pred_certainty</th>\n",
       "      <th>event_timestamp</th>\n",
       "    </tr>\n",
       "    <tr>\n",
       "      <th>event_timestamp</th>\n",
       "      <th></th>\n",
       "      <th></th>\n",
       "      <th></th>\n",
       "      <th></th>\n",
       "    </tr>\n",
       "  </thead>\n",
       "  <tbody>\n",
       "    <tr>\n",
       "      <th>2020-02-19 05:00:00</th>\n",
       "      <td>1</td>\n",
       "      <td>1</td>\n",
       "      <td>1</td>\n",
       "      <td>1</td>\n",
       "    </tr>\n",
       "    <tr>\n",
       "      <th>2020-02-19 06:00:00</th>\n",
       "      <td>0</td>\n",
       "      <td>0</td>\n",
       "      <td>0</td>\n",
       "      <td>0</td>\n",
       "    </tr>\n",
       "    <tr>\n",
       "      <th>2020-02-19 07:00:00</th>\n",
       "      <td>1</td>\n",
       "      <td>1</td>\n",
       "      <td>1</td>\n",
       "      <td>1</td>\n",
       "    </tr>\n",
       "  </tbody>\n",
       "</table>\n",
       "</div>"
      ],
      "text/plain": [
       "                     poleno  pred_class  pred_certainty  event_timestamp\n",
       "event_timestamp                                                         \n",
       "2020-02-19 05:00:00       1           1               1                1\n",
       "2020-02-19 06:00:00       0           0               0                0\n",
       "2020-02-19 07:00:00       1           1               1                1"
      ]
     },
     "execution_count": 17,
     "metadata": {},
     "output_type": "execute_result"
    }
   ],
   "source": [
    "# poleno\n",
    "df_poleno_to_plot = df_poleno[(df_poleno.pred_class == label_to_plot) & (df_poleno.pred_certainty > threshold)].rename(columns={'event_id': 'poleno'})\n",
    "df_poleno_to_plot = df_poleno_to_plot.resample(agg_freq).count() # frequency conversion and resampling of time series\n",
    "if df_poleno_to_plot.shape[0] <= 0: # if no event has been found, create \"empty\" time series\n",
    "    ix_ = pd.period_range(df_poleno.index.min(), df_poleno.index.max(), freq='1D')\n",
    "    df_poleno_to_plot = pd.DataFrame({'poleno': np.zeros(len(ix_))}, index=ix_)\n",
    "df_poleno_to_plot.head(3)"
   ]
  },
  {
   "cell_type": "code",
   "execution_count": 18,
   "id": "843756d2-8f71-4139-a9a3-6b28c2af9821",
   "metadata": {
    "execution": {
     "iopub.execute_input": "2022-12-15T15:18:24.123938Z",
     "iopub.status.busy": "2022-12-15T15:18:24.123349Z",
     "iopub.status.idle": "2022-12-15T15:18:24.923838Z",
     "shell.execute_reply": "2022-12-15T15:18:24.921501Z",
     "shell.execute_reply.started": "2022-12-15T15:18:24.123894Z"
    },
    "tags": []
   },
   "outputs": [
    {
     "data": {
      "text/html": [
       "<div>\n",
       "<style scoped>\n",
       "    .dataframe tbody tr th:only-of-type {\n",
       "        vertical-align: middle;\n",
       "    }\n",
       "\n",
       "    .dataframe tbody tr th {\n",
       "        vertical-align: top;\n",
       "    }\n",
       "\n",
       "    .dataframe thead th {\n",
       "        text-align: right;\n",
       "    }\n",
       "</style>\n",
       "<table border=\"1\" class=\"dataframe\">\n",
       "  <thead>\n",
       "    <tr style=\"text-align: right;\">\n",
       "      <th></th>\n",
       "      <th>hirst</th>\n",
       "    </tr>\n",
       "    <tr>\n",
       "      <th>event_timestamp</th>\n",
       "      <th></th>\n",
       "    </tr>\n",
       "  </thead>\n",
       "  <tbody>\n",
       "    <tr>\n",
       "      <th>2020-02-01 00:00:00</th>\n",
       "      <td>0.0</td>\n",
       "    </tr>\n",
       "    <tr>\n",
       "      <th>2020-02-01 01:00:00</th>\n",
       "      <td>0.0</td>\n",
       "    </tr>\n",
       "    <tr>\n",
       "      <th>2020-02-01 02:00:00</th>\n",
       "      <td>0.0</td>\n",
       "    </tr>\n",
       "  </tbody>\n",
       "</table>\n",
       "</div>"
      ],
      "text/plain": [
       "                     hirst\n",
       "event_timestamp           \n",
       "2020-02-01 00:00:00    0.0\n",
       "2020-02-01 01:00:00    0.0\n",
       "2020-02-01 02:00:00    0.0"
      ]
     },
     "execution_count": 19,
     "metadata": {},
     "output_type": "execute_result"
    }
   ],
   "source": [
    "# hirst\n",
    "df_hirst_to_plot = pd.DataFrame({'hirst': df_hirst[label_to_plot].resample(agg_freq).sum()})\n",
    "df_hirst_to_plot.head(3)"
   ]
  },
  {
   "cell_type": "code",
   "execution_count": 28,
   "id": "09bb7593-8df2-4d4d-a483-12e54f50b90d",
   "metadata": {
    "execution": {
     "iopub.execute_input": "2022-12-15T15:22:04.956935Z",
     "iopub.status.busy": "2022-12-15T15:22:04.956425Z",
     "iopub.status.idle": "2022-12-15T15:22:05.491775Z",
     "shell.execute_reply": "2022-12-15T15:22:05.490612Z",
     "shell.execute_reply.started": "2022-12-15T15:22:04.956869Z"
    },
    "tags": []
   },
   "outputs": [
    {
     "name": "stdout",
     "output_type": "stream",
     "text": [
      "        poleno  hirst\n",
      "poleno     1.0    NaN\n",
      "hirst      NaN    1.0\n"
     ]
    },
    {
     "data": {
      "image/png": "[encoded data removed]",
      "text/plain": [
       "<Figure size 500x300 with 1 Axes>"
      ]
     },
     "metadata": {},
     "output_type": "display_data"
    }
   ],
   "source": [
    "df_final_plot = df_poleno_to_plot.merge(df_hirst_to_plot, on='event_timestamp', how='outer')[['poleno', 'hirst']]\n",
    "print(df_final_plot.corr())\n",
    "fig = df_final_plot.plot(figsize=(5, 3), title=label_to_plot, ylabel='concentration')\n",
    "fig.plot()\n",
    "plt.show()"
   ]
  },
  {
   "cell_type": "code",
   "execution_count": null,
   "id": "2da3048a-ab9f-4e9a-876f-64c651637363",
   "metadata": {
    "tags": []
   },
   "outputs": [],
   "source": [
    "df_final_plot.corr().poleno.hirst"
   ]
  },
  {
   "cell_type": "raw",
   "id": "1b2a92c7-c0ac-4a52-98f0-76153dea9381",
   "metadata": {},
   "source": [
    "possibilité de mesurer la corrélation par taxa et la corrélation moyenne globale\n",
    "possibilité de plot les courbes par taxa (moyenne des pollenos)\n",
    "possibilité de plot l'erreur"
   ]
  },
  {
   "cell_type": "raw",
   "id": "172ff0b3-8301-49ad-b599-33e3780ea657",
   "metadata": {
    "execution": {
     "iopub.execute_input": "2022-12-12T09:53:48.786043Z",
     "iopub.status.busy": "2022-12-12T09:53:48.785391Z",
     "iopub.status.idle": "2022-12-12T09:53:49.330627Z",
     "shell.execute_reply": "2022-12-12T09:53:49.329471Z",
     "shell.execute_reply.started": "2022-12-12T09:53:48.786002Z"
    },
    "tags": []
   },
   "source": [
    "# plot concentrations\n",
    "fig = df_poleno_to_plot.plot.line(\n",
    "    ylabel='concentration',\n",
    "    legend=False,\n",
    "    title=label_to_plot,\n",
    "    color='red',\n",
    "    figsize=(12,12)\n",
    ")\n",
    "fig.plot()\n",
    "plt.show()"
   ]
  },
  {
   "cell_type": "raw",
   "id": "cfbe3a94-27bc-4c63-b499-f14bf8d36c29",
   "metadata": {
    "execution": {
     "iopub.execute_input": "2022-12-12T09:43:32.357212Z",
     "iopub.status.busy": "2022-12-12T09:43:32.356797Z",
     "iopub.status.idle": "2022-12-12T09:43:32.726099Z",
     "shell.execute_reply": "2022-12-12T09:43:32.724855Z",
     "shell.execute_reply.started": "2022-12-12T09:43:32.357181Z"
    },
    "tags": []
   },
   "source": [
    "fig = df_hirst_to_plot.plot.line(\n",
    "    ylabel='concentration',\n",
    "    legend=False,\n",
    "    title=label_to_plot,\n",
    "    color='red',\n",
    "    figsize=(12,12)\n",
    ")\n",
    "fig.plot()\n",
    "plt.show()"
   ]
  },
  {
   "cell_type": "code",
   "execution_count": null,
   "id": "29536b40-ba1f-4b1c-b17e-5bf2cca4da83",
   "metadata": {
    "tags": []
   },
   "outputs": [],
   "source": [
    "## 1.2 read hirst df\n",
    "print('read hirst data...')\n",
    "hirstfile = \"hirst_pay_19022020-24052020.csv\"\n",
    "df_hirst = pd.DataFrame(pd.read_csv(hirstfile))\n",
    "# create timestamp index\n",
    "df_hirst['timestamp'] = df_hirst.apply(lambda x: datetime.datetime(x['Year'], x['Month'], x['Day'], x['Hour'], x['Minute']), axis=1)\n",
    "# filter the data\n",
    "df_hirst = df_hirst.set_index('timestamp')[[lbl for lbl in labels if lbl in df_hirst.columns]]\n",
    "#df_hirst.columns = labels\n",
    "df_hirst = df_hirst.replace(32767,np.nan)\n",
    "df_hirst.head()"
   ]
  },
  {
   "cell_type": "code",
   "execution_count": null,
   "id": "08f06864-414a-40e9-93a6-d5b4692a8de9",
   "metadata": {},
   "outputs": [],
   "source": [
    "## 3.3 resample hirst data\n",
    "print('resample hirst...')\n",
    "agg_time = pd.date_range(start=start_date, end=end_date, freq=agg_freq)\n",
    "df_hirst_agg = pd.DataFrame(index=agg_time, columns=df_hirst.columns)\n",
    "\n",
    "# need explanations:\n",
    "for t in agg_time:\n",
    "    tstr = t.strftime('%Y-%m-%d %H:%M:00')\n",
    "    print(tstr)\n",
    "    if pd.Timedelta(agg_freq) >= pd.Timedelta('1d'):\n",
    "        tmp_bool = (df_hirst.index >= t) & (df_hirst.index < (t+pd.Timedelta(agg_freq)))\n",
    "    else:\n",
    "        tmp_bool = (df_hirst.index > (t-pd.Timedelta(agg_freq))) & (df_hirst.index <= t)\n",
    "    \n",
    "    for label in labels:\n",
    "        df_hirst_agg.loc[tstr][label]=np.nanmean(df_hirst[tmp_bool][label])\n",
    "\n",
    "if abc_switch:\n",
    "    df_hirst_agg['abc'] = df_hirst_agg[['alnus','betula','corylus']].sum(axis=1)\n",
    "# ---\n",
    "\n",
    "labels = df_hirst_agg.columns\n",
    "df_hirst_agg.to_csv(output_path+\"hirst.csv\")\n",
    "\n",
    "### ==========================================\n",
    "df_corr_all = pd.DataFrame(columns=labels)\n",
    "df_corr_all['seuil']=np.nan\n",
    "for seuil in seuils:\n",
    "    ### 4. correlation ==============================\n",
    "    print('computing correlations...')\n",
    "    df_corr = pd.DataFrame(columns=labels, index=['hirst-p2','hirst-p4','hirst-p5','p2-p4','p2-p5','p4-p5','avg_hirst','avg_p2','avg_p4','avg_p5'])\n",
    "    for label in labels:\n",
    "        df_corr.loc['avg_hirst'][label] = df_hirst_agg[label].mean()\n",
    "        if pswitch[0] == 1:\n",
    "            df_corr.loc['hirst-p2'][label] = pd.concat([df_hirst_agg[label],df_p2_agg[label]],axis=1).astype(float).corr().to_numpy()[0][1]\n",
    "            df_corr.loc['avg_p2'][label] = df_p2_agg[label].mean()\n",
    "        if pswitch[1] == 1:    \n",
    "            df_corr.loc['hirst-p4'][label] = pd.concat([df_hirst_agg[label],df_p4_agg[label]],axis=1).astype(float).corr().to_numpy()[0][1]\n",
    "            df_corr.loc['avg_p4'][label] = df_p4_agg[label].mean()\n",
    "        if pswitch[2] == 1:    \n",
    "            df_corr.loc['hirst-p5'][label] = pd.concat([df_hirst_agg[label],df_p5_agg[label]],axis=1).astype(float).corr().to_numpy()[0][1]\n",
    "            df_corr.loc['avg_p5'][label] = df_p5_agg[label].mean()\n",
    "        if pswitch[0] + pswitch[1] == 2:\n",
    "            df_corr.loc['p2-p4'][label] = pd.concat([df_p2_agg[label],df_p4_agg[label]],axis=1).astype(float).corr().to_numpy()[0][1]\n",
    "        if pswitch[0] + pswitch[2] == 2:\n",
    "            df_corr.loc['p2-p5'][label] = pd.concat([df_p2_agg[label],df_p5_agg[label]],axis=1).astype(float).corr().to_numpy()[0][1]\n",
    "        if pswitch[1] + pswitch[2] == 2:\n",
    "            df_corr.loc['p4-p5'][label] = pd.concat([df_p4_agg[label],df_p5_agg[label]],axis=1).astype(float).corr().to_numpy()[0][1]\n",
    "        \n",
    "    #df_corr.to_csv(output_path+seuillabel+\"_correlations.csv\")\n",
    "    df_corr['seuil']=seuil\n",
    "    df_corr_all = pd.concat([df_corr_all,df_corr])"
   ]
  },
  {
   "cell_type": "raw",
   "id": "cdc8f856-2859-4ff1-bdbe-78c94256a83f",
   "metadata": {},
   "source": [
    "corr, FP\n",
    "it's worse to have 5% error in a period where concentration should be close to 0 than during a period where concentrations are high (peaks)"
   ]
  },
  {
   "cell_type": "markdown",
   "id": "59485cf1-59dc-44f5-9404-fb302c53d268",
   "metadata": {
    "jp-MarkdownHeadingCollapsed": true,
    "tags": []
   },
   "source": [
    "#### Old Prepare poleno data"
   ]
  },
  {
   "cell_type": "raw",
   "id": "16cd2caa-e94f-4059-aad0-86f5bf17b657",
   "metadata": {
    "execution": {
     "iopub.execute_input": "2022-12-15T13:05:10.522110Z",
     "iopub.status.busy": "2022-12-15T13:05:10.521490Z",
     "iopub.status.idle": "2022-12-15T13:05:12.099421Z",
     "shell.execute_reply": "2022-12-15T13:05:12.097787Z",
     "shell.execute_reply.started": "2022-12-15T13:05:10.522064Z"
    },
    "tags": []
   },
   "source": [
    "# query the DB to get each event's timestamp\n",
    "df = pd.read_csv(preds_file_path, index_col=0)\n",
    "columns_ = [\n",
    "    DataColumn(pdm.Event.event_id_uuid),\n",
    "    DataColumn(pdm.Event.timestamp),\n",
    "]\n",
    "\n",
    "df_meta = pd.DataFrame(columns=[\"event_id\", \"event_timestamp\"])\n",
    "for df_chunk in tqdm(np.array_split(df, 100)):\n",
    "    filter_ = AndClause(\n",
    "        ConditionClause(\n",
    "            pdm.Event.event_id_bin, \"IN\", [UUID(id_).bytes for id_ in df_chunk[\"event_id\"]]\n",
    "        )\n",
    "    )\n",
    "    result = query_interface_ml.session.execute(\n",
    "        finalize_query(\n",
    "            columns=columns_,\n",
    "            filter_clause=filter_\n",
    "        )\n",
    "    )\n",
    "    df_tmp = pd.DataFrame(result, columns=[\"event_id\", \"event_timestamp\"])\n",
    "    df_meta = pd.concat([df_meta, df_tmp])\n",
    "\n",
    "df_meta[\"event_timestamp\"] = df_meta[\"event_timestamp\"].apply(float)\n",
    "df_meta[\"event_timestamp\"] = pd.to_datetime(df_meta[\"event_timestamp\"], unit=\"s\")\n",
    "df_meta.to_csv(timestamps_file_path)"
   ]
  },
  {
   "cell_type": "raw",
   "id": "f2f0837f-d931-4f3c-8357-bc6f8b85da80",
   "metadata": {
    "execution": {
     "iopub.status.busy": "2022-12-15T11:20:37.028489Z",
     "iopub.status.idle": "2022-12-15T11:20:37.028855Z",
     "shell.execute_reply": "2022-12-15T11:20:37.028696Z"
    },
    "tags": []
   },
   "source": [
    "# merge\n",
    "df = pd.read_csv(preds_file_path, index_col=0)\n",
    "df_meta = pd.read_csv(timestamps_file_path, index_col=0)\n",
    "merged_df = pd.merge(df_meta, df, left_on=\"event_id\", right_on=\"event_id\")\n",
    "merged_df = merged_df.set_index(\"event_timestamp\")\n",
    "#merged_df[merged_df.duplicated()]\n",
    "merged_df.to_csv(poleno_file_path)"
   ]
  }
 ],
 "metadata": {
  "kernelspec": {
   "display_name": "Python 3",
   "language": "python",
   "name": "python3"
  },
  "language_info": {
   "codemirror_mode": {
    "name": "ipython",
    "version": 3
   },
   "file_extension": ".py",
   "mimetype": "text/x-python",
   "name": "python",
   "nbconvert_exporter": "python",
   "pygments_lexer": "ipython3",
   "version": "3.8.10"
  }
 },
 "nbformat": 4,
 "nbformat_minor": 5
}
