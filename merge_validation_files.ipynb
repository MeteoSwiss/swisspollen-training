{
 "cells": [
  {
   "cell_type": "code",
   "execution_count": 22,
   "id": "9d1eec0d-2510-46f2-bd68-2ad3e952016e",
   "metadata": {
    "execution": {
     "iopub.execute_input": "2023-03-07T07:34:07.267481Z",
     "iopub.status.busy": "2023-03-07T07:34:07.266907Z",
     "iopub.status.idle": "2023-03-07T07:34:07.272426Z",
     "shell.execute_reply": "2023-03-07T07:34:07.271192Z",
     "shell.execute_reply.started": "2023-03-07T07:34:07.267434Z"
    },
    "tags": []
   },
   "outputs": [],
   "source": [
    "import pandas as pd"
   ]
  },
  {
   "cell_type": "code",
   "execution_count": 23,
   "id": "2b939e69-2e0a-4538-a472-0684de396195",
   "metadata": {
    "execution": {
     "iopub.execute_input": "2023-03-07T07:34:07.274659Z",
     "iopub.status.busy": "2023-03-07T07:34:07.274313Z",
     "iopub.status.idle": "2023-03-07T07:34:07.278656Z",
     "shell.execute_reply": "2023-03-07T07:34:07.277635Z",
     "shell.execute_reply.started": "2023-03-07T07:34:07.274623Z"
    },
    "tags": []
   },
   "outputs": [],
   "source": [
    "FILE1 = 'models/14Pol_wd_10Mparam/eval/poleno-28_01022022-01052022.csv'\n",
    "FILE2 = 'models/14Pol_wd_10Mparam/eval/poleno-28_01052022-01082022.csv'"
   ]
  },
  {
   "cell_type": "code",
   "execution_count": 24,
   "id": "130c798a-2df1-4db9-ae21-e64578f18498",
   "metadata": {
    "execution": {
     "iopub.execute_input": "2023-03-07T07:34:07.281149Z",
     "iopub.status.busy": "2023-03-07T07:34:07.280786Z",
     "iopub.status.idle": "2023-03-07T07:34:07.284685Z",
     "shell.execute_reply": "2023-03-07T07:34:07.283733Z",
     "shell.execute_reply.started": "2023-03-07T07:34:07.281114Z"
    },
    "tags": []
   },
   "outputs": [],
   "source": [
    "FILE1 = 'models/14Pol_Rain_10M_param_NEW/eval/poleno-28_01022022-01052022.csv'\n",
    "FILE2 = 'models/14Pol_Rain_10M_param_NEW/eval/poleno-28_01052022-01082022.csv'"
   ]
  },
  {
   "cell_type": "raw",
   "id": "38f4c178-b060-4dbd-b7ef-6e774ae32014",
   "metadata": {
    "execution": {
     "iopub.execute_input": "2023-03-07T07:33:35.028102Z",
     "iopub.status.busy": "2023-03-07T07:33:35.027721Z",
     "iopub.status.idle": "2023-03-07T07:33:35.032169Z",
     "shell.execute_reply": "2023-03-07T07:33:35.031179Z",
     "shell.execute_reply.started": "2023-03-07T07:33:35.028060Z"
    }
   },
   "source": [
    "FILE1 = 'models/14Pol_Rain_10M_param_OLD/eval/poleno-28_01022022-01052022.csv'\n",
    "FILE2 = 'models/14Pol_Rain_10M_param_OLD/eval/poleno-28_01052022-01082022.csv'"
   ]
  },
  {
   "cell_type": "code",
   "execution_count": 25,
   "id": "93a46c3a-2d84-4419-b0f4-f4530368f8b0",
   "metadata": {
    "execution": {
     "iopub.execute_input": "2023-03-07T07:34:07.288027Z",
     "iopub.status.busy": "2023-03-07T07:34:07.287695Z",
     "iopub.status.idle": "2023-03-07T07:34:09.087570Z",
     "shell.execute_reply": "2023-03-07T07:34:09.086326Z",
     "shell.execute_reply.started": "2023-03-07T07:34:07.287992Z"
    },
    "tags": []
   },
   "outputs": [
    {
     "data": {
      "text/html": [
       "<div>\n",
       "<style scoped>\n",
       "    .dataframe tbody tr th:only-of-type {\n",
       "        vertical-align: middle;\n",
       "    }\n",
       "\n",
       "    .dataframe tbody tr th {\n",
       "        vertical-align: top;\n",
       "    }\n",
       "\n",
       "    .dataframe thead th {\n",
       "        text-align: right;\n",
       "    }\n",
       "</style>\n",
       "<table border=\"1\" class=\"dataframe\">\n",
       "  <thead>\n",
       "    <tr style=\"text-align: right;\">\n",
       "      <th></th>\n",
       "      <th>event_id</th>\n",
       "      <th>pred_class</th>\n",
       "      <th>pred_certainty</th>\n",
       "    </tr>\n",
       "    <tr>\n",
       "      <th>event_timestamp</th>\n",
       "      <th></th>\n",
       "      <th></th>\n",
       "      <th></th>\n",
       "    </tr>\n",
       "  </thead>\n",
       "  <tbody>\n",
       "    <tr>\n",
       "      <th>2022-02-10 17:12:38.816550144</th>\n",
       "      <td>11ec8a94-ac65-1562-86e4-0242ac130064</td>\n",
       "      <td>Populus</td>\n",
       "      <td>0.757258</td>\n",
       "    </tr>\n",
       "    <tr>\n",
       "      <th>2022-02-14 07:39:26.593077760</th>\n",
       "      <td>11ec8d69-42be-a5b0-86e4-0242ac130064</td>\n",
       "      <td>Taxus</td>\n",
       "      <td>0.344766</td>\n",
       "    </tr>\n",
       "    <tr>\n",
       "      <th>2022-02-17 15:41:43.745119232</th>\n",
       "      <td>11ec9008-1be9-f1dc-86e4-0242ac130064</td>\n",
       "      <td>Ulmus</td>\n",
       "      <td>0.510319</td>\n",
       "    </tr>\n",
       "    <tr>\n",
       "      <th>2022-02-18 12:34:35.645493248</th>\n",
       "      <td>11ec90b7-21d4-f9b6-86e4-0242ac130064</td>\n",
       "      <td>Corylus</td>\n",
       "      <td>0.591911</td>\n",
       "    </tr>\n",
       "    <tr>\n",
       "      <th>2022-03-03 20:59:50.119373056</th>\n",
       "      <td>11ec9b34-de06-d92e-86e4-0242ac130064</td>\n",
       "      <td>Taxus</td>\n",
       "      <td>0.788506</td>\n",
       "    </tr>\n",
       "  </tbody>\n",
       "</table>\n",
       "</div>"
      ],
      "text/plain": [
       "                                                           event_id  \\\n",
       "event_timestamp                                                       \n",
       "2022-02-10 17:12:38.816550144  11ec8a94-ac65-1562-86e4-0242ac130064   \n",
       "2022-02-14 07:39:26.593077760  11ec8d69-42be-a5b0-86e4-0242ac130064   \n",
       "2022-02-17 15:41:43.745119232  11ec9008-1be9-f1dc-86e4-0242ac130064   \n",
       "2022-02-18 12:34:35.645493248  11ec90b7-21d4-f9b6-86e4-0242ac130064   \n",
       "2022-03-03 20:59:50.119373056  11ec9b34-de06-d92e-86e4-0242ac130064   \n",
       "\n",
       "                              pred_class  pred_certainty  \n",
       "event_timestamp                                           \n",
       "2022-02-10 17:12:38.816550144    Populus        0.757258  \n",
       "2022-02-14 07:39:26.593077760      Taxus        0.344766  \n",
       "2022-02-17 15:41:43.745119232      Ulmus        0.510319  \n",
       "2022-02-18 12:34:35.645493248    Corylus        0.591911  \n",
       "2022-03-03 20:59:50.119373056      Taxus        0.788506  "
      ]
     },
     "execution_count": 25,
     "metadata": {},
     "output_type": "execute_result"
    }
   ],
   "source": [
    "df1 = pd.read_csv(FILE1, index_col=0, parse_dates=True)\n",
    "df1.head()"
   ]
  },
  {
   "cell_type": "code",
   "execution_count": 26,
   "id": "40d04173-2101-4fb6-b385-bcf6e5df5369",
   "metadata": {
    "execution": {
     "iopub.execute_input": "2023-03-07T07:34:09.089690Z",
     "iopub.status.busy": "2023-03-07T07:34:09.089331Z",
     "iopub.status.idle": "2023-03-07T07:34:09.863420Z",
     "shell.execute_reply": "2023-03-07T07:34:09.862148Z",
     "shell.execute_reply.started": "2023-03-07T07:34:09.089653Z"
    },
    "tags": []
   },
   "outputs": [
    {
     "data": {
      "text/html": [
       "<div>\n",
       "<style scoped>\n",
       "    .dataframe tbody tr th:only-of-type {\n",
       "        vertical-align: middle;\n",
       "    }\n",
       "\n",
       "    .dataframe tbody tr th {\n",
       "        vertical-align: top;\n",
       "    }\n",
       "\n",
       "    .dataframe thead th {\n",
       "        text-align: right;\n",
       "    }\n",
       "</style>\n",
       "<table border=\"1\" class=\"dataframe\">\n",
       "  <thead>\n",
       "    <tr style=\"text-align: right;\">\n",
       "      <th></th>\n",
       "      <th>event_id</th>\n",
       "      <th>pred_class</th>\n",
       "      <th>pred_certainty</th>\n",
       "    </tr>\n",
       "    <tr>\n",
       "      <th>event_timestamp</th>\n",
       "      <th></th>\n",
       "      <th></th>\n",
       "      <th></th>\n",
       "    </tr>\n",
       "  </thead>\n",
       "  <tbody>\n",
       "    <tr>\n",
       "      <th>2022-05-07 12:05:10.959494144</th>\n",
       "      <td>11eccdfd-f22d-b340-9be1-0242ac130064</td>\n",
       "      <td>Pinaceae</td>\n",
       "      <td>0.954794</td>\n",
       "    </tr>\n",
       "    <tr>\n",
       "      <th>2022-05-10 01:28:07.301137152</th>\n",
       "      <td>11ecd000-7262-25ec-9be1-0242ac130064</td>\n",
       "      <td>Pinaceae</td>\n",
       "      <td>0.999999</td>\n",
       "    </tr>\n",
       "    <tr>\n",
       "      <th>2022-05-11 07:44:00.530869504</th>\n",
       "      <td>11ecd0fe-1f95-043e-9be1-0242ac130064</td>\n",
       "      <td>Pinaceae</td>\n",
       "      <td>0.826045</td>\n",
       "    </tr>\n",
       "    <tr>\n",
       "      <th>2022-05-16 16:57:18.160463360</th>\n",
       "      <td>11ecd539-3efc-55cc-9be1-0242ac130064</td>\n",
       "      <td>Plantanus</td>\n",
       "      <td>0.542949</td>\n",
       "    </tr>\n",
       "    <tr>\n",
       "      <th>2022-05-20 13:55:19.273054720</th>\n",
       "      <td>11ecd844-7c73-8ea8-aaf5-0242ac130064</td>\n",
       "      <td>Pinaceae</td>\n",
       "      <td>0.996490</td>\n",
       "    </tr>\n",
       "  </tbody>\n",
       "</table>\n",
       "</div>"
      ],
      "text/plain": [
       "                                                           event_id  \\\n",
       "event_timestamp                                                       \n",
       "2022-05-07 12:05:10.959494144  11eccdfd-f22d-b340-9be1-0242ac130064   \n",
       "2022-05-10 01:28:07.301137152  11ecd000-7262-25ec-9be1-0242ac130064   \n",
       "2022-05-11 07:44:00.530869504  11ecd0fe-1f95-043e-9be1-0242ac130064   \n",
       "2022-05-16 16:57:18.160463360  11ecd539-3efc-55cc-9be1-0242ac130064   \n",
       "2022-05-20 13:55:19.273054720  11ecd844-7c73-8ea8-aaf5-0242ac130064   \n",
       "\n",
       "                              pred_class  pred_certainty  \n",
       "event_timestamp                                           \n",
       "2022-05-07 12:05:10.959494144   Pinaceae        0.954794  \n",
       "2022-05-10 01:28:07.301137152   Pinaceae        0.999999  \n",
       "2022-05-11 07:44:00.530869504   Pinaceae        0.826045  \n",
       "2022-05-16 16:57:18.160463360  Plantanus        0.542949  \n",
       "2022-05-20 13:55:19.273054720   Pinaceae        0.996490  "
      ]
     },
     "execution_count": 26,
     "metadata": {},
     "output_type": "execute_result"
    }
   ],
   "source": [
    "df2 = pd.read_csv(FILE2,index_col=0, parse_dates=True)\n",
    "df2.head()"
   ]
  },
  {
   "cell_type": "code",
   "execution_count": 27,
   "id": "da770b29-66a6-4d3e-b08b-e603b105c77c",
   "metadata": {
    "execution": {
     "iopub.execute_input": "2023-03-07T07:34:09.866172Z",
     "iopub.status.busy": "2023-03-07T07:34:09.865784Z",
     "iopub.status.idle": "2023-03-07T07:34:09.911545Z",
     "shell.execute_reply": "2023-03-07T07:34:09.910567Z",
     "shell.execute_reply.started": "2023-03-07T07:34:09.866132Z"
    },
    "tags": []
   },
   "outputs": [
    {
     "data": {
      "text/html": [
       "<div>\n",
       "<style scoped>\n",
       "    .dataframe tbody tr th:only-of-type {\n",
       "        vertical-align: middle;\n",
       "    }\n",
       "\n",
       "    .dataframe tbody tr th {\n",
       "        vertical-align: top;\n",
       "    }\n",
       "\n",
       "    .dataframe thead th {\n",
       "        text-align: right;\n",
       "    }\n",
       "</style>\n",
       "<table border=\"1\" class=\"dataframe\">\n",
       "  <thead>\n",
       "    <tr style=\"text-align: right;\">\n",
       "      <th></th>\n",
       "      <th>event_id</th>\n",
       "      <th>pred_class</th>\n",
       "      <th>pred_certainty</th>\n",
       "    </tr>\n",
       "    <tr>\n",
       "      <th>event_timestamp</th>\n",
       "      <th></th>\n",
       "      <th></th>\n",
       "      <th></th>\n",
       "    </tr>\n",
       "  </thead>\n",
       "  <tbody>\n",
       "    <tr>\n",
       "      <th>2022-02-10 17:12:38.816550144</th>\n",
       "      <td>11ec8a94-ac65-1562-86e4-0242ac130064</td>\n",
       "      <td>Populus</td>\n",
       "      <td>0.757258</td>\n",
       "    </tr>\n",
       "    <tr>\n",
       "      <th>2022-02-14 07:39:26.593077760</th>\n",
       "      <td>11ec8d69-42be-a5b0-86e4-0242ac130064</td>\n",
       "      <td>Taxus</td>\n",
       "      <td>0.344766</td>\n",
       "    </tr>\n",
       "    <tr>\n",
       "      <th>2022-02-17 15:41:43.745119232</th>\n",
       "      <td>11ec9008-1be9-f1dc-86e4-0242ac130064</td>\n",
       "      <td>Ulmus</td>\n",
       "      <td>0.510319</td>\n",
       "    </tr>\n",
       "    <tr>\n",
       "      <th>2022-02-18 12:34:35.645493248</th>\n",
       "      <td>11ec90b7-21d4-f9b6-86e4-0242ac130064</td>\n",
       "      <td>Corylus</td>\n",
       "      <td>0.591911</td>\n",
       "    </tr>\n",
       "    <tr>\n",
       "      <th>2022-03-03 20:59:50.119373056</th>\n",
       "      <td>11ec9b34-de06-d92e-86e4-0242ac130064</td>\n",
       "      <td>Taxus</td>\n",
       "      <td>0.788506</td>\n",
       "    </tr>\n",
       "    <tr>\n",
       "      <th>...</th>\n",
       "      <td>...</td>\n",
       "      <td>...</td>\n",
       "      <td>...</td>\n",
       "    </tr>\n",
       "    <tr>\n",
       "      <th>2022-06-18 17:03:33.860491008</th>\n",
       "      <td>11ecef28-9c7a-6186-8297-0242ac130064</td>\n",
       "      <td>Betula</td>\n",
       "      <td>0.766403</td>\n",
       "    </tr>\n",
       "    <tr>\n",
       "      <th>2022-06-20 18:13:55.771264768</th>\n",
       "      <td>11ecf0c4-bfcb-52ec-8297-0242ac130064</td>\n",
       "      <td>Betula</td>\n",
       "      <td>0.700648</td>\n",
       "    </tr>\n",
       "    <tr>\n",
       "      <th>2022-07-16 23:49:00.009010176</th>\n",
       "      <td>11ed0561-dd45-1df1-8cf1-0242ac2a0064</td>\n",
       "      <td>Populus</td>\n",
       "      <td>0.346257</td>\n",
       "    </tr>\n",
       "    <tr>\n",
       "      <th>2022-07-19 03:04:00.269073408</th>\n",
       "      <td>11ed070f-7000-6ade-ae29-0242ac2a0064</td>\n",
       "      <td>Populus</td>\n",
       "      <td>0.621188</td>\n",
       "    </tr>\n",
       "    <tr>\n",
       "      <th>2022-07-19 20:56:41.151852800</th>\n",
       "      <td>11ed07a5-4a13-0144-91e8-0242ac2a0064</td>\n",
       "      <td>Quercus</td>\n",
       "      <td>0.805649</td>\n",
       "    </tr>\n",
       "  </tbody>\n",
       "</table>\n",
       "<p>1198977 rows × 3 columns</p>\n",
       "</div>"
      ],
      "text/plain": [
       "                                                           event_id  \\\n",
       "event_timestamp                                                       \n",
       "2022-02-10 17:12:38.816550144  11ec8a94-ac65-1562-86e4-0242ac130064   \n",
       "2022-02-14 07:39:26.593077760  11ec8d69-42be-a5b0-86e4-0242ac130064   \n",
       "2022-02-17 15:41:43.745119232  11ec9008-1be9-f1dc-86e4-0242ac130064   \n",
       "2022-02-18 12:34:35.645493248  11ec90b7-21d4-f9b6-86e4-0242ac130064   \n",
       "2022-03-03 20:59:50.119373056  11ec9b34-de06-d92e-86e4-0242ac130064   \n",
       "...                                                             ...   \n",
       "2022-06-18 17:03:33.860491008  11ecef28-9c7a-6186-8297-0242ac130064   \n",
       "2022-06-20 18:13:55.771264768  11ecf0c4-bfcb-52ec-8297-0242ac130064   \n",
       "2022-07-16 23:49:00.009010176  11ed0561-dd45-1df1-8cf1-0242ac2a0064   \n",
       "2022-07-19 03:04:00.269073408  11ed070f-7000-6ade-ae29-0242ac2a0064   \n",
       "2022-07-19 20:56:41.151852800  11ed07a5-4a13-0144-91e8-0242ac2a0064   \n",
       "\n",
       "                              pred_class  pred_certainty  \n",
       "event_timestamp                                           \n",
       "2022-02-10 17:12:38.816550144    Populus        0.757258  \n",
       "2022-02-14 07:39:26.593077760      Taxus        0.344766  \n",
       "2022-02-17 15:41:43.745119232      Ulmus        0.510319  \n",
       "2022-02-18 12:34:35.645493248    Corylus        0.591911  \n",
       "2022-03-03 20:59:50.119373056      Taxus        0.788506  \n",
       "...                                  ...             ...  \n",
       "2022-06-18 17:03:33.860491008     Betula        0.766403  \n",
       "2022-06-20 18:13:55.771264768     Betula        0.700648  \n",
       "2022-07-16 23:49:00.009010176    Populus        0.346257  \n",
       "2022-07-19 03:04:00.269073408    Populus        0.621188  \n",
       "2022-07-19 20:56:41.151852800    Quercus        0.805649  \n",
       "\n",
       "[1198977 rows x 3 columns]"
      ]
     },
     "execution_count": 27,
     "metadata": {},
     "output_type": "execute_result"
    }
   ],
   "source": [
    "df = pd.concat([df1, df2])\n",
    "df"
   ]
  },
  {
   "cell_type": "code",
   "execution_count": 28,
   "id": "96576b16-f172-4665-b554-42919f96c14e",
   "metadata": {
    "execution": {
     "iopub.execute_input": "2023-03-07T07:34:09.913637Z",
     "iopub.status.busy": "2023-03-07T07:34:09.913302Z",
     "iopub.status.idle": "2023-03-07T07:34:09.917289Z",
     "shell.execute_reply": "2023-03-07T07:34:09.916278Z",
     "shell.execute_reply.started": "2023-03-07T07:34:09.913602Z"
    },
    "tags": []
   },
   "outputs": [],
   "source": [
    "OUTPUT = 'models/14Pol_Rain_10M_param_NEW/eval/poleno-28_01022022-01082022.csv'"
   ]
  },
  {
   "cell_type": "raw",
   "id": "ead5e8a1-a9fc-425d-8b2c-e6c0cd4faae4",
   "metadata": {
    "execution": {
     "iopub.execute_input": "2023-03-07T07:33:37.315666Z",
     "iopub.status.busy": "2023-03-07T07:33:37.315305Z",
     "iopub.status.idle": "2023-03-07T07:33:37.320302Z",
     "shell.execute_reply": "2023-03-07T07:33:37.319233Z",
     "shell.execute_reply.started": "2023-03-07T07:33:37.315628Z"
    }
   },
   "source": [
    "OUTPUT = 'models/14Pol_Rain_10M_param_OLD/eval/poleno-28_01022022-01082022.csv'"
   ]
  },
  {
   "cell_type": "code",
   "execution_count": 29,
   "id": "1c91a425-10ba-49e0-b805-bd5a8992bd20",
   "metadata": {
    "execution": {
     "iopub.execute_input": "2023-03-07T07:34:09.918803Z",
     "iopub.status.busy": "2023-03-07T07:34:09.918479Z",
     "iopub.status.idle": "2023-03-07T07:34:15.403870Z",
     "shell.execute_reply": "2023-03-07T07:34:15.402539Z",
     "shell.execute_reply.started": "2023-03-07T07:34:09.918770Z"
    },
    "tags": []
   },
   "outputs": [],
   "source": [
    "df.to_csv(OUTPUT)"
   ]
  },
  {
   "cell_type": "code",
   "execution_count": 30,
   "id": "546efae7-6645-4c73-bec8-0f97075ef883",
   "metadata": {
    "execution": {
     "iopub.execute_input": "2023-03-07T07:34:15.408129Z",
     "iopub.status.busy": "2023-03-07T07:34:15.407806Z",
     "iopub.status.idle": "2023-03-07T07:34:17.485148Z",
     "shell.execute_reply": "2023-03-07T07:34:17.483963Z",
     "shell.execute_reply.started": "2023-03-07T07:34:15.408097Z"
    },
    "tags": []
   },
   "outputs": [],
   "source": [
    "test = pd.read_csv(OUTPUT)"
   ]
  },
  {
   "cell_type": "code",
   "execution_count": 31,
   "id": "fce1b41c-02c6-492e-8043-6a7ed3275e0f",
   "metadata": {
    "execution": {
     "iopub.execute_input": "2023-03-07T07:34:17.486214Z",
     "iopub.status.busy": "2023-03-07T07:34:17.485989Z",
     "iopub.status.idle": "2023-03-07T07:34:17.496508Z",
     "shell.execute_reply": "2023-03-07T07:34:17.495742Z",
     "shell.execute_reply.started": "2023-03-07T07:34:17.486190Z"
    }
   },
   "outputs": [
    {
     "data": {
      "text/html": [
       "<div>\n",
       "<style scoped>\n",
       "    .dataframe tbody tr th:only-of-type {\n",
       "        vertical-align: middle;\n",
       "    }\n",
       "\n",
       "    .dataframe tbody tr th {\n",
       "        vertical-align: top;\n",
       "    }\n",
       "\n",
       "    .dataframe thead th {\n",
       "        text-align: right;\n",
       "    }\n",
       "</style>\n",
       "<table border=\"1\" class=\"dataframe\">\n",
       "  <thead>\n",
       "    <tr style=\"text-align: right;\">\n",
       "      <th></th>\n",
       "      <th>event_timestamp</th>\n",
       "      <th>event_id</th>\n",
       "      <th>pred_class</th>\n",
       "      <th>pred_certainty</th>\n",
       "    </tr>\n",
       "  </thead>\n",
       "  <tbody>\n",
       "    <tr>\n",
       "      <th>0</th>\n",
       "      <td>2022-02-10 17:12:38.816550144</td>\n",
       "      <td>11ec8a94-ac65-1562-86e4-0242ac130064</td>\n",
       "      <td>Populus</td>\n",
       "      <td>0.757258</td>\n",
       "    </tr>\n",
       "    <tr>\n",
       "      <th>1</th>\n",
       "      <td>2022-02-14 07:39:26.593077760</td>\n",
       "      <td>11ec8d69-42be-a5b0-86e4-0242ac130064</td>\n",
       "      <td>Taxus</td>\n",
       "      <td>0.344766</td>\n",
       "    </tr>\n",
       "    <tr>\n",
       "      <th>2</th>\n",
       "      <td>2022-02-17 15:41:43.745119232</td>\n",
       "      <td>11ec9008-1be9-f1dc-86e4-0242ac130064</td>\n",
       "      <td>Ulmus</td>\n",
       "      <td>0.510319</td>\n",
       "    </tr>\n",
       "    <tr>\n",
       "      <th>3</th>\n",
       "      <td>2022-02-18 12:34:35.645493248</td>\n",
       "      <td>11ec90b7-21d4-f9b6-86e4-0242ac130064</td>\n",
       "      <td>Corylus</td>\n",
       "      <td>0.591911</td>\n",
       "    </tr>\n",
       "    <tr>\n",
       "      <th>4</th>\n",
       "      <td>2022-03-03 20:59:50.119373056</td>\n",
       "      <td>11ec9b34-de06-d92e-86e4-0242ac130064</td>\n",
       "      <td>Taxus</td>\n",
       "      <td>0.788506</td>\n",
       "    </tr>\n",
       "    <tr>\n",
       "      <th>...</th>\n",
       "      <td>...</td>\n",
       "      <td>...</td>\n",
       "      <td>...</td>\n",
       "      <td>...</td>\n",
       "    </tr>\n",
       "    <tr>\n",
       "      <th>1198972</th>\n",
       "      <td>2022-06-18 17:03:33.860491008</td>\n",
       "      <td>11ecef28-9c7a-6186-8297-0242ac130064</td>\n",
       "      <td>Betula</td>\n",
       "      <td>0.766403</td>\n",
       "    </tr>\n",
       "    <tr>\n",
       "      <th>1198973</th>\n",
       "      <td>2022-06-20 18:13:55.771264768</td>\n",
       "      <td>11ecf0c4-bfcb-52ec-8297-0242ac130064</td>\n",
       "      <td>Betula</td>\n",
       "      <td>0.700648</td>\n",
       "    </tr>\n",
       "    <tr>\n",
       "      <th>1198974</th>\n",
       "      <td>2022-07-16 23:49:00.009010176</td>\n",
       "      <td>11ed0561-dd45-1df1-8cf1-0242ac2a0064</td>\n",
       "      <td>Populus</td>\n",
       "      <td>0.346257</td>\n",
       "    </tr>\n",
       "    <tr>\n",
       "      <th>1198975</th>\n",
       "      <td>2022-07-19 03:04:00.269073408</td>\n",
       "      <td>11ed070f-7000-6ade-ae29-0242ac2a0064</td>\n",
       "      <td>Populus</td>\n",
       "      <td>0.621188</td>\n",
       "    </tr>\n",
       "    <tr>\n",
       "      <th>1198976</th>\n",
       "      <td>2022-07-19 20:56:41.151852800</td>\n",
       "      <td>11ed07a5-4a13-0144-91e8-0242ac2a0064</td>\n",
       "      <td>Quercus</td>\n",
       "      <td>0.805649</td>\n",
       "    </tr>\n",
       "  </tbody>\n",
       "</table>\n",
       "<p>1198977 rows × 4 columns</p>\n",
       "</div>"
      ],
      "text/plain": [
       "                       event_timestamp                              event_id  \\\n",
       "0        2022-02-10 17:12:38.816550144  11ec8a94-ac65-1562-86e4-0242ac130064   \n",
       "1        2022-02-14 07:39:26.593077760  11ec8d69-42be-a5b0-86e4-0242ac130064   \n",
       "2        2022-02-17 15:41:43.745119232  11ec9008-1be9-f1dc-86e4-0242ac130064   \n",
       "3        2022-02-18 12:34:35.645493248  11ec90b7-21d4-f9b6-86e4-0242ac130064   \n",
       "4        2022-03-03 20:59:50.119373056  11ec9b34-de06-d92e-86e4-0242ac130064   \n",
       "...                                ...                                   ...   \n",
       "1198972  2022-06-18 17:03:33.860491008  11ecef28-9c7a-6186-8297-0242ac130064   \n",
       "1198973  2022-06-20 18:13:55.771264768  11ecf0c4-bfcb-52ec-8297-0242ac130064   \n",
       "1198974  2022-07-16 23:49:00.009010176  11ed0561-dd45-1df1-8cf1-0242ac2a0064   \n",
       "1198975  2022-07-19 03:04:00.269073408  11ed070f-7000-6ade-ae29-0242ac2a0064   \n",
       "1198976  2022-07-19 20:56:41.151852800  11ed07a5-4a13-0144-91e8-0242ac2a0064   \n",
       "\n",
       "        pred_class  pred_certainty  \n",
       "0          Populus        0.757258  \n",
       "1            Taxus        0.344766  \n",
       "2            Ulmus        0.510319  \n",
       "3          Corylus        0.591911  \n",
       "4            Taxus        0.788506  \n",
       "...            ...             ...  \n",
       "1198972     Betula        0.766403  \n",
       "1198973     Betula        0.700648  \n",
       "1198974    Populus        0.346257  \n",
       "1198975    Populus        0.621188  \n",
       "1198976    Quercus        0.805649  \n",
       "\n",
       "[1198977 rows x 4 columns]"
      ]
     },
     "execution_count": 31,
     "metadata": {},
     "output_type": "execute_result"
    }
   ],
   "source": [
    "test"
   ]
  },
  {
   "cell_type": "code",
   "execution_count": 39,
   "id": "aac3e7e5-d719-4096-a81e-d70863fa1821",
   "metadata": {
    "execution": {
     "iopub.execute_input": "2023-03-07T07:50:47.604317Z",
     "iopub.status.busy": "2023-03-07T07:50:47.603604Z",
     "iopub.status.idle": "2023-03-07T07:50:47.609655Z",
     "shell.execute_reply": "2023-03-07T07:50:47.608317Z",
     "shell.execute_reply.started": "2023-03-07T07:50:47.604271Z"
    },
    "tags": []
   },
   "outputs": [],
   "source": [
    "FILE = 'validation_input/hirst/hirst_PLZ_01082019-09302022.csv'"
   ]
  },
  {
   "cell_type": "code",
   "execution_count": 40,
   "id": "1b007d87-4f72-4070-b4eb-e521c43c58f3",
   "metadata": {
    "execution": {
     "iopub.execute_input": "2023-03-07T07:50:48.871861Z",
     "iopub.status.busy": "2023-03-07T07:50:48.871474Z",
     "iopub.status.idle": "2023-03-07T07:50:48.888804Z",
     "shell.execute_reply": "2023-03-07T07:50:48.887628Z",
     "shell.execute_reply.started": "2023-03-07T07:50:48.871822Z"
    },
    "tags": []
   },
   "outputs": [],
   "source": [
    "df = pd.read_csv(FILE)"
   ]
  },
  {
   "cell_type": "code",
   "execution_count": 50,
   "id": "12f9d786-081a-413d-9d60-4794a7eb715c",
   "metadata": {
    "execution": {
     "iopub.execute_input": "2023-03-07T07:53:38.862863Z",
     "iopub.status.busy": "2023-03-07T07:53:38.862453Z",
     "iopub.status.idle": "2023-03-07T07:53:38.869189Z",
     "shell.execute_reply": "2023-03-07T07:53:38.867848Z",
     "shell.execute_reply.started": "2023-03-07T07:53:38.862826Z"
    },
    "tags": []
   },
   "outputs": [
    {
     "ename": "SyntaxError",
     "evalue": "invalid syntax (<ipython-input-50-70d76b352e38>, line 3)",
     "output_type": "error",
     "traceback": [
      "\u001b[0;36m  Cell \u001b[0;32mIn [50], line 3\u001b[0;36m\u001b[0m\n\u001b[0;31m    df.set_index('reference')['4839'].loc[.plot()\u001b[0m\n\u001b[0m                                          ^\u001b[0m\n\u001b[0;31mSyntaxError\u001b[0m\u001b[0;31m:\u001b[0m invalid syntax\n"
     ]
    }
   ],
   "source": [
    "import matplotlib\n",
    "%matplotlib inline\n",
    "df.set_index('reference')['4839'].loc[.plot()"
   ]
  },
  {
   "cell_type": "code",
   "execution_count": 51,
   "id": "7c72071f-b0e5-4bb9-a504-7ba71d88a6ac",
   "metadata": {
    "execution": {
     "iopub.execute_input": "2023-03-07T07:54:20.083748Z",
     "iopub.status.busy": "2023-03-07T07:54:20.083316Z",
     "iopub.status.idle": "2023-03-07T07:54:20.090926Z",
     "shell.execute_reply": "2023-03-07T07:54:20.090131Z",
     "shell.execute_reply.started": "2023-03-07T07:54:20.083710Z"
    },
    "tags": []
   },
   "outputs": [
    {
     "data": {
      "text/plain": [
       "0"
      ]
     },
     "execution_count": 51,
     "metadata": {},
     "output_type": "execute_result"
    }
   ],
   "source": [
    "df['4839'].isna().sum()"
   ]
  },
  {
   "cell_type": "code",
   "execution_count": null,
   "id": "41c32b9c-d210-4985-b908-b12540d69a25",
   "metadata": {},
   "outputs": [],
   "source": [
    "df"
   ]
  }
 ],
 "metadata": {
  "kernelspec": {
   "display_name": "Python 3",
   "language": "python",
   "name": "python3"
  },
  "language_info": {
   "codemirror_mode": {
    "name": "ipython",
    "version": 3
   },
   "file_extension": ".py",
   "mimetype": "text/x-python",
   "name": "python",
   "nbconvert_exporter": "python",
   "pygments_lexer": "ipython3",
   "version": "3.8.10"
  }
 },
 "nbformat": 4,
 "nbformat_minor": 5
}
