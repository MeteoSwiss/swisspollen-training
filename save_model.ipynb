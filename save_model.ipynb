{
 "cells": [
  {
   "cell_type": "code",
   "execution_count": 5,
   "id": "483c6fb3-2540-498d-ae57-724ee1ff7c37",
   "metadata": {
    "execution": {
     "iopub.execute_input": "2023-02-09T14:14:59.134795Z",
     "iopub.status.busy": "2023-02-09T14:14:59.134278Z",
     "iopub.status.idle": "2023-02-09T14:14:59.215034Z",
     "shell.execute_reply": "2023-02-09T14:14:59.213742Z",
     "shell.execute_reply.started": "2023-02-09T14:14:59.134755Z"
    },
    "tags": []
   },
   "outputs": [
    {
     "name": "stdout",
     "output_type": "stream",
     "text": [
      "The autoreload extension is already loaded. To reload it, use:\n",
      "  %reload_ext autoreload\n",
      "Failed for PhysicalDevice(name='/physical_device:CPU:0', device_type='CPU')\n",
      "Failed for PhysicalDevice(name='/physical_device:GPU:0', device_type='GPU')\n",
      "Success for PhysicalDevice(name='/physical_device:GPU:1', device_type='GPU')\n"
     ]
    }
   ],
   "source": [
    "# Import all other necessary modules\n",
    "%load_ext autoreload\n",
    "%autoreload 2\n",
    "import cv2\n",
    "import datetime\n",
    "import io\n",
    "import itertools\n",
    "import json\n",
    "import math\n",
    "import matplotlib.pyplot as plt\n",
    "import numpy as np\n",
    "import operator\n",
    "import os\n",
    "import poleno_db_interface.database.model.data_explorer_model as dem\n",
    "import poleno_db_interface.database.model.poleno_data_model as pdm\n",
    "from poleno_ml.database.query_interface_ml import QueryInterfaceML, DatasetPipeline\n",
    "import random\n",
    "import sklearn.metrics\n",
    "from sqlalchemy import func\n",
    "import tensorflow as tf\n",
    "import tensorflow_addons as tfa\n",
    "import tensorflow.keras as keras\n",
    "from tqdm.notebook import tqdm\n",
    "from typing import List\n",
    "from uuid import UUID\n",
    "import uuid\n",
    "\n",
    "\n",
    "# allow memory growth\n",
    "for dev in tf.config.list_physical_devices():\n",
    "    try:\n",
    "        tf.config.experimental.set_memory_growth(\n",
    "            dev, True\n",
    "        )\n",
    "        print(f\"Success for {dev}\")\n",
    "    except:\n",
    "        print(f\"Failed for {dev}\")\n",
    "\n",
    "# specifies which PhysicalDevice objects are visible to the runtime. TF will only allocate memory and place operations on visible physical devices\n",
    "gpu0 = tf.config.list_physical_devices('GPU')[0] # use GPU n\n",
    "tf.config.set_visible_devices(gpu0, 'GPU')\n",
    "tf.config.experimental.set_virtual_device_configuration(\n",
    "    gpu0, \n",
    "    #[tf.config.experimental.VirtualDeviceConfiguration(memory_limit=25_000)] # set max GPU memory usage\n",
    "    [tf.config.experimental.VirtualDeviceConfiguration(memory_limit=36_000)]\n",
    ")"
   ]
  },
  {
   "cell_type": "code",
   "execution_count": 19,
   "id": "823dc9f1-ebc5-43d3-9ce4-7a94dbc93cb4",
   "metadata": {
    "execution": {
     "iopub.execute_input": "2023-02-09T14:26:46.199262Z",
     "iopub.status.busy": "2023-02-09T14:26:46.198348Z",
     "iopub.status.idle": "2023-02-09T14:26:46.667774Z",
     "shell.execute_reply": "2023-02-09T14:26:46.666456Z",
     "shell.execute_reply.started": "2023-02-09T14:26:46.199169Z"
    },
    "tags": []
   },
   "outputs": [],
   "source": [
    "import myloginpath\n",
    "db_config = myloginpath.parse('client', path='/tf/.mylogin.cnf')\n",
    "\n",
    "# Conect to the database and create an interface instance\n",
    "query_interface_ml = QueryInterfaceML(**db_config)"
   ]
  },
  {
   "cell_type": "code",
   "execution_count": 6,
   "id": "3a35f5ee-ac19-4bcf-8c39-effa2b84e403",
   "metadata": {
    "execution": {
     "iopub.execute_input": "2023-02-09T14:15:00.849818Z",
     "iopub.status.busy": "2023-02-09T14:15:00.849337Z",
     "iopub.status.idle": "2023-02-09T14:15:00.931945Z",
     "shell.execute_reply": "2023-02-09T14:15:00.930562Z",
     "shell.execute_reply.started": "2023-02-09T14:15:00.849779Z"
    },
    "tags": []
   },
   "outputs": [],
   "source": [
    "# A dictionary that has the form of { <collection>: { <dataset-id>: <class-label> } }\n",
    "# Collection name can be choosen freely and is intended to enable grouping of datasets into logical\n",
    "# units independnet on class. Typically, this can be used to seperate datasets form different systems\n",
    "# but can also be used to separate different years, sample source or any other propertie. Later in the\n",
    "# notebook, you will then be able to create test and validation sets with different collections as\n",
    "# source.\n",
    "DATASET_DEFINITIONS = {\n",
    "    \n",
    "    \"raw-pollens\": {\n",
    "        \"11ea8493-7107-8db4-9bf7-ae7b87f820b4\": \"Alnus\",\n",
    "        \"11ea847a-f995-790c-830f-ae7b87f820b4\": \"Alnus\",\n",
    "        \"11ea8475-957e-347c-985a-ae7b87f820b4\": \"Alnus\",\n",
    "        \"11ea8897-f50e-66a2-9876-ae7b87f820b4\": \"Betula\",\n",
    "        \"11ea8632-18ed-7210-985a-ae7b87f820b4\": \"Betula\",\n",
    "        \"11ea8632-1eb2-2452-bc84-ae7b87f820b4\": \"Betula\",\n",
    "        \"11ea8f77-4ee3-aef4-b330-ae7b87f820b4\": \"Carpinus\",\n",
    "        \"11ea8f6d-3e75-9fe6-b46e-ae7b87f820b4\": \"Carpinus\",\n",
    "        \"11ea8f6d-1562-211a-8192-ae7b87f820b4\": \"Carpinus\",\n",
    "        \"11ea8f6c-b78c-d076-a542-ae7b87f820b4\": \"Carpinus\",\n",
    "        \"11ea8498-b729-d4e6-bc84-ae7b87f820b4\": \"Corylus\",\n",
    "        \"11ea8498-b083-cb92-a1a5-ae7b87f820b4\": \"Corylus\",\n",
    "        \"11ea8498-afa9-cec4-a877-ae7b87f820b4\": \"Corylus\",\n",
    "        \"11ea8fa9-6c12-723a-b3dd-ae7b87f820b4\": \"Cupressus\",\n",
    "        \"11ea8fa8-fafa-aeb4-ac46-ae7b87f820b4\": \"Cupressus\",\n",
    "        \"11ea8fa8-d163-dce2-b1cb-ae7b87f820b4\": \"Cupressus\",\n",
    "        \"11ea8636-313b-a6e4-a69e-ae7b87f820b4\": \"Fagus\",\n",
    "        \"11ea8635-ef91-6ab2-a877-ae7b87f820b4\": \"Fagus\",\n",
    "        \"11ea8635-eb18-6ee0-9876-ae7b87f820b4\": \"Fagus\",\n",
    "        \"11ea857e-7bc5-60a0-842e-ae7b87f820b4\": \"Fraxinus\",\n",
    "        \"11ea857b-3d52-9034-830f-ae7b87f820b4\": \"Fraxinus\",\n",
    "        \"11ea857b-150e-c372-bc84-ae7b87f820b4\": \"Fraxinus\",\n",
    "        \"11ea8af3-c533-f39e-8b25-ae7b87f820b4\": \"Pinaceae\",\n",
    "        \"11ea8af1-91fc-9a46-8b25-ae7b87f820b4\": \"Pinaceae\",\n",
    "        \"11ea8af0-83dc-6d66-b06c-ae7b87f820b4\": \"Pinaceae\",\n",
    "        \"11ea863d-acf6-0ade-985a-ae7b87f820b4\": \"Pinaceae\",\n",
    "        \"11ea863c-2449-be52-8814-ae7b87f820b4\": \"Pinaceae\",\n",
    "        \"11ea8b83-25c9-8194-90d1-ae7b87f820b4\": \"Platanus\",\n",
    "        \"11ea8881-3721-9aa8-a907-ae7b87f820b4\": \"Platanus\",\n",
    "        \"11ea990f-ee01-8334-b3dd-ae7b87f820b4\": \"Poaceae\",\n",
    "        \"11ea990c-b2bc-fe96-b46e-ae7b87f820b4\": \"Poaceae\",\n",
    "        \"11eb5fd9-961a-313e-ac56-ae7b87f820b4\": \"Poaceae\",\n",
    "        \"11eb5fd9-dd36-0a20-88f3-ae7b87f820b4\": \"Poaceae\",\n",
    "        \"11ebe542-660e-0206-80be-ae7b87f820b4\": \"Poaceae\",\n",
    "        \"11eb5fc3-03fa-6da2-8b42-ae7b87f820b4\": \"Poaceae\",\n",
    "        \"11ebe540-187e-9a0c-b0e2-ae7b87f820b4\": \"Poaceae\",\n",
    "        \"11ea8893-edfb-ca84-a877-ae7b87f820b4\": \"Populus\",\n",
    "        \"11ea84a0-e89b-43b8-a69e-ae7b87f820b4\": \"Populus\",\n",
    "        \"11ea84a0-a2f0-ab8c-a877-ae7b87f820b4\": \"Populus\",\n",
    "        \"11ea863e-1fea-0f7c-a1a5-ae7b87f820b4\": \"Quercus\",\n",
    "        \"11ea863e-1b86-8226-a1a5-ae7b87f820b4\": \"Quercus\",\n",
    "        \"11ea863d-f388-a038-a1a5-ae7b87f820b4\": \"Quercus\",\n",
    "        \"11ea8477-cede-e7dc-897d-ae7b87f820b4\": \"Taxus\",\n",
    "        \"11ea8477-b584-b690-830f-ae7b87f820b4\": \"Taxus\",\n",
    "        \"11ea8494-33a5-2e4e-bc84-ae7b87f820b4\": \"Taxus\",\n",
    "        \"11ea849c-df8f-d95e-897d-ae7b87f820b4\": \"Ulmus\",\n",
    "        \"11ea849c-db7b-2170-8b0f-ae7b87f820b4\": \"Ulmus\",\n",
    "        \"11ea849a-0e25-4018-8814-ae7b87f820b4\": \"Ulmus\",\n",
    "    },\n",
    "    \n",
    "    \"old-pollens\": {\n",
    "        \"11ea5df1-de4e-68a2-bdea-ae7b87f820b4\": \"Alnus\",\n",
    "        \"11ea5dec-aad2-40f2-adc5-ae7b87f820b4\": \"Alnus\",\n",
    "        \"11ea5dea-76dd-45e6-9881-ae7b87f820b4\": \"Alnus\",\n",
    "        \"11ea8318-8f19-8414-8f2c-ae7b87f820b4\": \"Betula\",\n",
    "        \"11ea831d-c087-d5fa-8016-ae7b87f820b4\": \"Betula\",\n",
    "        \"11ea8319-0f9b-2f84-8f2c-ae7b87f820b4\": \"Betula\",\n",
    "        \"11ea74ee-1ae2-3f42-bdc8-ae7b87f820b4\": \"Carpinus\",\n",
    "        \"11ea74ef-1f33-22e0-b530-ae7b87f820b4\": \"Carpinus\",\n",
    "        \"11ea74ef-7256-f794-8624-ae7b87f820b4\": \"Carpinus\",\n",
    "        \"11ea74ef-cf63-afc2-bdc8-ae7b87f820b4\": \"Carpinus\",\n",
    "        \"11ea5e04-fc94-364e-81ab-ae7b87f820b4\": \"Corylus\",\n",
    "        \"11ea5e04-ae5b-1ace-9881-ae7b87f820b4\": \"Corylus\",\n",
    "        \"11ea5e00-93c5-6f88-81ab-ae7b87f820b4\": \"Corylus\",\n",
    "        \"11ea74e8-0f90-f08a-9ea9-ae7b87f820b4\": \"Cupressus\",\n",
    "        \"11ea74ea-1a2b-69ec-9846-ae7b87f820b4\": \"Cupressus\",\n",
    "        \"11ea74ea-93f3-4862-bc81-ae7b87f820b4\": \"Cupressus\",\n",
    "        \"11ea831e-9169-688c-9d84-ae7b87f820b4\": \"Fagus\",\n",
    "        \"11ea831e-5779-4480-a7e8-ae7b87f820b4\": \"Fagus\",\n",
    "        \"11ea831e-0698-1618-8016-ae7b87f820b4\": \"Fagus\",\n",
    "        \"11ea8314-3a9a-8644-8fc4-ae7b87f820b4\": \"Fraxinus\",\n",
    "        \"11ea8313-8fef-2358-8016-ae7b87f820b4\": \"Fraxinus\",\n",
    "        \"11ea8313-1742-26b2-9d84-ae7b87f820b4\": \"Fraxinus\",\n",
    "        \"11ea8af1-16b3-afbe-b419-ae7b87f820b4\": \"Pinaceae\", # Picea\n",
    "        \"11ea8af1-8668-a68e-b06c-ae7b87f820b4\": \"Pinaceae\", # Picea\n",
    "        \"11ea8af0-7bba-7a4c-9b82-ae7b87f820b4\": \"Pinaceae\", # Picea\n",
    "        \"11ea863b-0dbc-a204-8b0f-ae7b87f820b4\": \"Pinaceae\", # Pinus\n",
    "        \"11ea863c-0128-16ee-a69e-ae7b87f820b4\": \"Pinaceae\", # Pinus\n",
    "        \"11ea831f-8774-33e2-b44c-ae7b87f820b4\": \"Plantanus\",\n",
    "        \"11ea831f-3746-b084-a59a-ae7b87f820b4\": \"Plantanus\",\n",
    "        \"11ea990d-99b7-329e-b330-ae7b87f820b4\": \"Poaceae\",\n",
    "        \"11ea990c-a115-87c6-b46e-ae7b87f820b4\": \"Poaceae\",\n",
    "        \"11ea9a91-09a7-100e-86f2-ae7b87f820b4\": \"Poaceae\", # Cynosurus\n",
    "        \"11ea9a73-0d84-81ca-b3dd-ae7b87f820b4\": \"Poaceae\", # Cynosurus\n",
    "        \"11ebde5f-23d5-5e8c-8d93-ae7b87f820b4\": \"Poaceae\", # Dactylis\n",
    "        \"11ea9911-17a1-65b4-89a8-ae7b87f820b4\": \"Poaceae\", # Dactylis\n",
    "        \"11ebde60-40fb-4aa2-a536-ae7b87f820b4\": \"Poaceae\", # Trisetum\n",
    "        \"11ea830f-df57-8bdc-91a3-ae7b87f820b4\": \"Populus\",\n",
    "        \"11ea74e3-b2e6-df38-b530-ae7b87f820b4\": \"Populus\",\n",
    "        \"11ea74e4-5089-a266-8624-ae7b87f820b4\": \"Populus\",\n",
    "        \"11ea863a-bdae-8df4-a69e-ae7b87f820b4\": \"Quercus\",\n",
    "        \"11ea863a-2252-7b54-a1a5-ae7b87f820b4\": \"Quercus\",\n",
    "        \"11ea8639-acca-ee52-aa3e-ae7b87f820b4\": \"Quercus\",\n",
    "        \"11ea5deb-b5f0-b38e-9881-ae7b87f820b4\": \"Taxus\",\n",
    "        \"11ea5deb-6fa4-5f7a-bd51-ae7b87f820b4\": \"Taxus\",\n",
    "        \"11ea5df3-6b53-0252-adc5-ae7b87f820b4\": \"Taxus\",\n",
    "        \"11ea74d0-dd4c-4d34-9ea9-ae7b87f820b4\": \"Ulmus\",\n",
    "        \"11ea74cf-fc64-b108-8624-ae7b87f820b4\": \"Ulmus\",\n",
    "        \"11ea5ef1-f146-eabe-ab02-ae7b87f820b4\": \"Ulmus\",\n",
    "    },\n",
    "\n",
    "    #14 classes\n",
    "    \"new-pollens\": { # same datasets as in \"old-pollens\" but cleaned using a different strategy\n",
    "        \"11ed3b18-1ba8-ee6a-a8d4-496190c661df\": \"Alnus\",\n",
    "        \"11ed3821-9ab6-8dba-a8d4-496190c661df\": \"Alnus\",\n",
    "        \"11ed382b-542a-0dea-a8d4-496190c661df\": \"Alnus\",\n",
    "        \"11ed3832-b506-668e-a8d4-496190c661df\": \"Betula\",\n",
    "        \"11ed3a58-07b4-deb6-a8d4-496190c661df\": \"Betula\",\n",
    "        \"11ed38e1-b2f4-f996-a8d4-496190c661df\": \"Betula\",\n",
    "        \"11ed5ea4-96ed-bdf8-acbd-a95f70cb44b0\": \"Carpinus\",\n",
    "        \"11ed5f80-5dcc-9c24-acbd-a95f70cb44b0\": \"Carpinus\",\n",
    "        \"11ed3a6b-5612-556c-a8d4-496190c661df\": \"Carpinus\",\n",
    "        \"11ed3982-4837-efd6-a8d4-496190c661df\": \"Carpinus\",\n",
    "        \"11ed38e0-6bee-47ec-a8d4-496190c661df\": \"Corylus\",\n",
    "        \"11ed3a6f-f2ce-f140-a8d4-496190c661df\": \"Corylus\",\n",
    "        \"11ed431c-682d-5986-a8d4-496190c661df\": \"Corylus\",\n",
    "        \"11ed38ea-0973-6246-a8d4-496190c661df\": \"Cupressus\",\n",
    "        \"11ed3a79-1b42-92c2-a8d4-496190c661df\": \"Cupressus\",\n",
    "        \"11ed431e-c1e0-39ce-a8d4-496190c661df\": \"Cupressus\",\n",
    "        \"11ed3a7c-3218-626c-a8d4-496190c661df\": \"Fagus\",\n",
    "        \"11ed5f45-7fe1-e688-acbd-a95f70cb44b0\": \"Fagus\",\n",
    "        \"11ed5f7b-c645-a4b2-acbd-a95f70cb44b0\": \"Fagus\",\n",
    "        \"11ed3b22-8577-b13c-a8d4-496190c661df\": \"Fraxinus\",\n",
    "        \"11ed5f4a-52c3-34a4-acbd-a95f70cb44b0\": \"Fraxinus\",\n",
    "        \"11ed5f7e-c6f1-7f46-acbd-a95f70cb44b0\": \"Fraxinus\",\n",
    "        \"11ed3d7f-b12e-ad76-a8d4-496190c661df\": \"Pinaceae\", # Picea\n",
    "        \"11ed5f4d-49d0-5748-acbd-a95f70cb44b0\": \"Pinaceae\", # Picea\n",
    "        \"11ed5f82-2199-44da-acbd-a95f70cb44b0\": \"Pinaceae\", # Picea\n",
    "        \"11ed3d9b-7037-b6fc-a8d4-496190c661df\": \"Pinaceae\", # Pinus\n",
    "        \"11ed5494-ad56-7e64-acbd-a95f70cb44b0\": \"Pinaceae\", # Pinus\n",
    "        \"11ed5535-c71d-065a-acbd-a95f70cb44b0\": \"Pinaceae\", # Pinus\n",
    "        \"11ed55ce-5aaf-a2ae-acbd-a95f70cb44b0\": \"Pinaceae\", # Pinus\n",
    "        \"11ed55d0-cec8-bdae-acbd-a95f70cb44b0\": \"Pinaceae\", # Pinus\n",
    "        \"11ed55d5-a393-64c2-acbd-a95f70cb44b0\": \"Pinaceae\", # Pinus\n",
    "        \"11ed5907-4d09-f0b4-acbd-a95f70cb44b0\": \"Plantanus\",\n",
    "        \"11ed6006-a52a-2448-acbd-a95f70cb44b0\": \"Plantanus\",\n",
    "        \"11ed43d2-4043-b620-a8d4-496190c661df\": \"Poaceae\",\n",
    "        \"11ed6009-3e1d-3184-acbd-a95f70cb44b0\": \"Poaceae\",\n",
    "        \"11ed6030-3f50-655e-acbd-a95f70cb44b0\": \"Poaceae\", # Cynosurus\n",
    "        \"11ed6035-488e-4564-acbd-a95f70cb44b0\": \"Poaceae\", # Cynosurus\n",
    "        \"11ed6037-d194-cad4-acbd-a95f70cb44b0\": \"Poaceae\", # Cynosurus\n",
    "        \"11ed6039-e772-8574-acbd-a95f70cb44b0\": \"Poaceae\", # Cynosurus\n",
    "        \"11ed591a-064b-e868-acbd-a95f70cb44b0\": \"Poaceae\", # Cynosurus\n",
    "        \"11ed591c-0732-bf5c-acbd-a95f70cb44b0\": \"Poaceae\", # Cynosurus\n",
    "        \"11ed5922-9f70-fc56-acbd-a95f70cb44b0\": \"Poaceae\", # Cynosurus\n",
    "        \"11ed5925-0949-93b6-acbd-a95f70cb44b0\": \"Poaceae\", # Cynosurus\n",
    "        \"11ed5926-9845-1346-acbd-a95f70cb44b0\": \"Poaceae\", # Cynosurus\n",
    "        \"11ed6032-1974-ee34-acbd-a95f70cb44b0\": \"Poaceae\", # Dactylis\n",
    "        \"11ed6036-c877-51c0-acbd-a95f70cb44b0\": \"Poaceae\", # Dactylis\n",
    "        \"11ed603b-8b16-bcf8-acbd-a95f70cb44b0\": \"Poaceae\", # Dactylis\n",
    "        \"11ed6038-9eb8-c42a-acbd-a95f70cb44b0\": \"Poaceae\", # Dactylis\n",
    "        \"11ed6010-ad76-a770-acbd-a95f70cb44b0\": \"Poaceae\", # Dactylis\n",
    "        \"11ed4487-97ec-87e8-a8d4-496190c661df\": \"Poaceae\", # Trisetum\n",
    "        \"11ed5928-4b40-315a-acbd-a95f70cb44b0\": \"Populus\",\n",
    "        \"11ed6012-cffe-1c4a-acbd-a95f70cb44b0\": \"Populus\",\n",
    "        \"11ed6041-5f45-1876-acbd-a95f70cb44b0\": \"Populus\",\n",
    "        \"11ed5930-a266-322e-acbd-a95f70cb44b0\": \"Quercus\",\n",
    "        \"11ed601d-4f24-ca46-acbd-a95f70cb44b0\": \"Quercus\",\n",
    "        \"11ed6045-38bd-92ec-acbd-a95f70cb44b0\": \"Quercus\",\n",
    "        \"11ed59c8-6d52-bbaa-acbd-a95f70cb44b0\": \"Taxus\",\n",
    "        \"11ed602a-3932-49e0-acbd-a95f70cb44b0\": \"Taxus\",\n",
    "        \"11ed604c-7275-f1b2-acbd-a95f70cb44b0\": \"Taxus\",\n",
    "        \"11ed59ca-df2c-2188-acbd-a95f70cb44b0\": \"Ulmus\",\n",
    "        \"11ed602d-6874-225c-acbd-a95f70cb44b0\": \"Ulmus\",\n",
    "        \"11ed6048-9fb9-4b28-acbd-a95f70cb44b0\": \"Ulmus\",\n",
    "    },\n",
    "    \n",
    "    \"other\": {\n",
    "        \"11ed65b6-6a22-1968-b56b-ae7b87f820b4\": \"Artemisia\",\n",
    "        \"11ed463e-f09f-6456-b550-ae7b87f820b4\": \"Cedrus\",\n",
    "        \"11ec6179-fde0-042c-adac-ae7b87f820b4\": \"Iberulites\",\n",
    "        \"11ec617a-fb8b-e3f2-80fb-ae7b87f820b4\": \"Iberulites\",\n",
    "        \"11ec5821-b371-c3dc-8359-ae7b87f820b4\": \"Iberulites\",\n",
    "        \"11ec5832-4fee-03b4-8561-ae7b87f820b4\": \"Iberulites\",\n",
    "        \"11ebe542-f782-c172-bf10-ae7b87f820b4\": \"Waterdroplets\",\n",
    "        \"11ebeabd-e224-d5c4-8b63-ae7b87f820b4\": \"Waterdroplets\",\n",
    "        \"11ebedec-0da5-47ac-8066-ae7b87f820b4\": \"Waterdroplets\",\n",
    "        \"11ebee15-1fea-4c68-9cd6-ae7b87f820b4\": \"Waterdroplets\",\n",
    "        \"11eda79a-f000-b3a2-85ae-ae7b87f820b4\": \"Trash\",\n",
    "    },\n",
    "    \n",
    "    \"spores\": {\n",
    "        \"11ebf9db-f2e9-98cc-bc67-ae7b87f820b4\": \"Alternaria Solani\",\n",
    "        \"11ec01b9-d571-ea8e-b7e1-ae7b87f820b4\": \"Fusarium Graminearum\",\n",
    "    },\n",
    "}"
   ]
  },
  {
   "cell_type": "code",
   "execution_count": 7,
   "id": "590f915e-3e13-4b46-938e-b2ffc5bef117",
   "metadata": {
    "execution": {
     "iopub.execute_input": "2023-02-09T14:15:02.925617Z",
     "iopub.status.busy": "2023-02-09T14:15:02.925186Z",
     "iopub.status.idle": "2023-02-09T14:15:02.979918Z",
     "shell.execute_reply": "2023-02-09T14:15:02.978937Z",
     "shell.execute_reply.started": "2023-02-09T14:15:02.925582Z"
    },
    "tags": []
   },
   "outputs": [],
   "source": [
    "model_name = 'prod_new+other_trash'"
   ]
  },
  {
   "cell_type": "code",
   "execution_count": 8,
   "id": "09feb8b8-9f21-4b95-805c-62af0d279fa7",
   "metadata": {
    "execution": {
     "iopub.execute_input": "2023-02-09T14:15:05.180145Z",
     "iopub.status.busy": "2023-02-09T14:15:05.179719Z",
     "iopub.status.idle": "2023-02-09T14:15:05.233083Z",
     "shell.execute_reply": "2023-02-09T14:15:05.232291Z",
     "shell.execute_reply.started": "2023-02-09T14:15:05.180109Z"
    },
    "tags": []
   },
   "outputs": [],
   "source": [
    "batch_size = 8 # the smaller, the more difficult the training becomes but it also generally means better generalization\n",
    "epochs = 256 # max number of epochs (early stopping automatically interrupts the training if validation loss stops improving)\n",
    "img_shape = (200,200,1)\n",
    "model_features = [\n",
    "     'rec0', 'rec1'  \n",
    "] # 'rec0' and 'rec1' for holo images\n",
    "data_filters = [\n",
    "    #'blur', # remove blurry events\n",
    "    #'crop', # remove cropped events\n",
    "]\n",
    "data_maps = [\n",
    "    #'process_waves', # remove \"waves\" from all events\n",
    "    #'holo_aug', # image augmentation\n",
    "] # if you change the training data, you might want to apply the same transformations to the polenos as pre-processing steps\n",
    "caching = True # whether or not cache the datasets locally for better performance\n",
    "\n",
    "collections_train = [\n",
    "    #\"raw-pollens\",\n",
    "    #\"old-pollens\",\n",
    "    \"new-pollens\",\n",
    "    \"other\",\n",
    "    #\"spores\",\n",
    "]\n",
    "\n",
    "# These two values only apply when collections_val is empty\n",
    "train_part = 0.7\n",
    "test_part = 0.3\n",
    "\n",
    "# Leave empty if you'd like to train and eval on the same collections\n",
    "collections_val = []\n",
    "\n",
    "classes = set(cls \n",
    "              for collection in collections_train + collections_val \n",
    "              for cls in DATASET_DEFINITIONS[collection].values()) # not need to touch this"
   ]
  },
  {
   "cell_type": "code",
   "execution_count": 15,
   "id": "bef1c2a2-078e-4b94-98c4-948e33c1bc60",
   "metadata": {
    "execution": {
     "iopub.execute_input": "2023-02-09T14:25:35.441803Z",
     "iopub.status.busy": "2023-02-09T14:25:35.441180Z",
     "iopub.status.idle": "2023-02-09T14:25:35.513536Z",
     "shell.execute_reply": "2023-02-09T14:25:35.512316Z",
     "shell.execute_reply.started": "2023-02-09T14:25:35.441759Z"
    },
    "tags": []
   },
   "outputs": [],
   "source": [
    "model_timestamp = datetime.datetime.now().strftime(\"%Y%m%d-%H%M%S\")"
   ]
  },
  {
   "cell_type": "code",
   "execution_count": 16,
   "id": "ef068a7f-22c7-4423-985a-364d90b683b4",
   "metadata": {
    "execution": {
     "iopub.execute_input": "2023-02-09T14:25:36.605087Z",
     "iopub.status.busy": "2023-02-09T14:25:36.604548Z",
     "iopub.status.idle": "2023-02-09T14:25:36.686554Z",
     "shell.execute_reply": "2023-02-09T14:25:36.685085Z",
     "shell.execute_reply.started": "2023-02-09T14:25:36.605049Z"
    },
    "tags": []
   },
   "outputs": [],
   "source": [
    "# model's info to save on disk\n",
    "model_info = {\n",
    "    'model_name': model_name,\n",
    "    'model_timestamp': model_timestamp,\n",
    "    'batch_size': batch_size,\n",
    "    'model_features': model_features,\n",
    "    'data_filters': data_filters,\n",
    "    'data_maps': data_maps,\n",
    "    'collections_train': collections_train,\n",
    "    'train_part': train_part,\n",
    "    'test_part': test_part,\n",
    "    'collections_val': collections_val,\n",
    "    'DATASET_DEFINITIONS': DATASET_DEFINITIONS,\n",
    "}"
   ]
  },
  {
   "cell_type": "code",
   "execution_count": 17,
   "id": "fef7ba5a-69d5-40cd-9b2e-3fee265e516f",
   "metadata": {
    "execution": {
     "iopub.execute_input": "2023-02-09T14:25:40.628985Z",
     "iopub.status.busy": "2023-02-09T14:25:40.627949Z",
     "iopub.status.idle": "2023-02-09T14:25:40.741798Z",
     "shell.execute_reply": "2023-02-09T14:25:40.740454Z",
     "shell.execute_reply.started": "2023-02-09T14:25:40.628937Z"
    },
    "tags": []
   },
   "outputs": [],
   "source": [
    "def get_dataset_mapping(ds_map: dict, collections: List[str], classes: List[str]):\n",
    "    \"\"\"This method filters a dataset definition for specific systems and class labels\n",
    "    and returns a flat dictionary with { <dataset-id>: <class-label> } \"\"\"\n",
    "    \n",
    "    ret = {}\n",
    "    for c in collections:\n",
    "        ret.update(\n",
    "            { key: value for key, value in ds_map[c].items() if value in classes}\n",
    "        )\n",
    "    return ret\n",
    "\n",
    "def get_dataset_sizes(ds_map_flat: dict):\n",
    "    \"\"\"Return a dict with <dataset-id>: <class-size>\"\"\"\n",
    "    \n",
    "    dataset_sizes = {}\n",
    "    for k, v in dataset_map.items():\n",
    "        result = query_interface_ml.session.query(\n",
    "            func.count(dem.EventsInEventDataset.event_id)\n",
    "        ).filter(\n",
    "            dem.EventsInEventDataset.dataset_id==uuid.UUID(k).bytes\n",
    "        ).all()\n",
    "        dataset_sizes[k] = result[0][0]\n",
    "    return dataset_sizes\n",
    "    \n",
    "def get_class_sizes(ds_map_flat: dict, dataset_sizes: dict):\n",
    "    \"\"\"Return a dict with <class-name>: <class-size>\"\"\"\n",
    "    \n",
    "    class_sizes = {}\n",
    "    for k, v in dataset_map.items():\n",
    "        size = dataset_sizes[k]\n",
    "        if v not in class_sizes: class_sizes[v] = 0\n",
    "        class_sizes[v] += size\n",
    "    return class_sizes\n",
    "\n",
    "def get_sorted_class_list(ds_map_flat: dict):\n",
    "    return sorted(list(set(ds_map_flat.values())))"
   ]
  },
  {
   "cell_type": "code",
   "execution_count": 20,
   "id": "ced2f4a4-b2ed-47eb-b873-46e6458064bb",
   "metadata": {
    "execution": {
     "iopub.execute_input": "2023-02-09T14:26:58.664934Z",
     "iopub.status.busy": "2023-02-09T14:26:58.663994Z",
     "iopub.status.idle": "2023-02-09T14:27:04.342513Z",
     "shell.execute_reply": "2023-02-09T14:27:04.341093Z",
     "shell.execute_reply.started": "2023-02-09T14:26:58.664890Z"
    },
    "tags": []
   },
   "outputs": [],
   "source": [
    "# Get the dataset collection you need for the training\n",
    "dataset_map = get_dataset_mapping(\n",
    "    DATASET_DEFINITIONS,\n",
    "    collections=collections_train,\n",
    "    classes=classes\n",
    ")\n",
    "assert len(dataset_map) > 0\n",
    "\n",
    "dataset_sizes = get_dataset_sizes(dataset_map)\n",
    "class_sizes = get_class_sizes(dataset_map, dataset_sizes)\n",
    "classes = get_sorted_class_list(dataset_map)\n",
    "num_classes = len(classes)\n",
    "\n",
    "n_samples = sum(dataset_sizes.values())\n",
    "class_counts = [class_sizes[d] for d in classes]\n",
    "class_weights = n_samples / np.array(class_counts)\n",
    "model_info['classes'] = classes\n",
    "model_info['class_weights'] = list(class_weights)"
   ]
  },
  {
   "cell_type": "code",
   "execution_count": 21,
   "id": "828d6139-4b39-447c-8957-eca00aa3d4c8",
   "metadata": {
    "execution": {
     "iopub.execute_input": "2023-02-09T14:27:12.527459Z",
     "iopub.status.busy": "2023-02-09T14:27:12.526968Z",
     "iopub.status.idle": "2023-02-09T14:34:12.131521Z",
     "shell.execute_reply": "2023-02-09T14:34:12.130365Z",
     "shell.execute_reply.started": "2023-02-09T14:27:12.527423Z"
    }
   },
   "outputs": [],
   "source": [
    "if len(collections_val) == 0:\n",
    "\n",
    "    dataset_train, dataset_val = query_interface_ml.prepare_tf_dataset_from_poleno_datasets(\n",
    "        dataset_list=list(dataset_map.keys()),\n",
    "        batch_size=batch_size,\n",
    "        model_features=model_features,\n",
    "        labels=classes,\n",
    "        dataset_label_mapping=dataset_map,\n",
    "        split=(train_part, test_part)\n",
    "    )\n",
    "\n",
    "else:\n",
    "    \n",
    "    dataset_map_val = get_dataset_mapping(\n",
    "        DATASET_DEFINITIONS,\n",
    "        collections=collections_val,\n",
    "        classes=classes\n",
    "    )\n",
    "    \n",
    "    dataset_train = query_interface_ml.prepare_tf_dataset_from_poleno_datasets(\n",
    "        dataset_list=list(dataset_map.keys()),\n",
    "        batch_size=batch_size,\n",
    "        model_features=model_features,\n",
    "        labels=classes,\n",
    "        dataset_label_mapping=dataset_map,\n",
    "    )\n",
    "    \n",
    "    dataset_val = query_interface_ml.prepare_tf_dataset_from_poleno_datasets(\n",
    "        dataset_list=list(dataset_map_val.keys()),\n",
    "        batch_size=batch_size,\n",
    "        model_features=model_features,\n",
    "        labels=classes,\n",
    "        dataset_label_mapping=dataset_map_val,\n",
    "    )\n",
    "    "
   ]
  },
  {
   "cell_type": "code",
   "execution_count": 4,
   "id": "fa72a067-308d-4fc6-bdf0-f093497aa517",
   "metadata": {
    "execution": {
     "iopub.execute_input": "2023-02-08T16:35:31.373860Z",
     "iopub.status.busy": "2023-02-08T16:35:31.373399Z",
     "iopub.status.idle": "2023-02-08T16:35:31.425920Z",
     "shell.execute_reply": "2023-02-08T16:35:31.424907Z",
     "shell.execute_reply.started": "2023-02-08T16:35:31.373819Z"
    },
    "tags": []
   },
   "outputs": [],
   "source": [
    "#num_classes = 18"
   ]
  },
  {
   "cell_type": "code",
   "execution_count": 22,
   "id": "043e7934-fc7b-4c8b-8854-cbc3b49229e8",
   "metadata": {
    "execution": {
     "iopub.execute_input": "2023-02-09T14:34:59.429424Z",
     "iopub.status.busy": "2023-02-09T14:34:59.428965Z",
     "iopub.status.idle": "2023-02-09T14:34:59.874958Z",
     "shell.execute_reply": "2023-02-09T14:34:59.873794Z",
     "shell.execute_reply.started": "2023-02-09T14:34:59.429386Z"
    },
    "tags": []
   },
   "outputs": [
    {
     "data": {
      "text/plain": [
       "'done'"
      ]
     },
     "execution_count": 22,
     "metadata": {},
     "output_type": "execute_result"
    }
   ],
   "source": [
    "inputs = []\n",
    "paths = []\n",
    "\n",
    "if \"rec0\" in model_features and \"rec1\" in model_features:\n",
    "    input0 = keras.layers.Input(shape=[200,200,1], name=\"rec0\")\n",
    "    inputs.append(input0)\n",
    "    input1 = keras.layers.Input(shape=[200,200,1], name=\"rec1\")\n",
    "    inputs.append(input1)\n",
    "\n",
    "    ###                                   -> VVVV <- Change here to B0 - B7 if needed.\n",
    "    path0 = keras.layers.Conv2D(64, (5,5), padding='same', activation='relu')(input0)\n",
    "    path0 = keras.layers.Conv2D(64, (5,5), padding='same', activation='relu')(path0)\n",
    "    path0 = keras.layers.MaxPool2D(2, strides=(2,2),padding='same')(path0)\n",
    "    path0 = keras.layers.Dropout(0.2)(path0)\n",
    "    path0 = keras.layers.Conv2D(64, (3,3), padding='same', activation='relu')(path0)\n",
    "    path0 = keras.layers.Conv2D(64, (3,3), padding='same', activation='relu')(path0)\n",
    "    path0 = keras.layers.MaxPool2D(2, strides=(2,2),padding='same')(path0)\n",
    "    path0 = keras.layers.Dropout(0.2)(path0)\n",
    "    path0 = keras.layers.Conv2D(128, (3,3), padding='same', activation='relu')(path0)\n",
    "    path0 = keras.layers.Conv2D(128, (3,3), padding='same', activation='relu')(path0)\n",
    "    path0 = keras.layers.Conv2D(128, (3,3), padding='same', activation='relu')(path0)\n",
    "    path0 = keras.layers.MaxPool2D((2,2), strides=(2,2),padding='same')(path0)\n",
    "    path0 = keras.layers.Dropout(0.2)(path0)\n",
    "    path0 = keras.layers.Conv2D(256, (3,3), padding='same', activation='relu')(path0)\n",
    "    path0 = keras.layers.Conv2D(256, (3,3), padding='same', activation='relu')(path0)\n",
    "    path0 = keras.layers.Conv2D(256, (3,3), padding='same', activation='relu')(path0)\n",
    "    path0 = keras.layers.MaxPool2D((2,2), strides=(2,2),padding='same')(path0)\n",
    "    path0 = keras.layers.Dropout(0.2)(path0)\n",
    "\n",
    "    path1 = keras.layers.Conv2D(64, (5,5), padding='same', activation='relu')(input1)\n",
    "    path1 = keras.layers.Conv2D(64, (5,5), padding='same', activation='relu')(path1)\n",
    "    path1 = keras.layers.MaxPool2D(2, strides=(2,2),padding='same')(path1)\n",
    "    path1 = keras.layers.Dropout(0.2)(path1)\n",
    "    path1 = keras.layers.Conv2D(64, (3,3), padding='same', activation='relu')(path1)\n",
    "    path1 = keras.layers.Conv2D(64, (3,3), padding='same', activation='relu')(path1)\n",
    "    path1 = keras.layers.MaxPool2D(2, strides=(2,2),padding='same')(path1)\n",
    "    path1 = keras.layers.Dropout(0.2)(path1)\n",
    "    path1 = keras.layers.Conv2D(128, (3,3), padding='same', activation='relu')(path1)\n",
    "    path1 = keras.layers.Conv2D(128, (3,3), padding='same', activation='relu')(path1)\n",
    "    path1 = keras.layers.Conv2D(128, (3,3), padding='same', activation='relu')(path1)\n",
    "    path1 = keras.layers.MaxPool2D((2,2), strides=(2,2),padding='same')(path1)\n",
    "    path1 = keras.layers.Dropout(0.2)(path1)\n",
    "    path1 = keras.layers.Conv2D(256, (3,3), padding='same', activation='relu')(path1)\n",
    "    path1 = keras.layers.Conv2D(256, (3,3), padding='same', activation='relu')(path1)\n",
    "    path1 = keras.layers.Conv2D(256, (3,3), padding='same', activation='relu')(path1)\n",
    "    path1 = keras.layers.MaxPool2D((2,2), strides=(2,2),padding='same')(path1)\n",
    "    path1 = keras.layers.Dropout(0.2)(path1)\n",
    "\n",
    "    ###\n",
    "    \n",
    "    holo_path_ = keras.layers.Concatenate()([path0, path1])\n",
    "    holo_path_ = keras.layers.Flatten()(holo_path_)\n",
    "    \n",
    "    paths.append(holo_path_)\n",
    "\n",
    "if \"fl_spectra\" in model_features:\n",
    "    input_fl = keras.layers.Input(shape=[13], name=\"fl_spectra\")\n",
    "    fl_path = input_fl * 255\n",
    "    fl_path = keras.layers.Dense(255)(fl_path)\n",
    "    inputs.append(input_fl)\n",
    "    paths.append(fl_path)\n",
    "\n",
    "if len(paths) > 1:\n",
    "    path_ = keras.layers.Concatenate()(paths)\n",
    "else:\n",
    "    path_ = paths[0]\n",
    "\n",
    "#path_ = keras.layers.Dropout(.2)(path_)\n",
    "outputs = keras.layers.Dense(\n",
    "    num_classes,\n",
    "    activation=\"softmax\",\n",
    "    name=\"target\"\n",
    ")(path_)\n",
    "#outputs = keras.layers.Softmax(name=\"target\")(outputs)\n",
    "\n",
    "\n",
    "model = keras.Model(inputs=inputs, outputs=[outputs])\n",
    "\n",
    "\"done\""
   ]
  },
  {
   "cell_type": "code",
   "execution_count": 23,
   "id": "e726f3e6-9aa7-4512-8595-735f64225233",
   "metadata": {
    "execution": {
     "iopub.execute_input": "2023-02-09T14:35:03.810472Z",
     "iopub.status.busy": "2023-02-09T14:35:03.810069Z",
     "iopub.status.idle": "2023-02-09T14:35:03.865288Z",
     "shell.execute_reply": "2023-02-09T14:35:03.864078Z",
     "shell.execute_reply.started": "2023-02-09T14:35:03.810435Z"
    },
    "tags": []
   },
   "outputs": [],
   "source": [
    "# To compile the model, we need a special loss funtion that allows for class weights. The details are not that important. Relavent to know\n",
    "# is that this allows for inbalanced data to be trained correctly. For example, if you have two times more of class 1 than in class 2, then\n",
    "# you would like the model to ignore this difference and act as if the two sets are identical in size.\n",
    "\n",
    "class WeightedSCCE(tf.keras.losses.Loss):\n",
    "    \"\"\"Custom SparseCategoricalCrossentropy loss class that supports class weights.\"\"\"\n",
    "    def __init__(self, class_weight, from_logits=False, name='weighted_scce'):\n",
    "        if class_weight is None or all(v == 1. for v in class_weight):\n",
    "            self.class_weight = None\n",
    "        else:\n",
    "            self.class_weight = tf.convert_to_tensor(class_weight,\n",
    "                dtype=tf.float32)\n",
    "        self.reduction = keras.losses.Reduction.NONE\n",
    "        self.unreduced_scce = keras.losses.SparseCategoricalCrossentropy(\n",
    "            from_logits=from_logits, name=name,\n",
    "            reduction=self.reduction)\n",
    "        self.name = name\n",
    "\n",
    "    def __call__(self, y_true, y_pred, sample_weight=None):\n",
    "        loss = self.unreduced_scce(y_true, y_pred, sample_weight)\n",
    "        if self.class_weight is not None:\n",
    "            weight_mask = tf.gather(self.class_weight, y_true)\n",
    "            loss = tf.math.multiply(loss, weight_mask)\n",
    "        return loss"
   ]
  },
  {
   "cell_type": "code",
   "execution_count": null,
   "id": "1f84e631-c827-4841-b18f-e2358b3b725c",
   "metadata": {
    "execution": {
     "iopub.execute_input": "2023-02-08T16:37:14.695906Z",
     "iopub.status.busy": "2023-02-08T16:37:14.695433Z",
     "iopub.status.idle": "2023-02-08T16:37:14.787159Z",
     "shell.execute_reply": "2023-02-08T16:37:14.785158Z",
     "shell.execute_reply.started": "2023-02-08T16:37:14.695865Z"
    },
    "tags": []
   },
   "outputs": [],
   "source": [
    "# Finally we compile the ml model\n",
    "learning_rate = 0.000_005\n",
    "model.compile(\n",
    "    # Optimizer, that handles the weight adjustment while training\n",
    "    optimizer=keras.optimizers.Adam(learning_rate),  \n",
    "    # Loss function to minimize\n",
    "    loss=WeightedSCCE(class_weights),\n",
    "    # List of metrics to monitor\n",
    "    metrics=[keras.metrics.SparseCategoricalAccuracy()],\n",
    ")"
   ]
  },
  {
   "cell_type": "code",
   "execution_count": 34,
   "id": "0ef5cf2e-cfcc-46fc-930a-aedd74766ef7",
   "metadata": {
    "execution": {
     "iopub.execute_input": "2023-02-09T14:46:17.931718Z",
     "iopub.status.busy": "2023-02-09T14:46:17.931188Z",
     "iopub.status.idle": "2023-02-09T14:46:17.996095Z",
     "shell.execute_reply": "2023-02-09T14:46:17.995134Z",
     "shell.execute_reply.started": "2023-02-09T14:46:17.931675Z"
    },
    "tags": []
   },
   "outputs": [],
   "source": [
    "model_path = 'models'\n",
    "model_file_path = os.path.join(model_path, model_name, 'model')\n",
    "model_info_file_path = os.path.join(model_path, model_name, 'model', 'model_info.json')\n",
    "checkpoint_file_path = os.path.join(model_path, model_name, 'training', 'checkpoints', '20230209-075841')"
   ]
  },
  {
   "cell_type": "code",
   "execution_count": 35,
   "id": "536c3c4e-b0a6-4dd3-b21e-4716b869dc35",
   "metadata": {
    "execution": {
     "iopub.execute_input": "2023-02-09T14:46:18.394837Z",
     "iopub.status.busy": "2023-02-09T14:46:18.394428Z",
     "iopub.status.idle": "2023-02-09T14:46:23.217275Z",
     "shell.execute_reply": "2023-02-09T14:46:23.216158Z",
     "shell.execute_reply.started": "2023-02-09T14:46:18.394805Z"
    },
    "tags": []
   },
   "outputs": [
    {
     "name": "stderr",
     "output_type": "stream",
     "text": [
      "WARNING:absl:Found untraced functions such as _jit_compiled_convolution_op, _jit_compiled_convolution_op, _jit_compiled_convolution_op, _jit_compiled_convolution_op, _jit_compiled_convolution_op while saving (showing 5 of 20). These functions will not be directly callable after loading.\n"
     ]
    },
    {
     "name": "stdout",
     "output_type": "stream",
     "text": [
      "INFO:tensorflow:Assets written to: models/prod_new+other_trash/model/assets\n"
     ]
    },
    {
     "name": "stderr",
     "output_type": "stream",
     "text": [
      "INFO:tensorflow:Assets written to: models/prod_new+other_trash/model/assets\n"
     ]
    }
   ],
   "source": [
    "# reload last checkpoint's weights those are the ones to export\n",
    "model.load_weights(checkpoint_file_path)\n",
    "# save the best model\n",
    "model.save(model_file_path)\n",
    "# save the model's essential info\n",
    "#with open(model_info_file_path, 'w') as f:\n",
    " #   f.write(json.dumps(model_info))"
   ]
  },
  {
   "cell_type": "code",
   "execution_count": 31,
   "id": "50083bc6-c82c-4f58-b94f-77685301104f",
   "metadata": {
    "execution": {
     "iopub.execute_input": "2023-02-09T14:44:58.433065Z",
     "iopub.status.busy": "2023-02-09T14:44:58.432527Z",
     "iopub.status.idle": "2023-02-09T14:44:58.495362Z",
     "shell.execute_reply": "2023-02-09T14:44:58.494068Z",
     "shell.execute_reply.started": "2023-02-09T14:44:58.433028Z"
    },
    "tags": []
   },
   "outputs": [
    {
     "data": {
      "text/plain": [
       "'models/prod_new+other_trash/training/checkpoints/20230207-163413'"
      ]
     },
     "execution_count": 31,
     "metadata": {},
     "output_type": "execute_result"
    }
   ],
   "source": [
    "checkpoint_file_path"
   ]
  },
  {
   "cell_type": "code",
   "execution_count": 33,
   "id": "54571eba-3567-4124-a616-f4c60121fbf9",
   "metadata": {
    "execution": {
     "iopub.execute_input": "2023-02-09T14:45:37.273528Z",
     "iopub.status.busy": "2023-02-09T14:45:37.272920Z",
     "iopub.status.idle": "2023-02-09T14:45:37.351242Z",
     "shell.execute_reply": "2023-02-09T14:45:37.349335Z",
     "shell.execute_reply.started": "2023-02-09T14:45:37.273483Z"
    },
    "tags": []
   },
   "outputs": [
    {
     "data": {
      "text/plain": [
       "['checkpoint', '20230209-075841.index', '20230209-075841.data-00000-of-00001']"
      ]
     },
     "execution_count": 33,
     "metadata": {},
     "output_type": "execute_result"
    }
   ],
   "source": [
    "os.listdir('models/prod_new+other_trash/training/checkpoints/')"
   ]
  },
  {
   "cell_type": "code",
   "execution_count": null,
   "id": "98871404-79bb-46f6-8789-95ed60689a99",
   "metadata": {},
   "outputs": [],
   "source": []
  }
 ],
 "metadata": {
  "kernelspec": {
   "display_name": "Python 3",
   "language": "python",
   "name": "python3"
  },
  "language_info": {
   "codemirror_mode": {
    "name": "ipython",
    "version": 3
   },
   "file_extension": ".py",
   "mimetype": "text/x-python",
   "name": "python",
   "nbconvert_exporter": "python",
   "pygments_lexer": "ipython3",
   "version": "3.8.10"
  }
 },
 "nbformat": 4,
 "nbformat_minor": 5
}
