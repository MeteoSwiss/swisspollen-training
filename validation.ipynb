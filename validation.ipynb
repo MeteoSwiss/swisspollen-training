{
 "cells": [
  {
   "cell_type": "markdown",
   "id": "fc73e9e8-19a2-43ce-84e9-6597cfe6f81b",
   "metadata": {
    "tags": []
   },
   "source": [
    "## Time Series Comparison"
   ]
  },
  {
   "cell_type": "markdown",
   "id": "0348c511-046e-472b-86b9-1ddb98f1e197",
   "metadata": {
    "jp-MarkdownHeadingCollapsed": true,
    "tags": []
   },
   "source": [
    "#### Imports"
   ]
  },
  {
   "cell_type": "code",
   "execution_count": 1,
   "id": "d3e825e8-f9af-4284-a229-ce2e25205318",
   "metadata": {
    "execution": {
     "iopub.execute_input": "2022-12-22T13:42:02.771044Z",
     "iopub.status.busy": "2022-12-22T13:42:02.770719Z",
     "iopub.status.idle": "2022-12-22T13:42:07.361255Z",
     "shell.execute_reply": "2022-12-22T13:42:07.359980Z",
     "shell.execute_reply.started": "2022-12-22T13:42:02.770969Z"
    },
    "tags": []
   },
   "outputs": [
    {
     "name": "stdout",
     "output_type": "stream",
     "text": [
      "Processing /tf/tmp/poleno-ml\n",
      "  Preparing metadata (setup.py) ... \u001b[?25ldone\n",
      "\u001b[?25hBuilding wheels for collected packages: poleno-ml\n",
      "  Building wheel for poleno-ml (setup.py) ... \u001b[?25ldone\n",
      "\u001b[?25h  Created wheel for poleno-ml: filename=poleno_ml-0.1.0-py3-none-any.whl size=16657 sha256=0e13986734fe18947a4173cdc887ba59e1ab6d2e9b3f5de0bf03e5919029552a\n",
      "  Stored in directory: /root/.cache/pip/wheels/36/27/94/c36c0ca182dfe6d14b2ad2190409db7ec462f251c1019d9266\n",
      "Successfully built poleno-ml\n",
      "Installing collected packages: poleno-ml\n",
      "  Attempting uninstall: poleno-ml\n",
      "    Found existing installation: poleno-ml 0.1.0\n",
      "    Uninstalling poleno-ml-0.1.0:\n",
      "      Successfully uninstalled poleno-ml-0.1.0\n",
      "Successfully installed poleno-ml-0.1.0\n",
      "\u001b[33mWARNING: Running pip as the 'root' user can result in broken permissions and conflicting behaviour with the system package manager. It is recommended to use a virtual environment instead: https://pip.pypa.io/warnings/venv\u001b[0m\u001b[33m\n",
      "\u001b[0m"
     ]
    }
   ],
   "source": [
    "# run this if you made changes to the poleno-ml code \n",
    "# NB: Those changes must have been made to the /tf/tmp/poleno-ml repository to have an effect on this notebook's code.\n",
    "# NB: However, changes made to the tmp repository are temporary and will be rolled back when Docker VM will be shutdown.\n",
    "#     If you want to make them permanent, dupplicate them to /tf/home/dependencies/poleno-ml.\n",
    "!pip install /tf/tmp/poleno-ml"
   ]
  },
  {
   "cell_type": "code",
   "execution_count": 77,
   "id": "f40e800f-c0ff-4152-877c-80aa230b8d94",
   "metadata": {
    "execution": {
     "iopub.execute_input": "2022-12-22T19:27:51.616851Z",
     "iopub.status.busy": "2022-12-22T19:27:51.616282Z",
     "iopub.status.idle": "2022-12-22T19:27:51.706786Z",
     "shell.execute_reply": "2022-12-22T19:27:51.704350Z",
     "shell.execute_reply.started": "2022-12-22T19:27:51.616808Z"
    },
    "tags": []
   },
   "outputs": [
    {
     "name": "stdout",
     "output_type": "stream",
     "text": [
      "The autoreload extension is already loaded. To reload it, use:\n",
      "  %reload_ext autoreload\n"
     ]
    }
   ],
   "source": [
    "%load_ext autoreload\n",
    "%autoreload 2\n",
    "import copy\n",
    "import datetime\n",
    "from IPython.display import clear_output, display\n",
    "import ipywidgets as widgets\n",
    "import json\n",
    "import matplotlib\n",
    "import matplotlib.pyplot as plt\n",
    "from multiprocessing import Pool\n",
    "from multiprocessing.pool import ThreadPool\n",
    "import numpy as np\n",
    "import operator as op\n",
    "import os\n",
    "import pandas as pd\n",
    "from poleno_db_interface.database.filter import AndClause, OrClause, ConditionClause, DataColumn\n",
    "from poleno_db_interface.database.query_utils import DataColumn, finalize_query\n",
    "from poleno_ml.database.query_interface_ml import QueryInterfaceML, DatasetPipeline\n",
    "import poleno_db_interface.database.model.poleno_data_model as pdm\n",
    "import tensorflow as tf\n",
    "import tensorflow.keras as keras\n",
    "import time\n",
    "from tqdm.notebook import tqdm\n",
    "from typing import List\n",
    "from uuid import UUID\n",
    "import uuid"
   ]
  },
  {
   "cell_type": "raw",
   "id": "b0f63d72-a2ea-4b55-9eeb-49df5e2c047b",
   "metadata": {
    "execution": {
     "iopub.status.busy": "2022-12-20T21:32:50.959583Z",
     "iopub.status.idle": "2022-12-20T21:32:50.959947Z",
     "shell.execute_reply": "2022-12-20T21:32:50.959789Z"
    },
    "tags": []
   },
   "source": [
    "# specifies which PhysicalDevice objects are visible to the runtime. TF will only allocate memory and place operations on visible physical devices\n",
    "gpu0 = tf.config.list_physical_devices('GPU')[0] # use GPU 0\n",
    "tf.config.set_visible_devices(gpu0, 'GPU')\n",
    "tf.config.experimental.set_virtual_device_configuration(\n",
    "    gpu0, \n",
    "    [tf.config.experimental.VirtualDeviceConfiguration(memory_limit=35_000)] # set max GPU memory usage\n",
    ")"
   ]
  },
  {
   "cell_type": "markdown",
   "id": "7f1ada55-c9f7-4733-8a8d-4c1aef768452",
   "metadata": {},
   "source": [
    "### Parameters"
   ]
  },
  {
   "cell_type": "code",
   "execution_count": 229,
   "id": "2fc6d8f5-ad12-42b1-b58c-1bc1475086f3",
   "metadata": {
    "execution": {
     "iopub.execute_input": "2022-12-23T12:30:48.308874Z",
     "iopub.status.busy": "2022-12-23T12:30:48.308425Z",
     "iopub.status.idle": "2022-12-23T12:30:48.366271Z",
     "shell.execute_reply": "2022-12-23T12:30:48.364853Z",
     "shell.execute_reply.started": "2022-12-23T12:30:48.308841Z"
    },
    "tags": []
   },
   "outputs": [],
   "source": [
    "model_name = 'real1_bis' # model you want to evaluate\n",
    "# pull poleno data between start_date and end_date measured by device_name\n",
    "start_date  = datetime.date(2020,2,19) # February 19th 2020\n",
    "end_date    = datetime.date(2020,5,24) # May 5th 2020\n",
    "device_name = 'poleno-5'\n",
    "# hirst data to compare against\n",
    "hirst_file_path = os.path.join('validation_input', 'hirst_pay_19022020-24052020.csv')"
   ]
  },
  {
   "cell_type": "code",
   "execution_count": 230,
   "id": "1a61b8b6-8328-4044-b30f-4f9b82352169",
   "metadata": {
    "execution": {
     "iopub.execute_input": "2022-12-23T12:30:49.308336Z",
     "iopub.status.busy": "2022-12-23T12:30:49.307685Z",
     "iopub.status.idle": "2022-12-23T12:30:49.384551Z",
     "shell.execute_reply": "2022-12-23T12:30:49.382353Z",
     "shell.execute_reply.started": "2022-12-23T12:30:49.308290Z"
    },
    "tags": []
   },
   "outputs": [],
   "source": [
    "db_chunksize = 64\n",
    "pred_batch_size = 2048 # larger means faster prediction time but more memory consumption\n",
    "assert pred_batch_size >= db_chunksize, 'Predictions are way slower if pred_batch_size is smaller than db_chunksize.'"
   ]
  },
  {
   "cell_type": "markdown",
   "id": "64ed2da5-6123-4e7e-97a3-4f4cac664588",
   "metadata": {
    "jp-MarkdownHeadingCollapsed": true,
    "tags": []
   },
   "source": [
    "#### Load the model"
   ]
  },
  {
   "cell_type": "code",
   "execution_count": 231,
   "id": "8c8fee81-6390-4a90-ab01-285b5554ef89",
   "metadata": {
    "execution": {
     "iopub.execute_input": "2022-12-23T12:30:51.420780Z",
     "iopub.status.busy": "2022-12-23T12:30:51.420169Z",
     "iopub.status.idle": "2022-12-23T12:30:51.491345Z",
     "shell.execute_reply": "2022-12-23T12:30:51.489787Z",
     "shell.execute_reply.started": "2022-12-23T12:30:51.420733Z"
    },
    "tags": []
   },
   "outputs": [],
   "source": [
    "# prepare file paths\n",
    "model_path = os.path.join('models', model_name, 'model')\n",
    "model_info_file_path = os.path.join(model_path, 'model_info.json')\n",
    "eval_cache_path = os.path.join('validation_input', f'cache_{device_name}_{start_date}-{end_date}')"
   ]
  },
  {
   "cell_type": "code",
   "execution_count": 232,
   "id": "33eaf4e8-b5e4-4242-9c3f-6bb088a43f2d",
   "metadata": {
    "execution": {
     "iopub.execute_input": "2022-12-23T12:30:51.715279Z",
     "iopub.status.busy": "2022-12-23T12:30:51.714864Z",
     "iopub.status.idle": "2022-12-23T12:31:20.319769Z",
     "shell.execute_reply": "2022-12-23T12:31:20.318544Z",
     "shell.execute_reply.started": "2022-12-23T12:30:51.715238Z"
    },
    "tags": []
   },
   "outputs": [],
   "source": [
    "# load trained model's info\n",
    "with open(model_info_file_path, 'r') as f:\n",
    "    model_info = json.loads(f.read())\n",
    "# load trained model\n",
    "model = keras.models.load_model(model_path, compile=False)"
   ]
  },
  {
   "cell_type": "code",
   "execution_count": 233,
   "id": "8701c41d-6388-43db-bb57-166f5ab86975",
   "metadata": {
    "execution": {
     "iopub.execute_input": "2022-12-23T12:31:20.324446Z",
     "iopub.status.busy": "2022-12-23T12:31:20.323966Z",
     "iopub.status.idle": "2022-12-23T12:31:20.380694Z",
     "shell.execute_reply": "2022-12-23T12:31:20.379258Z",
     "shell.execute_reply.started": "2022-12-23T12:31:20.324405Z"
    },
    "tags": []
   },
   "outputs": [],
   "source": [
    "eval_dir = os.path.join('models', model_info['model_name'], 'eval')\n",
    "os.makedirs(eval_dir, exist_ok=True)\n",
    "poleno_file_path = os.path.join(eval_dir, f'{device_name}_{start_date.strftime(\"%d%m%Y\")}-{end_date.strftime(\"%d%m%Y\")}.csv')"
   ]
  },
  {
   "cell_type": "markdown",
   "id": "3fdef443-c331-405d-9ecd-e4474bb96490",
   "metadata": {
    "tags": []
   },
   "source": [
    "### Get the new model's predictions"
   ]
  },
  {
   "cell_type": "markdown",
   "id": "5ab1ba39-bd10-484c-862c-2cdb794dc8c6",
   "metadata": {
    "jp-MarkdownHeadingCollapsed": true,
    "tags": []
   },
   "source": [
    "#### Pull raw data"
   ]
  },
  {
   "cell_type": "code",
   "execution_count": 210,
   "id": "74595c44-b6d2-4c5b-a53c-106ef991e26f",
   "metadata": {
    "execution": {
     "iopub.execute_input": "2022-12-23T10:43:19.475878Z",
     "iopub.status.busy": "2022-12-23T10:43:19.475086Z",
     "iopub.status.idle": "2022-12-23T10:43:20.429849Z",
     "shell.execute_reply": "2022-12-23T10:43:20.428577Z",
     "shell.execute_reply.started": "2022-12-23T10:43:19.475838Z"
    },
    "tags": []
   },
   "outputs": [],
   "source": [
    "import myloginpath\n",
    "db_config = myloginpath.parse('client', path='/tf/.mylogin.cnf')\n",
    "\n",
    "# Conect to the database and create an interface instance\n",
    "query_interface_ml = QueryInterfaceML(**db_config)"
   ]
  },
  {
   "cell_type": "code",
   "execution_count": 211,
   "id": "2c314a9a-9a14-4143-8f98-6ab42e2224da",
   "metadata": {
    "execution": {
     "iopub.execute_input": "2022-12-23T10:43:20.431658Z",
     "iopub.status.busy": "2022-12-23T10:43:20.431362Z",
     "iopub.status.idle": "2022-12-23T10:52:24.538569Z",
     "shell.execute_reply": "2022-12-23T10:52:24.537687Z",
     "shell.execute_reply.started": "2022-12-23T10:43:20.431629Z"
    },
    "scrolled": true,
    "tags": []
   },
   "outputs": [
    {
     "name": "stdout",
     "output_type": "stream",
     "text": [
      " received 984000eceived 90000received 776000unique evet list finished. Calling prepare_tf_dataset function 7.678251803302539\n"
     ]
    },
    {
     "data": {
      "text/plain": [
       "984832"
      ]
     },
     "execution_count": 211,
     "metadata": {},
     "output_type": "execute_result"
    }
   ],
   "source": [
    "# load poleno's raw data measured during timerange\n",
    "filter_ = AndClause(\n",
    "    ConditionClause(pdm.Event.timestamp, op.gt, time.mktime(start_date.timetuple())),\n",
    "    ConditionClause(pdm.Event.timestamp, op.lt, time.mktime(end_date.timetuple())),\n",
    "    ConditionClause(pdm.Event.device_id_str, op.eq, device_name),\n",
    "    ConditionClause(pdm.ImageAnalysis.particleArea, op.ge, 625, \"img0\"),\n",
    "    ConditionClause(pdm.ImageAnalysis.particleArea, op.ge, 625, \"img1\"),\n",
    "    ConditionClause(pdm.ImageAnalysis.particleSolidity, op.ge, 0.9, \"img0\"),\n",
    "    ConditionClause(pdm.ImageAnalysis.particleSolidity, op.ge, 0.9, \"img1\"),\n",
    "    ConditionClause(pdm.ImageAnalysis.ImageData_id, op.eq, 0, \"img0\"),\n",
    "    ConditionClause(pdm.ImageAnalysis.ImageData_id, op.eq, 1, \"img1\"),\n",
    ")\n",
    "\n",
    "timeseries_dataset = query_interface_ml.prepare_tf_dataset_from_event_filter(\n",
    "    filter_=filter_,\n",
    "    batch_size=model_info['batch_size'],\n",
    "    model_features=copy.deepcopy(model_info['model_features']),\n",
    "    include_timestamps=True,\n",
    "    db_chunksize=db_chunksize\n",
    ")\n",
    "timeseries_dataset.dataset_length"
   ]
  },
  {
   "cell_type": "code",
   "execution_count": 212,
   "id": "85e89534-0b5f-4e5a-bc51-6cceb23c71ba",
   "metadata": {
    "execution": {
     "iopub.execute_input": "2022-12-23T10:52:24.540199Z",
     "iopub.status.busy": "2022-12-23T10:52:24.539995Z",
     "iopub.status.idle": "2022-12-23T11:09:42.594490Z",
     "shell.execute_reply": "2022-12-23T11:09:42.592386Z",
     "shell.execute_reply.started": "2022-12-23T10:52:24.540180Z"
    },
    "tags": []
   },
   "outputs": [
    {
     "name": "stdout",
     "output_type": "stream",
     "text": [
      "ATTENTION: Remember to remove the cache file if you make changes to the dataset! Otherwise, the changes will not be reflected into the dataset and the trainingwill run on the old data.\n"
     ]
    },
    {
     "data": {
      "application/vnd.jupyter.widget-view+json": {
       "model_id": "244579fb0ad846d2bd3c6f86325901bb",
       "version_major": 2,
       "version_minor": 0
      },
      "text/plain": [
       "Preparing cache:   0%|          | 0/984832 [00:00<?, ?it/s]"
      ]
     },
     "metadata": {},
     "output_type": "display_data"
    },
    {
     "name": "stdout",
     "output_type": "stream",
     "text": [
      "Caching is done.\n"
     ]
    }
   ],
   "source": [
    "# cache the data\n",
    "timeseries_dataset.enable_cache(eval_cache_path, prepare=True)"
   ]
  },
  {
   "cell_type": "code",
   "execution_count": 213,
   "id": "be6c7e96-7d07-4e02-ade2-6a18cd44c805",
   "metadata": {
    "execution": {
     "iopub.execute_input": "2022-12-23T11:09:42.597075Z",
     "iopub.status.busy": "2022-12-23T11:09:42.596769Z",
     "iopub.status.idle": "2022-12-23T11:09:42.712750Z",
     "shell.execute_reply": "2022-12-23T11:09:42.711466Z",
     "shell.execute_reply.started": "2022-12-23T11:09:42.597046Z"
    },
    "tags": []
   },
   "outputs": [],
   "source": [
    "# batch and prefetch\n",
    "timeseries_dataset.tf_dataset = timeseries_dataset.tf_dataset.unbatch().batch(pred_batch_size).prefetch(tf.data.AUTOTUNE)"
   ]
  },
  {
   "cell_type": "markdown",
   "id": "95ed4b03-18af-49a7-9b42-e07d814c8556",
   "metadata": {
    "jp-MarkdownHeadingCollapsed": true,
    "tags": []
   },
   "source": [
    "#### Predict"
   ]
  },
  {
   "cell_type": "code",
   "execution_count": 215,
   "id": "6bc3c8e7-d33c-42bf-a944-64a450d86109",
   "metadata": {
    "execution": {
     "iopub.execute_input": "2022-12-23T12:13:44.694957Z",
     "iopub.status.busy": "2022-12-23T12:13:44.694279Z",
     "iopub.status.idle": "2022-12-23T12:29:03.299987Z",
     "shell.execute_reply": "2022-12-23T12:29:03.296573Z",
     "shell.execute_reply.started": "2022-12-23T12:13:44.694911Z"
    },
    "scrolled": true,
    "tags": []
   },
   "outputs": [
    {
     "data": {
      "application/vnd.jupyter.widget-view+json": {
       "model_id": "",
       "version_major": 2,
       "version_minor": 0
      },
      "text/plain": [
       "  0%|          | 0/480 [00:00<?, ?it/s]"
      ]
     },
     "metadata": {},
     "output_type": "display_data"
    }
   ],
   "source": [
    "# get the model's predictions for each event\n",
    "labels = np.array(model_info['classes'])\n",
    "list_batch_preds = []\n",
    "\n",
    "for id_batch, feature_batch in tqdm(timeseries_dataset.get_data_pipeline(with_id=True), \n",
    "                                    total=timeseries_dataset.dataset_length//pred_batch_size, leave=False):\n",
    "    try:\n",
    "        # compute predictions\n",
    "        preds = model.predict(feature_batch, verbose=False)\n",
    "    except ValueError: # this is for backward compatibility with the old model's architecture\n",
    "        feature_batch['input_1'] = feature_batch.pop('rec0')\n",
    "        feature_batch['input_2'] = feature_batch.pop('rec1')\n",
    "        # compute predictions\n",
    "        preds = model.predict(feature_batch, verbose=False)\n",
    "    # append predicted labels and certainty\n",
    "    y_pred = np.argmax(preds, axis=-1)\n",
    "    certainties = np.max(preds, axis=-1)\n",
    "    pred_classes = labels[y_pred]\n",
    "    list_batch_preds.append(pd.DataFrame({\n",
    "        'event_id': [id_.decode() for id_ in id_batch[\"id\"].numpy()],\n",
    "        'pred_class': pred_classes,\n",
    "        'pred_certainty': certainties,\n",
    "        'event_timestamp': [ts_ for ts_ in id_batch[\"timestamp\"].numpy()]\n",
    "    }))\n",
    "df_poleno = pd.concat(list_batch_preds).reset_index(drop=True) # convert list of pd.DataFrame to one pd.DataFrame\n",
    "del list_batch_preds\n",
    "# convert timestamp from double to datetime\n",
    "df_poleno['event_timestamp'] = df_poleno['event_timestamp'].apply(float)\n",
    "df_poleno['event_timestamp'] = pd.to_datetime(df_poleno['event_timestamp'], unit=\"s\")\n",
    "# set datetime as index\n",
    "df_poleno.index = df_poleno.event_timestamp\n",
    "df_poleno = df_poleno.drop(['event_timestamp'], axis=1)\n",
    "df_poleno.to_csv(poleno_file_path) # save to csv"
   ]
  },
  {
   "cell_type": "raw",
   "id": "cb70fee2-3bd7-46a6-b862-16b7856680a7",
   "metadata": {
    "execution": {
     "iopub.execute_input": "2022-12-21T10:29:53.139000Z",
     "iopub.status.busy": "2022-12-21T10:29:53.138528Z",
     "iopub.status.idle": "2022-12-21T10:39:57.415090Z",
     "shell.execute_reply": "2022-12-21T10:39:57.411981Z",
     "shell.execute_reply.started": "2022-12-21T10:29:53.138960Z"
    },
    "tags": []
   },
   "source": [
    "# concurrent code isn't faster than the sequential version: I guess calls to the model's predict method are sequential either way.\n",
    "\n",
    "# get the model's predictions for each event\n",
    "labels = np.array(model_info['classes'])\n",
    "\n",
    "def concurrent_predict_(args):\n",
    "    id_batch, feature_batch = args\n",
    "    #feature_batch['input_1'] = feature_batch.pop('rec0') # only uncomment this if you need backward compatibility with the old model's architecture\n",
    "    #feature_batch['input_2'] = feature_batch.pop('rec1') # only uncomment this if you need backward compatibility with the old model's architecture\n",
    "    # compute predictions\n",
    "    preds = model.predict(feature_batch, verbose=False)\n",
    "    # append predicted labels and certainty\n",
    "    y_pred = np.argmax(preds, axis=-1)\n",
    "    certainties = np.max(preds, axis=-1)\n",
    "    pred_classes = labels[y_pred]\n",
    "    return pd.DataFrame({\n",
    "        'event_id': [id_.decode() for id_ in id_batch[\"id\"].numpy()],\n",
    "        'pred_class': pred_classes,\n",
    "        'pred_certainty': certainties,\n",
    "        'event_timestamp': [ts_ for ts_ in id_batch[\"timestamp\"].numpy()]\n",
    "    })\n",
    "# concurrently retrieve model's prediction for each event\n",
    "with ThreadPool(32) as pool:\n",
    "    list_batch_preds = list(tqdm(pool.imap(lambda args: concurrent_predict_(args), timeseries_dataset.get_data_pipeline(with_id=True)), \n",
    "                                 leave=False, total=timeseries_dataset.dataset_length // pred_batch_size))\n",
    "            \n",
    "df_poleno = pd.concat(list_batch_preds).reset_index(drop=True) # convert list of pd.DataFrame to one pd.DataFrame\n",
    "del list_batch_preds\n",
    "# convert timestamp from double to datetime\n",
    "df_poleno['event_timestamp'] = df_poleno['event_timestamp'].apply(float)\n",
    "df_poleno['event_timestamp'] = pd.to_datetime(df_poleno['event_timestamp'], unit=\"s\")\n",
    "df_poleno.index = df_poleno.event_timestamp\n",
    "df_poleno = df_poleno.drop(['event_timestamp'], axis=1)\n",
    "df_poleno.to_csv(poleno_file_path) # save to csv"
   ]
  },
  {
   "cell_type": "code",
   "execution_count": 216,
   "id": "3094ef24-0642-4b03-85bf-2000ef706977",
   "metadata": {
    "execution": {
     "iopub.execute_input": "2022-12-23T12:29:03.304134Z",
     "iopub.status.busy": "2022-12-23T12:29:03.303710Z",
     "iopub.status.idle": "2022-12-23T12:29:03.398496Z",
     "shell.execute_reply": "2022-12-23T12:29:03.397021Z",
     "shell.execute_reply.started": "2022-12-23T12:29:03.304098Z"
    },
    "tags": []
   },
   "outputs": [],
   "source": [
    "query_interface_ml.session.rollback()"
   ]
  },
  {
   "cell_type": "markdown",
   "id": "3d541124-5940-43c9-80d8-4767a067fb77",
   "metadata": {},
   "source": [
    "### Load previously created predictions file\n",
    "If you already ran the code above to generate predictions for your model, run this code to load the DataFrame."
   ]
  },
  {
   "cell_type": "code",
   "execution_count": 234,
   "id": "98b40a89-dc9b-44ab-8000-715d5355470b",
   "metadata": {
    "execution": {
     "iopub.execute_input": "2022-12-23T12:31:20.384174Z",
     "iopub.status.busy": "2022-12-23T12:31:20.383687Z",
     "iopub.status.idle": "2022-12-23T12:31:22.377509Z",
     "shell.execute_reply": "2022-12-23T12:31:22.376063Z",
     "shell.execute_reply.started": "2022-12-23T12:31:20.384133Z"
    },
    "tags": []
   },
   "outputs": [],
   "source": [
    "df_poleno = pd.read_csv(poleno_file_path, index_col=0, parse_dates=True)"
   ]
  },
  {
   "cell_type": "markdown",
   "id": "6e21048a-6371-4694-ae37-60ebaf47b67a",
   "metadata": {
    "jp-MarkdownHeadingCollapsed": true,
    "tags": []
   },
   "source": [
    "### Get Hirst data"
   ]
  },
  {
   "cell_type": "code",
   "execution_count": 218,
   "id": "0f31bba8-6e0b-46aa-86e5-4b9ea60ab823",
   "metadata": {
    "execution": {
     "iopub.execute_input": "2022-12-23T12:29:05.541307Z",
     "iopub.status.busy": "2022-12-23T12:29:05.541020Z",
     "iopub.status.idle": "2022-12-23T12:29:05.656795Z",
     "shell.execute_reply": "2022-12-23T12:29:05.655665Z",
     "shell.execute_reply.started": "2022-12-23T12:29:05.541279Z"
    },
    "tags": []
   },
   "outputs": [
    {
     "data": {
      "text/html": [
       "<div>\n",
       "<style scoped>\n",
       "    .dataframe tbody tr th:only-of-type {\n",
       "        vertical-align: middle;\n",
       "    }\n",
       "\n",
       "    .dataframe tbody tr th {\n",
       "        vertical-align: top;\n",
       "    }\n",
       "\n",
       "    .dataframe thead th {\n",
       "        text-align: right;\n",
       "    }\n",
       "</style>\n",
       "<table border=\"1\" class=\"dataframe\">\n",
       "  <thead>\n",
       "    <tr style=\"text-align: right;\">\n",
       "      <th></th>\n",
       "      <th>Betula</th>\n",
       "      <th>Poaceae</th>\n",
       "      <th>Alnus</th>\n",
       "      <th>Carpinus</th>\n",
       "      <th>Corylus</th>\n",
       "      <th>Cupressus</th>\n",
       "      <th>Fagus</th>\n",
       "      <th>Fraxinus</th>\n",
       "      <th>Pinus</th>\n",
       "      <th>Platanus</th>\n",
       "      <th>Populus</th>\n",
       "      <th>Quercus</th>\n",
       "      <th>Taxus</th>\n",
       "      <th>Ulmus</th>\n",
       "    </tr>\n",
       "    <tr>\n",
       "      <th>event_timestamp</th>\n",
       "      <th></th>\n",
       "      <th></th>\n",
       "      <th></th>\n",
       "      <th></th>\n",
       "      <th></th>\n",
       "      <th></th>\n",
       "      <th></th>\n",
       "      <th></th>\n",
       "      <th></th>\n",
       "      <th></th>\n",
       "      <th></th>\n",
       "      <th></th>\n",
       "      <th></th>\n",
       "      <th></th>\n",
       "    </tr>\n",
       "  </thead>\n",
       "  <tbody>\n",
       "    <tr>\n",
       "      <th>2020-02-19 00:00:00</th>\n",
       "      <td>0.0</td>\n",
       "      <td>0.0</td>\n",
       "      <td>195.0</td>\n",
       "      <td>0.0</td>\n",
       "      <td>0.0</td>\n",
       "      <td>0.0</td>\n",
       "      <td>0.0</td>\n",
       "      <td>0.0</td>\n",
       "      <td>0.0</td>\n",
       "      <td>0.0</td>\n",
       "      <td>0.0</td>\n",
       "      <td>0.0</td>\n",
       "      <td>98.0</td>\n",
       "      <td>0.0</td>\n",
       "    </tr>\n",
       "    <tr>\n",
       "      <th>2020-02-19 01:00:00</th>\n",
       "      <td>0.0</td>\n",
       "      <td>0.0</td>\n",
       "      <td>260.0</td>\n",
       "      <td>0.0</td>\n",
       "      <td>33.0</td>\n",
       "      <td>33.0</td>\n",
       "      <td>0.0</td>\n",
       "      <td>33.0</td>\n",
       "      <td>0.0</td>\n",
       "      <td>0.0</td>\n",
       "      <td>0.0</td>\n",
       "      <td>0.0</td>\n",
       "      <td>33.0</td>\n",
       "      <td>0.0</td>\n",
       "    </tr>\n",
       "    <tr>\n",
       "      <th>2020-02-19 02:00:00</th>\n",
       "      <td>0.0</td>\n",
       "      <td>0.0</td>\n",
       "      <td>163.0</td>\n",
       "      <td>0.0</td>\n",
       "      <td>0.0</td>\n",
       "      <td>0.0</td>\n",
       "      <td>0.0</td>\n",
       "      <td>0.0</td>\n",
       "      <td>0.0</td>\n",
       "      <td>0.0</td>\n",
       "      <td>0.0</td>\n",
       "      <td>0.0</td>\n",
       "      <td>0.0</td>\n",
       "      <td>0.0</td>\n",
       "    </tr>\n",
       "  </tbody>\n",
       "</table>\n",
       "</div>"
      ],
      "text/plain": [
       "                     Betula  Poaceae  Alnus  Carpinus  Corylus  Cupressus  \\\n",
       "event_timestamp                                                             \n",
       "2020-02-19 00:00:00     0.0      0.0  195.0       0.0      0.0        0.0   \n",
       "2020-02-19 01:00:00     0.0      0.0  260.0       0.0     33.0       33.0   \n",
       "2020-02-19 02:00:00     0.0      0.0  163.0       0.0      0.0        0.0   \n",
       "\n",
       "                     Fagus  Fraxinus  Pinus  Platanus  Populus  Quercus  \\\n",
       "event_timestamp                                                           \n",
       "2020-02-19 00:00:00    0.0       0.0    0.0       0.0      0.0      0.0   \n",
       "2020-02-19 01:00:00    0.0      33.0    0.0       0.0      0.0      0.0   \n",
       "2020-02-19 02:00:00    0.0       0.0    0.0       0.0      0.0      0.0   \n",
       "\n",
       "                     Taxus  Ulmus  \n",
       "event_timestamp                    \n",
       "2020-02-19 00:00:00   98.0    0.0  \n",
       "2020-02-19 01:00:00   33.0    0.0  \n",
       "2020-02-19 02:00:00    0.0    0.0  "
      ]
     },
     "execution_count": 218,
     "metadata": {},
     "output_type": "execute_result"
    }
   ],
   "source": [
    "df_hirst = pd.read_csv(hirst_file_path)\n",
    "timestamp_cols = ['Year', 'Month', 'Day', 'Hour', 'Minute']\n",
    "df_hirst['event_timestamp'] = pd.to_datetime(df_hirst[timestamp_cols])\n",
    "df_hirst = df_hirst.drop(timestamp_cols, axis=1)\n",
    "df_hirst = df_hirst.replace(32767, np.nan)\n",
    "df_hirst.index = df_hirst.event_timestamp\n",
    "df_hirst = df_hirst[[c for c in df_hirst.columns if c in list(model_info['classes'])]]\n",
    "df_hirst.head(3)"
   ]
  },
  {
   "cell_type": "markdown",
   "id": "2c969baa-11e7-4ecb-a1fc-2d136d886ee1",
   "metadata": {
    "tags": []
   },
   "source": [
    "### Plots"
   ]
  },
  {
   "cell_type": "markdown",
   "id": "3a292bad-e318-4d56-8415-f80480d9c413",
   "metadata": {
    "jp-MarkdownHeadingCollapsed": true,
    "tags": []
   },
   "source": [
    "#### Utility functions"
   ]
  },
  {
   "cell_type": "code",
   "execution_count": 219,
   "id": "522dd7d3-0865-47b6-a766-453ebfae7313",
   "metadata": {
    "execution": {
     "iopub.execute_input": "2022-12-23T12:29:05.658338Z",
     "iopub.status.busy": "2022-12-23T12:29:05.658084Z",
     "iopub.status.idle": "2022-12-23T12:29:05.711625Z",
     "shell.execute_reply": "2022-12-23T12:29:05.710432Z",
     "shell.execute_reply.started": "2022-12-23T12:29:05.658312Z"
    },
    "tags": []
   },
   "outputs": [],
   "source": [
    "def df_poleno_to_ts_(df_poleno, taxa, threshold, agg_freq):\n",
    "    df_poleno_to_plot = df_poleno[(df_poleno.pred_class == taxa) & (df_poleno.pred_certainty > threshold)].rename(columns={'event_id': 'poleno'})\n",
    "    df_poleno_to_plot = df_poleno_to_plot.resample(agg_freq).count() # frequency conversion and resampling of time series\n",
    "    if df_poleno_to_plot.shape[0] <= 0: # if no event have been found, create \"empty\" time series\n",
    "        ix_ = pd.period_range(df_poleno.index.min(), df_poleno.index.max(), freq='1D')\n",
    "        df_poleno_to_plot = pd.DataFrame({'poleno': np.zeros(len(ix_))}, index=ix_)\n",
    "        df_poleno_to_plot.index.rename('event_timestamp', inplace=True)\n",
    "    return df_poleno_to_plot"
   ]
  },
  {
   "cell_type": "code",
   "execution_count": 220,
   "id": "20fd7f1d-3a64-4fa9-9050-fabdc6855b45",
   "metadata": {
    "execution": {
     "iopub.execute_input": "2022-12-23T12:29:05.713841Z",
     "iopub.status.busy": "2022-12-23T12:29:05.713488Z",
     "iopub.status.idle": "2022-12-23T12:29:05.781810Z",
     "shell.execute_reply": "2022-12-23T12:29:05.780313Z",
     "shell.execute_reply.started": "2022-12-23T12:29:05.713807Z"
    },
    "tags": []
   },
   "outputs": [],
   "source": [
    "def get_ts_and_merge_(df_poleno, df_hirst, taxa, threshold, agg_freq, scaling=False, date_range=None):\n",
    "    # poleno\n",
    "    df_poleno_ts = df_poleno_to_ts_(df_poleno, taxa, threshold, agg_freq)\n",
    "        \n",
    "    # hirst\n",
    "    df_hirst_ts = pd.DataFrame({'hirst': df_hirst[taxa].resample(agg_freq).sum()})\n",
    "    \n",
    "    # merged\n",
    "    timeseries = df_poleno_ts.merge(df_hirst_ts, on='event_timestamp', how='outer')[['hirst','poleno']]\n",
    "    \n",
    "    if date_range is not None:\n",
    "        timeseries = timeseries[date_range[0]:date_range[1]]\n",
    "    if scaling:\n",
    "        factor = timeseries['hirst'].mean() / timeseries['poleno'].mean()\n",
    "        timeseries['poleno'] *= factor\n",
    "    \n",
    "    return timeseries"
   ]
  },
  {
   "cell_type": "code",
   "execution_count": 221,
   "id": "33f2dc59-c2fc-4a46-a9b7-dfca3c8fe3e7",
   "metadata": {
    "execution": {
     "iopub.execute_input": "2022-12-23T12:29:05.784139Z",
     "iopub.status.busy": "2022-12-23T12:29:05.783800Z",
     "iopub.status.idle": "2022-12-23T12:29:05.849697Z",
     "shell.execute_reply": "2022-12-23T12:29:05.848644Z",
     "shell.execute_reply.started": "2022-12-23T12:29:05.784099Z"
    },
    "tags": []
   },
   "outputs": [],
   "source": [
    "def plot_(df_poleno: pd.DataFrame, df_hirst: pd.DataFrame, date_range: List[pd._libs.tslibs.timestamps.Timestamp], taxa: str, agg_freq: str, threshold: float, scaling: bool):\n",
    "    matplotlib.style.use('ggplot')\n",
    "    timeseries = get_ts_and_merge_(df_poleno, df_hirst, taxa, threshold, agg_freq, scaling=scaling, date_range=date_range)\n",
    "    print('Correlation: %.2f' % timeseries.corr().poleno.hirst)\n",
    "    fig = timeseries.plot(figsize=(12,4), title=taxa, ylabel='concentration')\n",
    "    fig.plot()\n",
    "    plt.show()"
   ]
  },
  {
   "cell_type": "code",
   "execution_count": 222,
   "id": "427b1810-3417-4c08-b8a1-fb529b50f3b4",
   "metadata": {
    "execution": {
     "iopub.execute_input": "2022-12-23T12:29:05.853356Z",
     "iopub.status.busy": "2022-12-23T12:29:05.853055Z",
     "iopub.status.idle": "2022-12-23T12:29:05.921313Z",
     "shell.execute_reply": "2022-12-23T12:29:05.920259Z",
     "shell.execute_reply.started": "2022-12-23T12:29:05.853326Z"
    },
    "tags": []
   },
   "outputs": [],
   "source": [
    "def create_widget(df_poleno: pd.DataFrame, df_hirst: pd.DataFrame):\n",
    "    # output widget\n",
    "    out = widgets.Output(layout = widgets.Layout(height='450px', overflow_y='auto'))\n",
    "    # ---\n",
    "\n",
    "    # dates range\n",
    "    start_date = min(df_poleno.index.min(), df_hirst.index.min())\n",
    "    end_date = max(df_poleno.index.max(), df_hirst.index.max())\n",
    "    dates = pd.date_range(start_date, end_date, freq='D')\n",
    "\n",
    "    options = [(date.strftime('%d.%m.%Y'), date) for date in dates]\n",
    "    index = (0, len(options)-1)\n",
    "\n",
    "    date_range_selector = widgets.SelectionRangeSlider(\n",
    "        options=options,\n",
    "        index=index,\n",
    "        description='Dates range',\n",
    "        orientation='horizontal',\n",
    "        layout={'width': '700px'},\n",
    "        readout=False\n",
    "    )\n",
    "    date_range_display = widgets.HTML(\n",
    "        value=(\n",
    "            f\"<b>{dates[index[0]]}\" + \n",
    "            f\" - {dates[index[1]]}</b>\"))\n",
    "\n",
    "    # Define the date range using the widgets.HBox\n",
    "    date_range = widgets.VBox(\n",
    "        (date_range_selector, date_range_display))\n",
    "\n",
    "    # Callback function that updates the display\n",
    "    def callback_daterange_(dts):\n",
    "        date_range_display.value = f\"<b>{dts[0].strftime('%d-%m-%Y')} - {dts[1].strftime('%d-%m-%Y')}</b>\"\n",
    "\n",
    "    widgets.interactive_output(\n",
    "        callback_daterange_, \n",
    "        {\"dts\": date_range_selector})\n",
    "    # ---\n",
    "    \n",
    "    # aggregation frequency\n",
    "    agg_freq_input = widgets.Text(\n",
    "        value='1D',\n",
    "        description='Aggregation frequency:',\n",
    "        disabled=False\n",
    "    )\n",
    "    agg_freq_display = widgets.HTML(value=('List of frequency strings <a href=\"https://pandas.pydata.org/pandas-docs/stable/user_guide/timeseries.html#dateoffset-objects\">here</a>.'))\n",
    "    agg_freq = widgets.VBox(\n",
    "        (agg_freq_input, agg_freq_display))\n",
    "    # ---\n",
    "    \n",
    "    # taxa selection\n",
    "    taxa_to_plot = sorted([t for t in model_info['classes'] if t in df_hirst.columns])\n",
    "    taxa_selector = widgets.Dropdown(\n",
    "        options=taxa_to_plot,\n",
    "        value=taxa_to_plot[0],\n",
    "        description='Taxa:',\n",
    "    )\n",
    "    # ---\n",
    "    \n",
    "    # threshold\n",
    "    thresh_selector = widgets.BoundedFloatText(\n",
    "        value=.3,\n",
    "        min=.0,\n",
    "        max=1.,\n",
    "        step=0.05,\n",
    "        description='Threshold:',\n",
    "        disabled=False\n",
    "    )\n",
    "    # ---\n",
    "    \n",
    "    # enable/disable re-scaling\n",
    "    scaling_selector = widgets.Checkbox(\n",
    "        value=False,\n",
    "        description='Scale Poleno on Hirst',\n",
    "        disabled=False,\n",
    "        indent=False\n",
    "    )\n",
    "    # ---\n",
    "\n",
    "    # display button\n",
    "    btn_display = widgets.Button(description='display')\n",
    "    def on_click(_):\n",
    "        # \"linking function with output\"\n",
    "        with out:\n",
    "            # what happens when we press the button\n",
    "            clear_output()\n",
    "            plot_(df_poleno, df_hirst, date_range_selector.value, taxa_selector.value, agg_freq_input.value, thresh_selector.value, scaling_selector.value)\n",
    "            plt.show()\n",
    "    # linking button and function together using a button's method\n",
    "    btn_display.on_click(on_click)\n",
    "    # ---\n",
    "    return date_range, agg_freq, taxa_selector, thresh_selector, scaling_selector, btn_display, out"
   ]
  },
  {
   "cell_type": "code",
   "execution_count": 223,
   "id": "f2e560ad-c03d-4144-a85d-364dd4c5f5e8",
   "metadata": {
    "execution": {
     "iopub.execute_input": "2022-12-23T12:29:05.923456Z",
     "iopub.status.busy": "2022-12-23T12:29:05.923169Z",
     "iopub.status.idle": "2022-12-23T12:29:05.977629Z",
     "shell.execute_reply": "2022-12-23T12:29:05.975949Z",
     "shell.execute_reply.started": "2022-12-23T12:29:05.923427Z"
    },
    "tags": []
   },
   "outputs": [],
   "source": [
    "def rolling_win_corr(timeseries, win_size, punish_fp_threshold=None) -> np.array:\n",
    "    # if mean concentration of a specific pollen during a time period is < punish_fp_threshold : \n",
    "    # then double the correlation weight between hirst and predictions for this time period\n",
    "    corr, weights = [], []\n",
    "    gb = timeseries.resample(win_size) # group by week or any other time period\n",
    "    for x in gb.groups: # for each time period\n",
    "        x_i = gb.get_group(x)\n",
    "        corr.append(x_i.corr().poleno.hirst) # compute correlation\n",
    "        w_i = 1. if punish_fp_threshold is None or x_i['hirst'].mean() > punish_fp_threshold else 2. # compute weight\n",
    "        weights.append(w_i)\n",
    "    ma = np.ma.MaskedArray(corr, mask=np.isnan(corr)) # mask to ignore nan\n",
    "    weighted_avg = np.ma.average(ma, weights=weights)\n",
    "    return weighted_avg"
   ]
  },
  {
   "cell_type": "code",
   "execution_count": 224,
   "id": "c88465b0-e4ee-4078-97ff-1055325e045a",
   "metadata": {
    "execution": {
     "iopub.execute_input": "2022-12-23T12:29:05.980252Z",
     "iopub.status.busy": "2022-12-23T12:29:05.979928Z",
     "iopub.status.idle": "2022-12-23T12:29:06.051321Z",
     "shell.execute_reply": "2022-12-23T12:29:06.049896Z",
     "shell.execute_reply.started": "2022-12-23T12:29:05.980218Z"
    },
    "tags": []
   },
   "outputs": [],
   "source": [
    "def compare_ts(df_poleno, df_hirst, thresholds=None, agg_freq='1D', trunccorr_win_size='2W', punish_fp_threshold=None):\n",
    "    joint_taxa = sorted([t for t in model_info['classes'] if t in df_hirst.columns])\n",
    "    if thresholds is None:\n",
    "        thresholds = {t: .0 for t in joint_taxa}\n",
    "    metrics = pd.DataFrame(index=joint_taxa, columns=['Pairwise Correlation', \n",
    "                                                      'Truncated Pairwise Correlation'], dtype=float)\n",
    "    for taxa in joint_taxa:\n",
    "        timeseries = get_ts_and_merge_(df_poleno, df_hirst, taxa, threshold, agg_freq, scaling=False)\n",
    "        metrics.at[taxa, 'Pairwise Correlation'] = timeseries.corr().poleno.hirst\n",
    "        metrics.at[taxa, 'Truncated Pairwise Correlation'] = rolling_win_corr(timeseries, trunccorr_win_size, punish_fp_threshold)\n",
    "    return metrics"
   ]
  },
  {
   "cell_type": "markdown",
   "id": "31d427c0-107a-4b41-ae6d-2b1af9b6f3cd",
   "metadata": {
    "tags": []
   },
   "source": [
    "#### Actual plot widget and metrics"
   ]
  },
  {
   "cell_type": "code",
   "execution_count": 235,
   "id": "068818d4-92d1-4c03-9a79-d77899b75c33",
   "metadata": {
    "execution": {
     "iopub.execute_input": "2022-12-23T12:31:22.379359Z",
     "iopub.status.busy": "2022-12-23T12:31:22.379034Z",
     "iopub.status.idle": "2022-12-23T12:31:24.413054Z",
     "shell.execute_reply": "2022-12-23T12:31:24.412038Z",
     "shell.execute_reply.started": "2022-12-23T12:31:22.379329Z"
    },
    "scrolled": true,
    "tags": []
   },
   "outputs": [
    {
     "name": "stdout",
     "output_type": "stream",
     "text": [
      "Pairwise Correlation\n",
      "Mean: 0.48, Median: 0.33, Min/Max: -0.09 (Taxus)/0.97 (s)\n",
      "\n",
      " Betula\n",
      "Truncated Pairwise Correlation\n",
      "Mean: 0.44, Median: 0.49, Min/Max: 0.18 (Carpinus)/0.71 (s)\n",
      "\n",
      " Fagus\n"
     ]
    },
    {
     "data": {
      "text/html": [
       "<div>\n",
       "<style scoped>\n",
       "    .dataframe tbody tr th:only-of-type {\n",
       "        vertical-align: middle;\n",
       "    }\n",
       "\n",
       "    .dataframe tbody tr th {\n",
       "        vertical-align: top;\n",
       "    }\n",
       "\n",
       "    .dataframe thead th {\n",
       "        text-align: right;\n",
       "    }\n",
       "</style>\n",
       "<table border=\"1\" class=\"dataframe\">\n",
       "  <thead>\n",
       "    <tr style=\"text-align: right;\">\n",
       "      <th></th>\n",
       "      <th>Pairwise Correlation</th>\n",
       "      <th>Truncated Pairwise Correlation</th>\n",
       "    </tr>\n",
       "  </thead>\n",
       "  <tbody>\n",
       "    <tr>\n",
       "      <th>Alnus</th>\n",
       "      <td>0.299417</td>\n",
       "      <td>0.258027</td>\n",
       "    </tr>\n",
       "    <tr>\n",
       "      <th>Betula</th>\n",
       "      <td>0.965659</td>\n",
       "      <td>0.623581</td>\n",
       "    </tr>\n",
       "    <tr>\n",
       "      <th>Carpinus</th>\n",
       "      <td>0.288654</td>\n",
       "      <td>0.176901</td>\n",
       "    </tr>\n",
       "    <tr>\n",
       "      <th>Corylus</th>\n",
       "      <td>0.038568</td>\n",
       "      <td>0.177671</td>\n",
       "    </tr>\n",
       "    <tr>\n",
       "      <th>Cupressus</th>\n",
       "      <td>0.715060</td>\n",
       "      <td>0.554289</td>\n",
       "    </tr>\n",
       "    <tr>\n",
       "      <th>Fagus</th>\n",
       "      <td>0.839733</td>\n",
       "      <td>0.714859</td>\n",
       "    </tr>\n",
       "    <tr>\n",
       "      <th>Fraxinus</th>\n",
       "      <td>0.844194</td>\n",
       "      <td>0.529208</td>\n",
       "    </tr>\n",
       "    <tr>\n",
       "      <th>Poaceae</th>\n",
       "      <td>0.342591</td>\n",
       "      <td>0.456013</td>\n",
       "    </tr>\n",
       "    <tr>\n",
       "      <th>Populus</th>\n",
       "      <td>0.319133</td>\n",
       "      <td>0.548219</td>\n",
       "    </tr>\n",
       "    <tr>\n",
       "      <th>Quercus</th>\n",
       "      <td>0.939558</td>\n",
       "      <td>0.537213</td>\n",
       "    </tr>\n",
       "    <tr>\n",
       "      <th>Taxus</th>\n",
       "      <td>-0.087809</td>\n",
       "      <td>0.376236</td>\n",
       "    </tr>\n",
       "    <tr>\n",
       "      <th>Ulmus</th>\n",
       "      <td>0.266808</td>\n",
       "      <td>0.349439</td>\n",
       "    </tr>\n",
       "  </tbody>\n",
       "</table>\n",
       "</div>"
      ],
      "text/plain": [
       "           Pairwise Correlation  Truncated Pairwise Correlation\n",
       "Alnus                  0.299417                        0.258027\n",
       "Betula                 0.965659                        0.623581\n",
       "Carpinus               0.288654                        0.176901\n",
       "Corylus                0.038568                        0.177671\n",
       "Cupressus              0.715060                        0.554289\n",
       "Fagus                  0.839733                        0.714859\n",
       "Fraxinus               0.844194                        0.529208\n",
       "Poaceae                0.342591                        0.456013\n",
       "Populus                0.319133                        0.548219\n",
       "Quercus                0.939558                        0.537213\n",
       "Taxus                 -0.087809                        0.376236\n",
       "Ulmus                  0.266808                        0.349439"
      ]
     },
     "execution_count": 235,
     "metadata": {},
     "output_type": "execute_result"
    }
   ],
   "source": [
    "# compute and print metrics values\n",
    "metrics = compare_ts(df_poleno, df_hirst, trunccorr_win_size='1W', punish_fp_threshold=None)\n",
    "for m in metrics:\n",
    "    print(m)\n",
    "    print('Mean: %.2f, Median: %.2f, Min/Max: %.2f (%s)/%.2f (s)\\n\\n' % (metrics[m].mean(), metrics[m].median(), metrics[m].min(), metrics.index[metrics[m].argmin()], metrics[m].max()), metrics.index[metrics[m].argmax()])\n",
    "metrics"
   ]
  },
  {
   "cell_type": "code",
   "execution_count": 236,
   "id": "e9fd70ae-9a0d-4246-bc3c-0fdf428002c0",
   "metadata": {
    "execution": {
     "iopub.execute_input": "2022-12-23T12:31:24.414452Z",
     "iopub.status.busy": "2022-12-23T12:31:24.414162Z",
     "iopub.status.idle": "2022-12-23T12:31:24.588513Z",
     "shell.execute_reply": "2022-12-23T12:31:24.586592Z",
     "shell.execute_reply.started": "2022-12-23T12:31:24.414422Z"
    },
    "tags": []
   },
   "outputs": [
    {
     "data": {
      "application/vnd.jupyter.widget-view+json": {
       "model_id": "8b8e20b315064812891c5abad95d9db1",
       "version_major": 2,
       "version_minor": 0
      },
      "text/plain": [
       "VBox(children=(VBox(children=(SelectionRangeSlider(description='Dates range', index=(0, 95), layout=Layout(wid…"
      ]
     },
     "execution_count": 236,
     "metadata": {},
     "output_type": "execute_result"
    }
   ],
   "source": [
    "# display widget\n",
    "widgets.VBox(create_widget(df_poleno, df_hirst))"
   ]
  },
  {
   "cell_type": "code",
   "execution_count": null,
   "id": "a4ce981e-f58c-4b7b-8681-baa4574d9e69",
   "metadata": {},
   "outputs": [],
   "source": []
  }
 ],
 "metadata": {
  "kernelspec": {
   "display_name": "Python 3",
   "language": "python",
   "name": "python3"
  },
  "language_info": {
   "codemirror_mode": {
    "name": "ipython",
    "version": 3
   },
   "file_extension": ".py",
   "mimetype": "text/x-python",
   "name": "python",
   "nbconvert_exporter": "python",
   "pygments_lexer": "ipython3",
   "version": "3.8.10"
  }
 },
 "nbformat": 4,
 "nbformat_minor": 5
}
