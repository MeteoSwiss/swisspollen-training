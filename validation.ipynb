{
 "cells": [
  {
   "cell_type": "markdown",
   "id": "e066142e-d6a1-47d4-a6c6-c103cb0fffd8",
   "metadata": {},
   "source": [
    "<img src=\"Swisens_logo.png\" width=\"240\" height=\"240\" align=\"left\"/>\n",
    "<div style=\"text-align: right\">\n",
    "    SwisensDataAnalyzer Introduction\n",
    "    <br>Machine Learning Model Validation\n",
    "    <br>Author: <a href=\"mailto:yanick.zeder@swisens.ch\">Yanick Zeder</a>\n",
    "    <br> Copyright 2021, Swisens AG\n",
    "    <br> <a href=\"mailto:yanick.zeder@swisens.ch\"> Support </a>\n",
    "    <br><br>\n",
    "    <b>Adapted and modified by MeteoSwiss.</b>\n",
    "</div>"
   ]
  },
  {
   "cell_type": "markdown",
   "id": "fc73e9e8-19a2-43ce-84e9-6597cfe6f81b",
   "metadata": {
    "tags": []
   },
   "source": [
    "## Time Series Comparison"
   ]
  },
  {
   "cell_type": "markdown",
   "id": "0348c511-046e-472b-86b9-1ddb98f1e197",
   "metadata": {
    "tags": []
   },
   "source": [
    "#### Imports"
   ]
  },
  {
   "cell_type": "code",
   "execution_count": 1,
   "id": "d3e825e8-f9af-4284-a229-ce2e25205318",
   "metadata": {
    "execution": {
     "iopub.execute_input": "2022-12-21T11:01:25.028943Z",
     "iopub.status.busy": "2022-12-21T11:01:25.028572Z",
     "iopub.status.idle": "2022-12-21T11:01:29.532276Z",
     "shell.execute_reply": "2022-12-21T11:01:29.531113Z",
     "shell.execute_reply.started": "2022-12-21T11:01:25.028850Z"
    },
    "tags": []
   },
   "outputs": [
    {
     "name": "stdout",
     "output_type": "stream",
     "text": [
      "Processing /tf/tmp/poleno-ml\n",
      "  Preparing metadata (setup.py) ... \u001b[?25ldone\n",
      "\u001b[?25hBuilding wheels for collected packages: poleno-ml\n",
      "  Building wheel for poleno-ml (setup.py) ... \u001b[?25ldone\n",
      "\u001b[?25h  Created wheel for poleno-ml: filename=poleno_ml-0.1.0-py3-none-any.whl size=16657 sha256=91d3188ca906b75af7efc1be07bf59341d70e8fca274355b774a7ffd327bb7c6\n",
      "  Stored in directory: /root/.cache/pip/wheels/36/27/94/c36c0ca182dfe6d14b2ad2190409db7ec462f251c1019d9266\n",
      "Successfully built poleno-ml\n",
      "Installing collected packages: poleno-ml\n",
      "  Attempting uninstall: poleno-ml\n",
      "    Found existing installation: poleno-ml 0.1.0\n",
      "    Uninstalling poleno-ml-0.1.0:\n",
      "      Successfully uninstalled poleno-ml-0.1.0\n",
      "Successfully installed poleno-ml-0.1.0\n",
      "\u001b[33mWARNING: Running pip as the 'root' user can result in broken permissions and conflicting behaviour with the system package manager. It is recommended to use a virtual environment instead: https://pip.pypa.io/warnings/venv\u001b[0m\u001b[33m\n",
      "\u001b[0m"
     ]
    }
   ],
   "source": [
    "# run this if you made changes to the poleno-ml code \n",
    "# NB: Those changes must have been made to the /tf/tmp/poleno-ml repository to have an effect on this notebook's code.\n",
    "# NB: However, changes made to the tmp repository are temporary and will be rolled back when Docker VM will be shutdown.\n",
    "#     If you want to make them permanent, dupplicate them to /tf/home/dependencies/poleno-ml.\n",
    "!pip install /tf/tmp/poleno-ml"
   ]
  },
  {
   "cell_type": "code",
   "execution_count": 2,
   "id": "f40e800f-c0ff-4152-877c-80aa230b8d94",
   "metadata": {
    "execution": {
     "iopub.execute_input": "2022-12-21T11:01:29.534313Z",
     "iopub.status.busy": "2022-12-21T11:01:29.533931Z",
     "iopub.status.idle": "2022-12-21T11:01:33.908920Z",
     "shell.execute_reply": "2022-12-21T11:01:33.907199Z",
     "shell.execute_reply.started": "2022-12-21T11:01:29.534270Z"
    },
    "tags": []
   },
   "outputs": [],
   "source": [
    "%load_ext autoreload\n",
    "%autoreload 2\n",
    "import copy\n",
    "import datetime\n",
    "import json\n",
    "import matplotlib.pyplot as plt\n",
    "from multiprocessing import Pool\n",
    "from multiprocessing.pool import ThreadPool\n",
    "import numpy as np\n",
    "import operator as op\n",
    "import os\n",
    "import pandas as pd\n",
    "from poleno_db_interface.database.filter import AndClause, OrClause, ConditionClause, DataColumn\n",
    "from poleno_db_interface.database.query_utils import DataColumn, finalize_query\n",
    "from poleno_ml.database.query_interface_ml import QueryInterfaceML, DatasetPipeline\n",
    "import poleno_db_interface.database.model.poleno_data_model as pdm\n",
    "import tensorflow as tf\n",
    "import tensorflow.keras as keras\n",
    "import time\n",
    "from tqdm.notebook import tqdm\n",
    "from uuid import UUID\n",
    "import uuid"
   ]
  },
  {
   "cell_type": "raw",
   "id": "b0f63d72-a2ea-4b55-9eeb-49df5e2c047b",
   "metadata": {
    "execution": {
     "iopub.status.busy": "2022-12-20T21:32:50.959583Z",
     "iopub.status.idle": "2022-12-20T21:32:50.959947Z",
     "shell.execute_reply": "2022-12-20T21:32:50.959789Z"
    },
    "tags": []
   },
   "source": [
    "# specifies which PhysicalDevice objects are visible to the runtime. TF will only allocate memory and place operations on visible physical devices\n",
    "gpu0 = tf.config.list_physical_devices('GPU')[0] # use GPU 0\n",
    "tf.config.set_visible_devices(gpu0, 'GPU')\n",
    "tf.config.experimental.set_virtual_device_configuration(\n",
    "    gpu0, \n",
    "    [tf.config.experimental.VirtualDeviceConfiguration(memory_limit=35_000)] # set max GPU memory usage\n",
    ")"
   ]
  },
  {
   "cell_type": "markdown",
   "id": "7f1ada55-c9f7-4733-8a8d-4c1aef768452",
   "metadata": {},
   "source": [
    "### Parameters"
   ]
  },
  {
   "cell_type": "code",
   "execution_count": 3,
   "id": "2fc6d8f5-ad12-42b1-b58c-1bc1475086f3",
   "metadata": {
    "execution": {
     "iopub.execute_input": "2022-12-21T11:01:33.911284Z",
     "iopub.status.busy": "2022-12-21T11:01:33.910882Z",
     "iopub.status.idle": "2022-12-21T11:01:33.983283Z",
     "shell.execute_reply": "2022-12-21T11:01:33.981622Z",
     "shell.execute_reply.started": "2022-12-21T11:01:33.911240Z"
    },
    "tags": []
   },
   "outputs": [],
   "source": [
    "model_name = 'real1_bis'\n",
    "start_date  = datetime.date(2020,2,19) # February 19th 2020\n",
    "end_date    = datetime.date(2021,11,1) # November 1st 2021\n",
    "hirst_file_path = os.path.join('validation_input', 'hirst_pay_19022020-01112021.csv')\n",
    "agg_freq = '1D' # 24H\n",
    "device_name = \"poleno-5\""
   ]
  },
  {
   "cell_type": "code",
   "execution_count": 17,
   "id": "1a61b8b6-8328-4044-b30f-4f9b82352169",
   "metadata": {
    "execution": {
     "iopub.execute_input": "2022-12-21T12:01:28.873779Z",
     "iopub.status.busy": "2022-12-21T12:01:28.873150Z",
     "iopub.status.idle": "2022-12-21T12:01:29.206612Z",
     "shell.execute_reply": "2022-12-21T12:01:29.199031Z",
     "shell.execute_reply.started": "2022-12-21T12:01:28.873732Z"
    },
    "tags": []
   },
   "outputs": [],
   "source": [
    "db_chunksize = 64\n",
    "pred_batch_size = 64\n",
    "assert pred_batch_size >= db_chunksize, 'Predictions are way slower if pred_batch_size is smaller than db_chunksize.'"
   ]
  },
  {
   "cell_type": "code",
   "execution_count": 5,
   "id": "8c8fee81-6390-4a90-ab01-285b5554ef89",
   "metadata": {
    "execution": {
     "iopub.execute_input": "2022-12-21T11:01:34.036768Z",
     "iopub.status.busy": "2022-12-21T11:01:34.036437Z",
     "iopub.status.idle": "2022-12-21T11:01:34.085611Z",
     "shell.execute_reply": "2022-12-21T11:01:34.083832Z",
     "shell.execute_reply.started": "2022-12-21T11:01:34.036737Z"
    },
    "tags": []
   },
   "outputs": [],
   "source": [
    "model_path = os.path.join('models', model_name, 'model')\n",
    "model_info_file_path = os.path.join(model_path, 'model_info.json')\n",
    "eval_cache_path = os.path.join('validation_input', f'cache_{device_name}_{start_date}-{end_date}')"
   ]
  },
  {
   "cell_type": "markdown",
   "id": "64ed2da5-6123-4e7e-97a3-4f4cac664588",
   "metadata": {
    "jp-MarkdownHeadingCollapsed": true,
    "tags": []
   },
   "source": [
    "#### Prepare the tf pipeline\n",
    "Similar to the training and testing, we set up a tf dataset pipeline. Here we use the more flexible function `query_interface_ml.prepare_tf_dataset_from_event_filter` which allows us to define any filter. Here, we use this to get all the event from one SwisensPoleno in a defined time range.\n",
    "\n",
    "Additionally, we filter out all events that do not comply with the minimal size and solidity conditions."
   ]
  },
  {
   "cell_type": "code",
   "execution_count": 6,
   "id": "33eaf4e8-b5e4-4242-9c3f-6bb088a43f2d",
   "metadata": {
    "execution": {
     "iopub.execute_input": "2022-12-21T11:01:34.087472Z",
     "iopub.status.busy": "2022-12-21T11:01:34.087170Z",
     "iopub.status.idle": "2022-12-21T11:01:51.120579Z",
     "shell.execute_reply": "2022-12-21T11:01:51.119228Z",
     "shell.execute_reply.started": "2022-12-21T11:01:34.087442Z"
    },
    "tags": []
   },
   "outputs": [],
   "source": [
    "# load trained model's info\n",
    "with open(model_info_file_path, 'r') as f:\n",
    "    model_info = json.loads(f.read())\n",
    "# load trained model\n",
    "model = keras.models.load_model(model_path, compile=False)"
   ]
  },
  {
   "cell_type": "code",
   "execution_count": 7,
   "id": "8701c41d-6388-43db-bb57-166f5ab86975",
   "metadata": {
    "execution": {
     "iopub.execute_input": "2022-12-21T11:01:51.121950Z",
     "iopub.status.busy": "2022-12-21T11:01:51.121741Z",
     "iopub.status.idle": "2022-12-21T11:01:51.183392Z",
     "shell.execute_reply": "2022-12-21T11:01:51.181841Z",
     "shell.execute_reply.started": "2022-12-21T11:01:51.121930Z"
    },
    "tags": []
   },
   "outputs": [],
   "source": [
    "eval_dir = os.path.join('models', model_info['model_name'], 'eval')\n",
    "os.makedirs(eval_dir, exist_ok=True)\n",
    "poleno_file_path = os.path.join(eval_dir, f'{device_name}_{start_date.strftime(\"%d%m%Y\")}-{end_date.strftime(\"%d%m%Y\")}.csv')"
   ]
  },
  {
   "cell_type": "markdown",
   "id": "3fdef443-c331-405d-9ecd-e4474bb96490",
   "metadata": {
    "tags": []
   },
   "source": [
    "### Get new model's predictions"
   ]
  },
  {
   "cell_type": "markdown",
   "id": "5ab1ba39-bd10-484c-862c-2cdb794dc8c6",
   "metadata": {
    "tags": []
   },
   "source": [
    "#### Pull raw data"
   ]
  },
  {
   "cell_type": "code",
   "execution_count": 8,
   "id": "74595c44-b6d2-4c5b-a53c-106ef991e26f",
   "metadata": {
    "execution": {
     "iopub.execute_input": "2022-12-21T11:01:51.186239Z",
     "iopub.status.busy": "2022-12-21T11:01:51.185768Z",
     "iopub.status.idle": "2022-12-21T11:01:51.501828Z",
     "shell.execute_reply": "2022-12-21T11:01:51.500052Z",
     "shell.execute_reply.started": "2022-12-21T11:01:51.186197Z"
    },
    "tags": []
   },
   "outputs": [],
   "source": [
    "import myloginpath\n",
    "db_config = myloginpath.parse('client', path='/tf/.mylogin.cnf')\n",
    "\n",
    "# Conect to the database and create an interface instance\n",
    "query_interface_ml = QueryInterfaceML(**db_config)"
   ]
  },
  {
   "cell_type": "code",
   "execution_count": 9,
   "id": "2c314a9a-9a14-4143-8f98-6ab42e2224da",
   "metadata": {
    "execution": {
     "iopub.execute_input": "2022-12-21T11:01:51.505220Z",
     "iopub.status.busy": "2022-12-21T11:01:51.503999Z",
     "iopub.status.idle": "2022-12-21T11:46:08.498068Z",
     "shell.execute_reply": "2022-12-21T11:46:08.496719Z",
     "shell.execute_reply.started": "2022-12-21T11:01:51.505174Z"
    },
    "scrolled": true,
    "tags": []
   },
   "outputs": [
    {
     "name": "stdout",
     "output_type": "stream",
     "text": [
      " received 2963000unique evet list finished. Calling prepare_tf_dataset function 1.8073307898239188\n"
     ]
    },
    {
     "data": {
      "text/plain": [
       "2963832"
      ]
     },
     "execution_count": 9,
     "metadata": {},
     "output_type": "execute_result"
    }
   ],
   "source": [
    "# load poleno's raw data measured during timerange\n",
    "filter_ = AndClause(\n",
    "    ConditionClause(pdm.Event.timestamp, op.gt, time.mktime(start_date.timetuple())),\n",
    "    ConditionClause(pdm.Event.timestamp, op.lt, time.mktime(end_date.timetuple())),\n",
    "    ConditionClause(pdm.Event.device_id_str, op.eq, device_name),\n",
    "    ConditionClause(pdm.ImageAnalysis.particleArea, op.ge, 625, \"img0\"),\n",
    "    ConditionClause(pdm.ImageAnalysis.particleArea, op.ge, 625, \"img1\"),\n",
    "    ConditionClause(pdm.ImageAnalysis.particleSolidity, op.ge, 0.9, \"img0\"),\n",
    "    ConditionClause(pdm.ImageAnalysis.particleSolidity, op.ge, 0.9, \"img1\"),\n",
    "    ConditionClause(pdm.ImageAnalysis.ImageData_id, op.eq, 0, \"img0\"),\n",
    "    ConditionClause(pdm.ImageAnalysis.ImageData_id, op.eq, 1, \"img1\"),\n",
    ")\n",
    "\n",
    "timeseries_dataset = query_interface_ml.prepare_tf_dataset_from_event_filter(\n",
    "    filter_=filter_,\n",
    "    batch_size=model_info['batch_size'],\n",
    "    model_features=copy.deepcopy(model_info['model_features']),\n",
    "    include_timestamps=True,\n",
    "    db_chunksize=db_chunksize\n",
    ")\n",
    "timeseries_dataset.dataset_length"
   ]
  },
  {
   "cell_type": "code",
   "execution_count": null,
   "id": "85e89534-0b5f-4e5a-bc51-6cceb23c71ba",
   "metadata": {},
   "outputs": [],
   "source": [
    "timeseries_dataset.enable_cache(eval_cache_path, prepare=True)"
   ]
  },
  {
   "cell_type": "code",
   "execution_count": 18,
   "id": "be6c7e96-7d07-4e02-ade2-6a18cd44c805",
   "metadata": {
    "execution": {
     "iopub.execute_input": "2022-12-21T12:01:33.593393Z",
     "iopub.status.busy": "2022-12-21T12:01:33.592823Z",
     "iopub.status.idle": "2022-12-21T12:01:34.047134Z",
     "shell.execute_reply": "2022-12-21T12:01:34.040116Z",
     "shell.execute_reply.started": "2022-12-21T12:01:33.593345Z"
    },
    "tags": []
   },
   "outputs": [],
   "source": [
    "# batch and prefetch\n",
    "timeseries_dataset.tf_dataset = timeseries_dataset.tf_dataset.unbatch().batch(pred_batch_size).prefetch(tf.data.AUTOTUNE)"
   ]
  },
  {
   "cell_type": "markdown",
   "id": "95ed4b03-18af-49a7-9b42-e07d814c8556",
   "metadata": {},
   "source": [
    "#### Predict"
   ]
  },
  {
   "cell_type": "raw",
   "id": "cb70fee2-3bd7-46a6-b862-16b7856680a7",
   "metadata": {
    "execution": {
     "iopub.execute_input": "2022-12-21T10:29:53.139000Z",
     "iopub.status.busy": "2022-12-21T10:29:53.138528Z",
     "iopub.status.idle": "2022-12-21T10:39:57.415090Z",
     "shell.execute_reply": "2022-12-21T10:39:57.411981Z",
     "shell.execute_reply.started": "2022-12-21T10:29:53.138960Z"
    },
    "jupyter": {
     "source_hidden": true
    },
    "tags": []
   },
   "source": [
    "# concurrent code isn't faster than the sequential version: I guess calls to the model's predict method are sequential either way.\n",
    "\n",
    "# get the model's predictions for each event\n",
    "labels = np.array(model_info['classes'])\n",
    "\n",
    "def concurrent_predict_(args):\n",
    "    id_batch, feature_batch = args\n",
    "    #feature_batch['input_1'] = feature_batch.pop('rec0') # only uncomment this if you need backward compatibility with the old model's architecture\n",
    "    #feature_batch['input_2'] = feature_batch.pop('rec1') # only uncomment this if you need backward compatibility with the old model's architecture\n",
    "    # compute predictions\n",
    "    preds = model.predict(feature_batch, verbose=False)\n",
    "    # append predicted labels and certainty\n",
    "    y_pred = np.argmax(preds, axis=-1)\n",
    "    certainties = np.max(preds, axis=-1)\n",
    "    pred_classes = labels[y_pred]\n",
    "    return pd.DataFrame({\n",
    "        'event_id': [id_.decode() for id_ in id_batch[\"id\"].numpy()],\n",
    "        'pred_class': pred_classes,\n",
    "        'pred_certainty': certainties,\n",
    "        'event_timestamp': [ts_ for ts_ in id_batch[\"timestamp\"].numpy()]\n",
    "    })\n",
    "# concurrently retrieve model's prediction for each event\n",
    "with ThreadPool(32) as pool:\n",
    "    list_batch_preds = list(tqdm(pool.imap(lambda args: concurrent_predict_(args), timeseries_dataset.get_data_pipeline(with_id=True)), \n",
    "                                 leave=False, total=timeseries_dataset.dataset_length // pred_batch_size))\n",
    "            \n",
    "df_poleno = pd.concat(list_batch_preds).reset_index(drop=True) # convert list of pd.DataFrame to one pd.DataFrame\n",
    "del list_batch_preds\n",
    "# convert timestamp from double to datetime\n",
    "df_poleno['event_timestamp'] = df_poleno['event_timestamp'].apply(float)\n",
    "df_poleno['event_timestamp'] = pd.to_datetime(df_poleno['event_timestamp'], unit=\"s\")\n",
    "df_poleno.index = df_poleno.event_timestamp\n",
    "df_poleno = df_poleno.drop(['event_timestamp'], axis=1)\n",
    "df_poleno.to_csv(poleno_file_path) # save to csv"
   ]
  },
  {
   "cell_type": "code",
   "execution_count": null,
   "id": "6bc3c8e7-d33c-42bf-a944-64a450d86109",
   "metadata": {
    "execution": {
     "iopub.execute_input": "2022-12-21T12:02:09.942012Z",
     "iopub.status.busy": "2022-12-21T12:02:09.941323Z"
    },
    "scrolled": true,
    "tags": []
   },
   "outputs": [
    {
     "data": {
      "application/vnd.jupyter.widget-view+json": {
       "model_id": "30a3c454a97242ec8002a627963f64e3",
       "version_major": 2,
       "version_minor": 0
      },
      "text/plain": [
       "  0%|          | 0/1447 [00:00<?, ?it/s]"
      ]
     },
     "metadata": {},
     "output_type": "display_data"
    }
   ],
   "source": [
    "# get the model's predictions for each event\n",
    "labels = np.array(model_info['classes'])\n",
    "list_batch_preds = []\n",
    "\n",
    "for id_batch, feature_batch in tqdm(timeseries_dataset.get_data_pipeline(with_id=True), \n",
    "                                    total=timeseries_dataset.dataset_length//pred_batch_size, leave=False):\n",
    "    #feature_batch['input_1'] = feature_batch.pop('rec0') # only uncomment this if you need backward compatibility with the old model's architecture\n",
    "    #feature_batch['input_2'] = feature_batch.pop('rec1') # only uncomment this if you need backward compatibility with the old model's architecture\n",
    "    # compute predictions\n",
    "    preds = model.predict(feature_batch, verbose=False)\n",
    "    # append predicted labels and certainty\n",
    "    y_pred = np.argmax(preds, axis=-1)\n",
    "    certainties = np.max(preds, axis=-1)\n",
    "    pred_classes = labels[y_pred]\n",
    "    list_batch_preds.append(pd.DataFrame({\n",
    "        'event_id': [id_.decode() for id_ in id_batch[\"id\"].numpy()],\n",
    "        'pred_class': pred_classes,\n",
    "        'pred_certainty': certainties,\n",
    "        'event_timestamp': [ts_ for ts_ in id_batch[\"timestamp\"].numpy()]\n",
    "    }))\n",
    "df_poleno = pd.concat(list_batch_preds).reset_index(drop=True) # convert list of pd.DataFrame to one pd.DataFrame\n",
    "del list_batch_preds\n",
    "# convert timestamp from double to datetime\n",
    "df_poleno['event_timestamp'] = df_poleno['event_timestamp'].apply(float)\n",
    "df_poleno['event_timestamp'] = pd.to_datetime(df_poleno['event_timestamp'], unit=\"s\")\n",
    "df_poleno.index = df_poleno.event_timestamp\n",
    "df_poleno = df_poleno.drop(['event_timestamp'], axis=1)\n",
    "df_poleno.to_csv(poleno_file_path) # save to csv"
   ]
  },
  {
   "cell_type": "code",
   "execution_count": null,
   "id": "3094ef24-0642-4b03-85bf-2000ef706977",
   "metadata": {
    "execution": {
     "iopub.status.busy": "2022-12-21T11:52:04.754917Z",
     "iopub.status.idle": "2022-12-21T11:52:04.755616Z",
     "shell.execute_reply": "2022-12-21T11:52:04.755423Z"
    },
    "tags": []
   },
   "outputs": [],
   "source": [
    "query_interface_ml.session.rollback()"
   ]
  },
  {
   "cell_type": "markdown",
   "id": "6e21048a-6371-4694-ae37-60ebaf47b67a",
   "metadata": {
    "tags": []
   },
   "source": [
    "### Get Hirst data"
   ]
  },
  {
   "cell_type": "code",
   "execution_count": null,
   "id": "0f31bba8-6e0b-46aa-86e5-4b9ea60ab823",
   "metadata": {
    "execution": {
     "iopub.status.busy": "2022-12-21T11:52:04.763687Z",
     "iopub.status.idle": "2022-12-21T11:52:04.764813Z",
     "shell.execute_reply": "2022-12-21T11:52:04.764625Z"
    },
    "tags": []
   },
   "outputs": [],
   "source": [
    "df_hirst = pd.read_csv(hirst_file_path)\n",
    "timestamp_cols = ['Year', 'Month', 'Day', 'Hour', 'Minute']\n",
    "df_hirst['event_timestamp'] = pd.to_datetime(df_hirst[timestamp_cols])\n",
    "df_hirst = df_hirst.drop(timestamp_cols, axis=1)\n",
    "df_hirst = df_hirst.replace(32767, np.nan)\n",
    "df_hirst.index = df_hirst.event_timestamp\n",
    "df_hirst = df_hirst[[c for c in df_hirst.columns if c in list(model_info['classes'])]]\n",
    "raise Exception('deal with NaN')\n",
    "df_hirst.head(3)"
   ]
  },
  {
   "cell_type": "markdown",
   "id": "2c969baa-11e7-4ecb-a1fc-2d136d886ee1",
   "metadata": {},
   "source": [
    "### Plots"
   ]
  },
  {
   "cell_type": "code",
   "execution_count": null,
   "id": "6fe05029-8a63-414f-840e-ba2e99d4dbb5",
   "metadata": {
    "execution": {
     "iopub.status.busy": "2022-12-21T11:52:04.786685Z",
     "iopub.status.idle": "2022-12-21T11:52:04.787105Z",
     "shell.execute_reply": "2022-12-21T11:52:04.786930Z"
    },
    "tags": []
   },
   "outputs": [],
   "source": [
    "# temporary cell\n",
    "new__ = df_poleno.copy()\n",
    "for col in df_poleno['pred_class'].unique():\n",
    "    new__[col] = (df_poleno['pred_class'] == col).astype(int)\n",
    "new__.resample(agg_freq).sum().max(), df_hirst.resample(agg_freq).sum().max()"
   ]
  },
  {
   "cell_type": "code",
   "execution_count": null,
   "id": "46270c7f-0745-4362-a59b-23ad577dcafc",
   "metadata": {
    "execution": {
     "iopub.status.busy": "2022-12-21T11:52:04.795093Z",
     "iopub.status.idle": "2022-12-21T11:52:04.798573Z",
     "shell.execute_reply": "2022-12-21T11:52:04.798381Z"
    },
    "tags": []
   },
   "outputs": [],
   "source": [
    "label_to_plot = 'Fraxinus'\n",
    "threshold = .9"
   ]
  },
  {
   "cell_type": "code",
   "execution_count": null,
   "id": "ed71ab58-ca5d-4675-ba2b-87e2a593a3f8",
   "metadata": {
    "execution": {
     "iopub.status.busy": "2022-12-21T11:52:04.805707Z",
     "iopub.status.idle": "2022-12-21T11:52:04.810727Z",
     "shell.execute_reply": "2022-12-21T11:52:04.810482Z"
    },
    "tags": []
   },
   "outputs": [],
   "source": [
    "# poleno\n",
    "df_poleno_to_plot = df_poleno[(df_poleno.pred_class == label_to_plot) & (df_poleno.pred_certainty > threshold)].rename(columns={'event_id': 'poleno'})\n",
    "df_poleno_to_plot = df_poleno_to_plot.resample(agg_freq).count() # frequency conversion and resampling of time series\n",
    "if df_poleno_to_plot.shape[0] <= 0: # if no event has been found, create \"empty\" time series\n",
    "    ix_ = pd.period_range(df_poleno.index.min(), df_poleno.index.max(), freq='1D')\n",
    "    df_poleno_to_plot = pd.DataFrame({'poleno': np.zeros(len(ix_))}, index=ix_)\n",
    "df_poleno_to_plot.head(3)"
   ]
  },
  {
   "cell_type": "code",
   "execution_count": null,
   "id": "a1ad8526-bbf4-419c-a7d2-114f987519bb",
   "metadata": {
    "execution": {
     "iopub.status.busy": "2022-12-21T11:52:04.815317Z",
     "iopub.status.idle": "2022-12-21T11:52:04.816019Z",
     "shell.execute_reply": "2022-12-21T11:52:04.815754Z"
    },
    "tags": []
   },
   "outputs": [],
   "source": [
    "# hirst\n",
    "df_hirst_to_plot = pd.DataFrame({'hirst': df_hirst[label_to_plot].resample(agg_freq).sum()})\n",
    "df_hirst_to_plot.head(3)"
   ]
  },
  {
   "cell_type": "code",
   "execution_count": null,
   "id": "908a1919-cb94-4752-878c-5b04c44b6750",
   "metadata": {
    "execution": {
     "iopub.status.busy": "2022-12-21T11:52:04.832925Z",
     "iopub.status.idle": "2022-12-21T11:52:04.833503Z",
     "shell.execute_reply": "2022-12-21T11:52:04.833307Z"
    },
    "tags": []
   },
   "outputs": [],
   "source": [
    "df_final_plot = df_poleno_to_plot.merge(df_hirst_to_plot, on='event_timestamp', how='outer')[['poleno', 'hirst']]\n",
    "df_final_plot = df_final_plot['2020-02-19':'2020-07-01']\n",
    "print(df_final_plot.corr())\n",
    "fig = df_final_plot.plot(figsize=(5, 3), title=label_to_plot, ylabel='concentration')\n",
    "fig.plot()\n",
    "plt.show()"
   ]
  },
  {
   "cell_type": "code",
   "execution_count": null,
   "id": "01261fd2-af5f-4ec3-9fc4-3802c88e1697",
   "metadata": {
    "execution": {
     "iopub.status.busy": "2022-12-21T11:52:04.834548Z",
     "iopub.status.idle": "2022-12-21T11:52:04.834934Z",
     "shell.execute_reply": "2022-12-21T11:52:04.834765Z"
    },
    "tags": []
   },
   "outputs": [],
   "source": [
    "df_final_plot.corr().poleno.hirst"
   ]
  },
  {
   "cell_type": "raw",
   "id": "c0e0e5ff-9b68-4e7a-8f22-f94890f822c2",
   "metadata": {},
   "source": [
    "possibilité de mesurer la corrélation par taxa et la corrélation moyenne globale\n",
    "possibilité de plot les courbes par taxa (moyenne des pollenos)\n",
    "possibilité de plot l'erreur"
   ]
  },
  {
   "cell_type": "raw",
   "id": "2fe80e72-1958-4903-bb23-25330d9c074d",
   "metadata": {
    "execution": {
     "iopub.execute_input": "2022-12-12T09:53:48.786043Z",
     "iopub.status.busy": "2022-12-12T09:53:48.785391Z",
     "iopub.status.idle": "2022-12-12T09:53:49.330627Z",
     "shell.execute_reply": "2022-12-12T09:53:49.329471Z",
     "shell.execute_reply.started": "2022-12-12T09:53:48.786002Z"
    },
    "tags": []
   },
   "source": [
    "# plot concentrations\n",
    "fig = df_poleno_to_plot.plot.line(\n",
    "    ylabel='concentration',\n",
    "    legend=False,\n",
    "    title=label_to_plot,\n",
    "    color='red',\n",
    "    figsize=(12,12)\n",
    ")\n",
    "fig.plot()\n",
    "plt.show()"
   ]
  },
  {
   "cell_type": "raw",
   "id": "4b644e2e-c9fa-4ab3-bcf8-9e89d18f7f2c",
   "metadata": {
    "execution": {
     "iopub.execute_input": "2022-12-12T09:43:32.357212Z",
     "iopub.status.busy": "2022-12-12T09:43:32.356797Z",
     "iopub.status.idle": "2022-12-12T09:43:32.726099Z",
     "shell.execute_reply": "2022-12-12T09:43:32.724855Z",
     "shell.execute_reply.started": "2022-12-12T09:43:32.357181Z"
    },
    "tags": []
   },
   "source": [
    "fig = df_hirst_to_plot.plot.line(\n",
    "    ylabel='concentration',\n",
    "    legend=False,\n",
    "    title=label_to_plot,\n",
    "    color='red',\n",
    "    figsize=(12,12)\n",
    ")\n",
    "fig.plot()\n",
    "plt.show()"
   ]
  },
  {
   "cell_type": "code",
   "execution_count": null,
   "id": "1135e920-7810-4b7c-b3bc-cec53d8809a9",
   "metadata": {
    "execution": {
     "iopub.status.busy": "2022-12-21T11:52:04.836329Z",
     "iopub.status.idle": "2022-12-21T11:52:04.839146Z",
     "shell.execute_reply": "2022-12-21T11:52:04.838902Z"
    },
    "tags": []
   },
   "outputs": [],
   "source": [
    "## 1.2 read hirst df\n",
    "print('read hirst data...')\n",
    "hirstfile = \"hirst_pay_19022020-24052020.csv\"\n",
    "df_hirst = pd.DataFrame(pd.read_csv(hirstfile))\n",
    "# create timestamp index\n",
    "df_hirst['timestamp'] = df_hirst.apply(lambda x: datetime.datetime(x['Year'], x['Month'], x['Day'], x['Hour'], x['Minute']), axis=1)\n",
    "# filter the data\n",
    "df_hirst = df_hirst.set_index('timestamp')[[lbl for lbl in labels if lbl in df_hirst.columns]]\n",
    "#df_hirst.columns = labels\n",
    "df_hirst = df_hirst.replace(32767,np.nan)\n",
    "df_hirst.head()"
   ]
  },
  {
   "cell_type": "code",
   "execution_count": null,
   "id": "1c52a408-816d-48da-8e52-abcf822a58b0",
   "metadata": {
    "execution": {
     "iopub.status.busy": "2022-12-21T11:52:04.843027Z",
     "iopub.status.idle": "2022-12-21T11:52:04.843474Z",
     "shell.execute_reply": "2022-12-21T11:52:04.843298Z"
    }
   },
   "outputs": [],
   "source": [
    "## 3.3 resample hirst data\n",
    "print('resample hirst...')\n",
    "agg_time = pd.date_range(start=start_date, end=end_date, freq=agg_freq)\n",
    "df_hirst_agg = pd.DataFrame(index=agg_time, columns=df_hirst.columns)\n",
    "\n",
    "# need explanations:\n",
    "for t in agg_time:\n",
    "    tstr = t.strftime('%Y-%m-%d %H:%M:00')\n",
    "    print(tstr)\n",
    "    if pd.Timedelta(agg_freq) >= pd.Timedelta('1d'):\n",
    "        tmp_bool = (df_hirst.index >= t) & (df_hirst.index < (t+pd.Timedelta(agg_freq)))\n",
    "    else:\n",
    "        tmp_bool = (df_hirst.index > (t-pd.Timedelta(agg_freq))) & (df_hirst.index <= t)\n",
    "    \n",
    "    for label in labels:\n",
    "        df_hirst_agg.loc[tstr][label]=np.nanmean(df_hirst[tmp_bool][label])\n",
    "\n",
    "if abc_switch:\n",
    "    df_hirst_agg['abc'] = df_hirst_agg[['alnus','betula','corylus']].sum(axis=1)\n",
    "# ---\n",
    "\n",
    "labels = df_hirst_agg.columns\n",
    "df_hirst_agg.to_csv(output_path+\"hirst.csv\")\n",
    "\n",
    "### ==========================================\n",
    "df_corr_all = pd.DataFrame(columns=labels)\n",
    "df_corr_all['seuil']=np.nan\n",
    "for seuil in seuils:\n",
    "    ### 4. correlation ==============================\n",
    "    print('computing correlations...')\n",
    "    df_corr = pd.DataFrame(columns=labels, index=['hirst-p2','hirst-p4','hirst-p5','p2-p4','p2-p5','p4-p5','avg_hirst','avg_p2','avg_p4','avg_p5'])\n",
    "    for label in labels:\n",
    "        df_corr.loc['avg_hirst'][label] = df_hirst_agg[label].mean()\n",
    "        if pswitch[0] == 1:\n",
    "            df_corr.loc['hirst-p2'][label] = pd.concat([df_hirst_agg[label],df_p2_agg[label]],axis=1).astype(float).corr().to_numpy()[0][1]\n",
    "            df_corr.loc['avg_p2'][label] = df_p2_agg[label].mean()\n",
    "        if pswitch[1] == 1:    \n",
    "            df_corr.loc['hirst-p4'][label] = pd.concat([df_hirst_agg[label],df_p4_agg[label]],axis=1).astype(float).corr().to_numpy()[0][1]\n",
    "            df_corr.loc['avg_p4'][label] = df_p4_agg[label].mean()\n",
    "        if pswitch[2] == 1:    \n",
    "            df_corr.loc['hirst-p5'][label] = pd.concat([df_hirst_agg[label],df_p5_agg[label]],axis=1).astype(float).corr().to_numpy()[0][1]\n",
    "            df_corr.loc['avg_p5'][label] = df_p5_agg[label].mean()\n",
    "        if pswitch[0] + pswitch[1] == 2:\n",
    "            df_corr.loc['p2-p4'][label] = pd.concat([df_p2_agg[label],df_p4_agg[label]],axis=1).astype(float).corr().to_numpy()[0][1]\n",
    "        if pswitch[0] + pswitch[2] == 2:\n",
    "            df_corr.loc['p2-p5'][label] = pd.concat([df_p2_agg[label],df_p5_agg[label]],axis=1).astype(float).corr().to_numpy()[0][1]\n",
    "        if pswitch[1] + pswitch[2] == 2:\n",
    "            df_corr.loc['p4-p5'][label] = pd.concat([df_p4_agg[label],df_p5_agg[label]],axis=1).astype(float).corr().to_numpy()[0][1]\n",
    "        \n",
    "    #df_corr.to_csv(output_path+seuillabel+\"_correlations.csv\")\n",
    "    df_corr['seuil']=seuil\n",
    "    df_corr_all = pd.concat([df_corr_all,df_corr])"
   ]
  },
  {
   "cell_type": "raw",
   "id": "8cabb8e3-8e9b-42aa-9c1c-cfedad769a7f",
   "metadata": {},
   "source": [
    "corr, FP\n",
    "it's worse to have 5% error in a period where concentration should be close to 0 than during a period where concentrations are high (peaks)"
   ]
  },
  {
   "cell_type": "markdown",
   "id": "d9bd4bfa-636d-4048-856c-b6bbc8e33bb1",
   "metadata": {
    "tags": []
   },
   "source": [
    "#### Old Prepare poleno data"
   ]
  },
  {
   "cell_type": "raw",
   "id": "02fccaf4-1d26-4ad5-a23f-b56f91d9112a",
   "metadata": {
    "execution": {
     "iopub.execute_input": "2022-12-15T13:05:10.522110Z",
     "iopub.status.busy": "2022-12-15T13:05:10.521490Z",
     "iopub.status.idle": "2022-12-15T13:05:12.099421Z",
     "shell.execute_reply": "2022-12-15T13:05:12.097787Z",
     "shell.execute_reply.started": "2022-12-15T13:05:10.522064Z"
    },
    "tags": []
   },
   "source": [
    "# query the DB to get each event's timestamp\n",
    "df = pd.read_csv(preds_file_path, index_col=0)\n",
    "columns_ = [\n",
    "    DataColumn(pdm.Event.event_id_uuid),\n",
    "    DataColumn(pdm.Event.timestamp),\n",
    "]\n",
    "\n",
    "df_meta = pd.DataFrame(columns=[\"event_id\", \"event_timestamp\"])\n",
    "for df_chunk in tqdm(np.array_split(df, 100)):\n",
    "    filter_ = AndClause(\n",
    "        ConditionClause(\n",
    "            pdm.Event.event_id_bin, \"IN\", [UUID(id_).bytes for id_ in df_chunk[\"event_id\"]]\n",
    "        )\n",
    "    )\n",
    "    result = query_interface_ml.session.execute(\n",
    "        finalize_query(\n",
    "            columns=columns_,\n",
    "            filter_clause=filter_\n",
    "        )\n",
    "    )\n",
    "    df_tmp = pd.DataFrame(result, columns=[\"event_id\", \"event_timestamp\"])\n",
    "    df_meta = pd.concat([df_meta, df_tmp])\n",
    "\n",
    "df_meta[\"event_timestamp\"] = df_meta[\"event_timestamp\"].apply(float)\n",
    "df_meta[\"event_timestamp\"] = pd.to_datetime(df_meta[\"event_timestamp\"], unit=\"s\")\n",
    "df_meta.to_csv(timestamps_file_path)"
   ]
  },
  {
   "cell_type": "raw",
   "id": "af8ef979-a02d-4a5e-b95b-61ab86c36082",
   "metadata": {
    "execution": {
     "iopub.status.busy": "2022-12-15T11:20:37.028489Z",
     "iopub.status.idle": "2022-12-15T11:20:37.028855Z",
     "shell.execute_reply": "2022-12-15T11:20:37.028696Z"
    },
    "tags": []
   },
   "source": [
    "# merge\n",
    "df = pd.read_csv(preds_file_path, index_col=0)\n",
    "df_meta = pd.read_csv(timestamps_file_path, index_col=0)\n",
    "merged_df = pd.merge(df_meta, df, left_on=\"event_id\", right_on=\"event_id\")\n",
    "merged_df = merged_df.set_index(\"event_timestamp\")\n",
    "#merged_df[merged_df.duplicated()]\n",
    "merged_df.to_csv(poleno_file_path)"
   ]
  }
 ],
 "metadata": {
  "kernelspec": {
   "display_name": "Python 3",
   "language": "python",
   "name": "python3"
  },
  "language_info": {
   "codemirror_mode": {
    "name": "ipython",
    "version": 3
   },
   "file_extension": ".py",
   "mimetype": "text/x-python",
   "name": "python",
   "nbconvert_exporter": "python",
   "pygments_lexer": "ipython3",
   "version": "3.8.10"
  }
 },
 "nbformat": 4,
 "nbformat_minor": 5
}
