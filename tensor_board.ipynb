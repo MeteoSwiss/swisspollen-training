{
 "cells": [
  {
   "cell_type": "code",
   "execution_count": 1,
   "id": "d079d92a-87c4-49da-9685-f3e8bf0b9887",
   "metadata": {
    "execution": {
     "iopub.execute_input": "2023-05-01T11:30:21.564708Z",
     "iopub.status.busy": "2023-05-01T11:30:21.564258Z",
     "iopub.status.idle": "2023-05-01T11:30:24.215806Z",
     "shell.execute_reply": "2023-05-01T11:30:24.214563Z",
     "shell.execute_reply.started": "2023-05-01T11:30:21.564607Z"
    },
    "tags": []
   },
   "outputs": [],
   "source": [
    "import tensorflow_addons as tfa\n",
    "import tensorflow.keras as keras"
   ]
  },
  {
   "cell_type": "code",
   "execution_count": 2,
   "id": "50ca5eef-e4ae-475e-a953-623c5cd8dcb7",
   "metadata": {
    "execution": {
     "iopub.execute_input": "2023-05-01T11:30:24.217465Z",
     "iopub.status.busy": "2023-05-01T11:30:24.217107Z",
     "iopub.status.idle": "2023-05-01T11:30:24.220916Z",
     "shell.execute_reply": "2023-05-01T11:30:24.220160Z",
     "shell.execute_reply.started": "2023-05-01T11:30:24.217444Z"
    },
    "tags": []
   },
   "outputs": [],
   "source": [
    "#!kill 4261"
   ]
  },
  {
   "cell_type": "code",
   "execution_count": 3,
   "id": "77699f32-3f1a-485a-9fcc-a6120f2027f6",
   "metadata": {
    "execution": {
     "iopub.execute_input": "2023-05-01T11:30:24.222248Z",
     "iopub.status.busy": "2023-05-01T11:30:24.222069Z",
     "iopub.status.idle": "2023-05-01T11:30:24.227330Z",
     "shell.execute_reply": "2023-05-01T11:30:24.226622Z",
     "shell.execute_reply.started": "2023-05-01T11:30:24.222231Z"
    },
    "tags": []
   },
   "outputs": [],
   "source": [
    "%load_ext tensorboard"
   ]
  },
  {
   "cell_type": "code",
   "execution_count": 4,
   "id": "44e78798-56ff-4667-bca4-e4d3fa189614",
   "metadata": {
    "execution": {
     "iopub.execute_input": "2023-05-01T11:31:26.742068Z",
     "iopub.status.busy": "2023-05-01T11:31:26.741573Z",
     "iopub.status.idle": "2023-05-01T11:31:26.748135Z",
     "shell.execute_reply": "2023-05-01T11:31:26.746793Z",
     "shell.execute_reply.started": "2023-05-01T11:31:26.742028Z"
    },
    "tags": []
   },
   "outputs": [],
   "source": [
    "\n",
    "#logdir = 'models/prod_old+other/training/logs/20230208-135024'\n",
    "#logdir = 'models/prod_new+others/training/logs/20230207-163413'\n",
    "#logdir = 'models/prod/training/logs/20230207-133704'\n",
    "#logdir = 'models/prod_new+other_trash/training/logs/20230209-075841'\n",
    "#logdir='models/prod_old+other/training/logs/20230209-163920'\n",
    "#logdir='models/prod/training/logs/20230207-133704'\n",
    "#logdir = 'models/14Pol_Rain_10M_param_NEW_overfit/training/logs/20230310-160802'\n",
    "logdir = 'models/14Pol_Rain_10M_param_NEW/training/logs/20230213-101858'\n",
    "#logdir = 'models/EffNET-B0NEW/training/logs/20230310-160747'\n",
    "#logdir='models/EffNET-B2_NEW/training/logs/20230310-160747'\n",
    "logdir = 'models/EffNET-B0_NEW_trash/training/logs/20230321-161150'\n",
    "logdir = 'models/EffNET-B0_NEW_trash4/training/logs/20230405-081000'\n",
    "logdir = 'models/EffNET-B0_NEW_trash4/training/logs/20230428-122736'"
   ]
  },
  {
   "cell_type": "code",
   "execution_count": 5,
   "id": "6bea3b3b-16b7-4af3-adce-d51933c597d9",
   "metadata": {
    "execution": {
     "iopub.execute_input": "2023-05-01T11:31:28.681433Z",
     "iopub.status.busy": "2023-05-01T11:31:28.681025Z",
     "iopub.status.idle": "2023-05-01T11:31:28.701937Z",
     "shell.execute_reply": "2023-05-01T11:31:28.701014Z",
     "shell.execute_reply.started": "2023-05-01T11:31:28.681395Z"
    },
    "tags": []
   },
   "outputs": [
    {
     "data": {
      "text/plain": [
       "Reusing TensorBoard on port 6006 (pid 368), started 2 days, 22:40:27 ago. (Use '!kill 368' to kill it.)"
      ]
     },
     "metadata": {},
     "output_type": "display_data"
    },
    {
     "data": {
      "text/html": [
       "\n",
       "      <iframe id=\"tensorboard-frame-699d16c97d98be5e\" width=\"100%\" height=\"800\" frameborder=\"0\">\n",
       "      </iframe>\n",
       "      <script>\n",
       "        (function() {\n",
       "          const frame = document.getElementById(\"tensorboard-frame-699d16c97d98be5e\");\n",
       "          const url = new URL(\"/\", window.location);\n",
       "          const port = 6006;\n",
       "          if (port) {\n",
       "            url.port = port;\n",
       "          }\n",
       "          frame.src = url;\n",
       "        })();\n",
       "      </script>\n",
       "    "
      ],
      "text/plain": [
       "<IPython.core.display.HTML object>"
      ]
     },
     "metadata": {},
     "output_type": "display_data"
    }
   ],
   "source": [
    "%tensorboard --logdir={logdir} --bind_all --port 6006"
   ]
  },
  {
   "cell_type": "code",
   "execution_count": 6,
   "id": "c9fbc14f-3c27-4c07-b06c-c8148ddbcd08",
   "metadata": {
    "execution": {
     "iopub.execute_input": "2023-05-01T11:31:30.882708Z",
     "iopub.status.busy": "2023-05-01T11:31:30.882174Z",
     "iopub.status.idle": "2023-05-01T11:31:30.887920Z",
     "shell.execute_reply": "2023-05-01T11:31:30.886513Z",
     "shell.execute_reply.started": "2023-05-01T11:31:30.882665Z"
    },
    "tags": []
   },
   "outputs": [],
   "source": [
    "from tensorboard import notebook"
   ]
  },
  {
   "cell_type": "code",
   "execution_count": 7,
   "id": "53b22387-fc86-4b70-ba30-da27bc6454d4",
   "metadata": {
    "execution": {
     "iopub.execute_input": "2023-05-01T11:31:32.225095Z",
     "iopub.status.busy": "2023-05-01T11:31:32.224682Z",
     "iopub.status.idle": "2023-05-01T11:31:32.231181Z",
     "shell.execute_reply": "2023-05-01T11:31:32.230241Z",
     "shell.execute_reply.started": "2023-05-01T11:31:32.225058Z"
    },
    "tags": []
   },
   "outputs": [
    {
     "name": "stdout",
     "output_type": "stream",
     "text": [
      "Known TensorBoard instances:\n",
      "  - port 6006: logdir models/EffNET-B0_NEW_trash4/training/logs/20230428-122736 (started 2 days, 22:40:31 ago; pid 368)\n"
     ]
    }
   ],
   "source": [
    "notebook.list()"
   ]
  },
  {
   "cell_type": "code",
   "execution_count": null,
   "id": "36b28e6a-354a-436f-88e4-37e7ebe1f1c9",
   "metadata": {},
   "outputs": [],
   "source": []
  },
  {
   "cell_type": "code",
   "execution_count": null,
   "id": "977ac503-9c5b-4ba1-b7f0-1bf904205fe9",
   "metadata": {},
   "outputs": [],
   "source": []
  }
 ],
 "metadata": {
  "kernelspec": {
   "display_name": "Python 3",
   "language": "python",
   "name": "python3"
  },
  "language_info": {
   "codemirror_mode": {
    "name": "ipython",
    "version": 3
   },
   "file_extension": ".py",
   "mimetype": "text/x-python",
   "name": "python",
   "nbconvert_exporter": "python",
   "pygments_lexer": "ipython3",
   "version": "3.8.10"
  }
 },
 "nbformat": 4,
 "nbformat_minor": 5
}
