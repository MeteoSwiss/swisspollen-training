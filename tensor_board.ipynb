{
 "cells": [
  {
   "cell_type": "code",
   "execution_count": 1,
   "id": "d079d92a-87c4-49da-9685-f3e8bf0b9887",
   "metadata": {
    "execution": {
     "iopub.execute_input": "2023-02-10T08:50:08.713772Z",
     "iopub.status.busy": "2023-02-10T08:50:08.713287Z",
     "iopub.status.idle": "2023-02-10T08:50:11.331082Z",
     "shell.execute_reply": "2023-02-10T08:50:11.330122Z",
     "shell.execute_reply.started": "2023-02-10T08:50:08.713668Z"
    },
    "tags": []
   },
   "outputs": [],
   "source": [
    "import tensorflow_addons as tfa\n",
    "import tensorflow.keras as keras"
   ]
  },
  {
   "cell_type": "code",
   "execution_count": 1,
   "id": "50ca5eef-e4ae-475e-a953-623c5cd8dcb7",
   "metadata": {
    "execution": {
     "iopub.execute_input": "2023-02-10T09:18:41.537377Z",
     "iopub.status.busy": "2023-02-10T09:18:41.536997Z",
     "iopub.status.idle": "2023-02-10T09:18:41.541290Z",
     "shell.execute_reply": "2023-02-10T09:18:41.540438Z",
     "shell.execute_reply.started": "2023-02-10T09:18:41.537295Z"
    },
    "tags": []
   },
   "outputs": [],
   "source": [
    "#!kill 4261"
   ]
  },
  {
   "cell_type": "code",
   "execution_count": 2,
   "id": "77699f32-3f1a-485a-9fcc-a6120f2027f6",
   "metadata": {
    "execution": {
     "iopub.execute_input": "2023-02-10T09:18:42.211390Z",
     "iopub.status.busy": "2023-02-10T09:18:42.211061Z",
     "iopub.status.idle": "2023-02-10T09:18:42.218945Z",
     "shell.execute_reply": "2023-02-10T09:18:42.218186Z",
     "shell.execute_reply.started": "2023-02-10T09:18:42.211363Z"
    },
    "tags": []
   },
   "outputs": [],
   "source": [
    "%load_ext tensorboard"
   ]
  },
  {
   "cell_type": "code",
   "execution_count": 3,
   "id": "44e78798-56ff-4667-bca4-e4d3fa189614",
   "metadata": {
    "execution": {
     "iopub.execute_input": "2023-02-10T09:18:43.139387Z",
     "iopub.status.busy": "2023-02-10T09:18:43.139118Z",
     "iopub.status.idle": "2023-02-10T09:18:43.142441Z",
     "shell.execute_reply": "2023-02-10T09:18:43.141685Z",
     "shell.execute_reply.started": "2023-02-10T09:18:43.139362Z"
    },
    "tags": []
   },
   "outputs": [],
   "source": [
    "\n",
    "#logdir = 'models/prod_old+other/training/logs/20230208-135024'\n",
    "#logdir = 'models/prod_new+others/training/logs/20230207-163413'\n",
    "#logdir = 'models/prod/training/logs/20230207-133704'\n",
    "#logdir = 'models/prod_new+other_trash/training/logs/20230209-075841'\n",
    "#logdir='models/prod_old+other/training/logs/20230209-163920'\n",
    "#logdir='models/prod/training/logs/20230207-133704'\n",
    "logdir='home/models/prod_new+others/training/logs/20230207-163413/train'"
   ]
  },
  {
   "cell_type": "code",
   "execution_count": 4,
   "id": "6bea3b3b-16b7-4af3-adce-d51933c597d9",
   "metadata": {
    "execution": {
     "iopub.execute_input": "2023-02-10T09:18:44.892007Z",
     "iopub.status.busy": "2023-02-10T09:18:44.891697Z",
     "iopub.status.idle": "2023-02-10T09:18:49.421795Z",
     "shell.execute_reply": "2023-02-10T09:18:49.420585Z",
     "shell.execute_reply.started": "2023-02-10T09:18:44.891980Z"
    },
    "tags": []
   },
   "outputs": [
    {
     "data": {
      "text/html": [
       "\n",
       "      <iframe id=\"tensorboard-frame-53af9f91c70b0ab1\" width=\"100%\" height=\"800\" frameborder=\"0\">\n",
       "      </iframe>\n",
       "      <script>\n",
       "        (function() {\n",
       "          const frame = document.getElementById(\"tensorboard-frame-53af9f91c70b0ab1\");\n",
       "          const url = new URL(\"/\", window.location);\n",
       "          const port = 6006;\n",
       "          if (port) {\n",
       "            url.port = port;\n",
       "          }\n",
       "          frame.src = url;\n",
       "        })();\n",
       "      </script>\n",
       "    "
      ],
      "text/plain": [
       "<IPython.core.display.HTML object>"
      ]
     },
     "metadata": {},
     "output_type": "display_data"
    }
   ],
   "source": [
    "%tensorboard --logdir={logdir} --bind_all --port 6006"
   ]
  },
  {
   "cell_type": "code",
   "execution_count": 6,
   "id": "c9fbc14f-3c27-4c07-b06c-c8148ddbcd08",
   "metadata": {
    "execution": {
     "iopub.execute_input": "2023-02-10T08:10:19.288861Z",
     "iopub.status.busy": "2023-02-10T08:10:19.288405Z",
     "iopub.status.idle": "2023-02-10T08:10:19.293596Z",
     "shell.execute_reply": "2023-02-10T08:10:19.292411Z",
     "shell.execute_reply.started": "2023-02-10T08:10:19.288820Z"
    },
    "tags": []
   },
   "outputs": [],
   "source": [
    "from tensorboard import notebook"
   ]
  },
  {
   "cell_type": "code",
   "execution_count": 29,
   "id": "53b22387-fc86-4b70-ba30-da27bc6454d4",
   "metadata": {
    "execution": {
     "iopub.execute_input": "2023-02-09T12:32:54.503658Z",
     "iopub.status.busy": "2023-02-09T12:32:54.503264Z",
     "iopub.status.idle": "2023-02-09T12:32:54.509021Z",
     "shell.execute_reply": "2023-02-09T12:32:54.507966Z",
     "shell.execute_reply.started": "2023-02-09T12:32:54.503618Z"
    },
    "tags": []
   },
   "outputs": [
    {
     "name": "stdout",
     "output_type": "stream",
     "text": [
      "Known TensorBoard instances:\n",
      "  - port 6006: logdir models/prod/training/logs/20230207-133704/train/events.out.tfevents.1675782988.77bb513bd67f.1260.1.v2 (started 0:09:49 ago; pid 4607)\n"
     ]
    }
   ],
   "source": [
    "notebook.list()"
   ]
  },
  {
   "cell_type": "code",
   "execution_count": null,
   "id": "36b28e6a-354a-436f-88e4-37e7ebe1f1c9",
   "metadata": {},
   "outputs": [],
   "source": []
  }
 ],
 "metadata": {
  "kernelspec": {
   "display_name": "Python 3",
   "language": "python",
   "name": "python3"
  },
  "language_info": {
   "codemirror_mode": {
    "name": "ipython",
    "version": 3
   },
   "file_extension": ".py",
   "mimetype": "text/x-python",
   "name": "python",
   "nbconvert_exporter": "python",
   "pygments_lexer": "ipython3",
   "version": "3.8.10"
  }
 },
 "nbformat": 4,
 "nbformat_minor": 5
}
